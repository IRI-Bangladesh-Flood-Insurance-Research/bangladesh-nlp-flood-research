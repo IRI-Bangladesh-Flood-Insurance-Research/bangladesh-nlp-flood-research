{
 "cells": [
  {
   "cell_type": "code",
   "execution_count": 1,
   "metadata": {},
   "outputs": [],
   "source": [
    "import matplotlib.pyplot as plt\n",
    "import json\n",
    "import os\n",
    "import requests\n",
    "import pandas as pd\n",
    "import dateparser\n",
    "from collections import defaultdict\n",
    "import xmltodict\n",
    "from functions import *\n",
    "import numpy as np"
   ]
  },
  {
   "cell_type": "code",
   "execution_count": 17,
   "metadata": {},
   "outputs": [],
   "source": [
    "def get_articles_df(df_data, query_key, query_terms):\n",
    "    new_df = None\n",
    "    if type(query_terms)==str: query_terms = [query_terms]\n",
    "    for d in query_terms:\n",
    "        temp_df = df_data[df_data[query_key].apply(lambda x: d.lower() in [i.lower() for i in x])]\n",
    "        if new_df is None: new_df = temp_df\n",
    "        else: new_df = pd.concat([new_df, temp_df])\n",
    "    return new_df\n",
    "\n",
    "def get_division_articles(df_data, divisions):\n",
    "    return get_articles_df(df_data, 'divisions', divisions)\n",
    "\n",
    "def get_district_articles(df_data, districts):\n",
    "    return get_articles_df(df_data, 'districts', districts)"
   ]
  },
  {
   "cell_type": "markdown",
   "metadata": {},
   "source": [
    "#### Jsonl to Json"
   ]
  },
  {
   "cell_type": "code",
   "execution_count": 28,
   "metadata": {},
   "outputs": [],
   "source": [
    "jsonl_to_json = False"
   ]
  },
  {
   "cell_type": "code",
   "execution_count": 29,
   "metadata": {},
   "outputs": [],
   "source": [
    "if jsonl_to_json:\n",
    "    jsonlFile = 'other_data/tweets.jsonl'\n",
    "    jsonFile = 'other_data/tweets.json'\n",
    "    lines = [json.loads(f) for f in open(jsonlFile)]\n",
    "    json.dump(lines, open(jsonFile,'w'),indent=2)"
   ]
  },
  {
   "cell_type": "markdown",
   "metadata": {},
   "source": [
    "## Get Division and District GeoID Mapping"
   ]
  },
  {
   "cell_type": "markdown",
   "metadata": {},
   "source": [
    "Get all GeoIDs from data and store the name associated with them. This way, don't have to call the api every time to find the geoID"
   ]
  },
  {
   "cell_type": "code",
   "execution_count": 26,
   "metadata": {},
   "outputs": [],
   "source": [
    "run_GeoID_save = False"
   ]
  },
  {
   "cell_type": "code",
   "execution_count": 27,
   "metadata": {},
   "outputs": [],
   "source": [
    "if run_GeoID_save:\n",
    "    twitter_df = pd.read_json('other_data/tweets.json')\n",
    "    save_file = 'GeoIDMap.json'\n",
    "    arr = []\n",
    "    # First extract all locations related to Bangladesh\n",
    "    for t in twitter_df['locations']:\n",
    "        innerArr = []\n",
    "        for tt in t:\n",
    "            # If Bangladesh GeoID and type of location not country\n",
    "#             if tt['country_location_ID'] == 'g-1210997' and tt['type']!='country':\n",
    "            if tt['level_0_region'] == 'g-1210997' and tt['type']!='country':\n",
    "                innerArr.append(tt)\n",
    "        arr.append(innerArr)\n",
    "\n",
    "    # For all extracted locations - get level_1_region as division.\n",
    "    # Query api to get division name\n",
    "    divisionGeoIDMap = {}\n",
    "#     for gID in set([a['adm1_location_ID'] for aa in arr for a in aa]):\n",
    "    for gID in set([a['level_1_region'] for aa in arr for a in aa]):\n",
    "        geoID = gID.split('-')[1]\n",
    "        url = 'http://api.geonames.org/get?geonameId={}&username=tvp2107'\n",
    "        resp = requests.get(url.format(geoID))\n",
    "        divisionGeoIDMap[gID] = xmltodict.parse(resp.text)['geoname']['adminName1']\n",
    "    divisionGeoIDMap\n",
    "\n",
    "    # For all location if type != adm1 - take location_ID as districts\n",
    "    districtGeoIDMap = {}\n",
    "    for gID in set([a['location_ID'] for aa in arr for a in aa if a['type']!='adm1']):\n",
    "        try:\n",
    "            geoID = gID.split('-')[1]\n",
    "            url = 'http://api.geonames.org/get?geonameId={}&username=tvp2107'\n",
    "            resp = requests.get(url.format(geoID))\n",
    "            districtGeoIDMap[gID] = xmltodict.parse(resp.text)['geoname']['adminName2']\n",
    "        except Exception as e:\n",
    "            print(gID)\n",
    "            continue\n",
    "    districtGeoIDMap\n",
    "\n",
    "    json.dump({'divisionGeoIDMap': divisionGeoIDMap, 'districtGeoIDMap': districtGeoIDMap}, open(save_file,'w'), indent=2)\n"
   ]
  },
  {
   "cell_type": "markdown",
   "metadata": {},
   "source": [
    "## Load GeoID and extract location"
   ]
  },
  {
   "cell_type": "markdown",
   "metadata": {},
   "source": [
    "Load the saved geoIDs and then extract division and district"
   ]
  },
  {
   "cell_type": "code",
   "execution_count": 86,
   "metadata": {
    "scrolled": true
   },
   "outputs": [],
   "source": [
    "twitter_df = pd.read_json('other_data/tweets.json') #Tweets\n",
    "GeoIDMap = json.load(open('timeseries_data/logistics/GeoIDMap.json')) #Geo-ID list"
   ]
  },
  {
   "cell_type": "code",
   "execution_count": 87,
   "metadata": {},
   "outputs": [],
   "source": [
    "# Seperate out all Bangla tweets (if toponym is Bangla)\n",
    "isBangla = []\n",
    "for t in twitter_df['locations']:\n",
    "    check = True\n",
    "    for tt in t:\n",
    "        if tt['toponym']=='bangladesh':\n",
    "            check = False\n",
    "    isBangla.append(not check)\n",
    "twitter_df['isBangla'] = isBangla\n",
    "twitter_df = twitter_df[twitter_df['isBangla']] # Keep only Bangla Tweets"
   ]
  },
  {
   "cell_type": "code",
   "execution_count": 88,
   "metadata": {},
   "outputs": [],
   "source": [
    "# For all bangla tweets: get lever_1_region = Division, location_ID = district\n",
    "divisionTweets, districtTweets = [], []\n",
    "for t in twitter_df['locations']:\n",
    "    innerDiv, innerDist = [], []\n",
    "    for tt in t:\n",
    "        if tt['level_0_region'] == 'g-1210997': # Bangladesh GeoID\n",
    "            # Get the location associated with division GeoID\n",
    "            innerDiv.append(GeoIDMap['divisionGeoIDMap'].get(tt['level_1_region'],None))\n",
    "            # Get the location associated with district GeoID. If this is \n",
    "            innerDist.append(GeoIDMap['districtGeoIDMap'].get(tt['location_ID'],None))\n",
    "    while None in innerDiv: innerDiv.remove(None)\n",
    "    while None in innerDist: innerDist.remove(None)\n",
    "    divisionTweets.append(innerDiv)\n",
    "    districtTweets.append(innerDist)\n",
    "twitter_df['divisions'] = divisionTweets\n",
    "twitter_df['districts'] = districtTweets"
   ]
  },
  {
   "cell_type": "code",
   "execution_count": 89,
   "metadata": {
    "scrolled": true
   },
   "outputs": [],
   "source": [
    "# Manual name mapping cause API sent these results, however, my data has different names\n",
    "nameMap = {\n",
    "    'Rajshahi Division': 'Rajshahi',\n",
    "    'Mymensingh Division': 'Mymensingh',\n",
    "    'Rangpur Division': 'Rangpur',\n",
    "    'Shariatpur District': 'Shariatpur',\n",
    "    'Maulvibazar District': 'Maulvibazar'\n",
    "}\n",
    "reverseNameMap = {v:k for k,v in nameMap.items()}"
   ]
  },
  {
   "cell_type": "code",
   "execution_count": 90,
   "metadata": {},
   "outputs": [],
   "source": [
    "# Get dates in the format\n",
    "dates = [str(row[1]['date'].year) + '-' + str(row[1]['date'].month) + '-' + str(row[1]['date'].day) \n",
    "         for row in twitter_df.iterrows()]\n",
    "twitter_df['dates'] = dates\n"
   ]
  },
  {
   "cell_type": "code",
   "execution_count": 91,
   "metadata": {},
   "outputs": [],
   "source": [
    "# Get dates in the format\n",
    "dates = [{'year': str(row[1]['date'].year), 'month': str(row[1]['date'].month), 'day': str(row[1]['date'].day)} \n",
    "         for row in twitter_df.iterrows()]\n",
    "twitter_df['datesP'] = dates"
   ]
  },
  {
   "cell_type": "code",
   "execution_count": 36,
   "metadata": {},
   "outputs": [],
   "source": [
    "def saveTwitterData(df, save_file=''):\n",
    "    df2 = df.groupby('dates').count().sort_values(by='dates')['id'].reset_index()\n",
    "    dfList = [(r[1]['dates'], r[1]['id']) for r in df2.iterrows()]\n",
    "    dfList = complete_day(dfList)\n",
    "    dfDict = {i:j for (i,j) in dfList}\n",
    "    json.dump(dfDict, open(save_file, 'w'), indent=2)"
   ]
  },
  {
   "cell_type": "markdown",
   "metadata": {},
   "source": [
    "## Twitter loc data"
   ]
  },
  {
   "cell_type": "code",
   "execution_count": 92,
   "metadata": {},
   "outputs": [],
   "source": [
    "datesLocation_twitter = defaultdict(set)\n",
    "for row in twitter_df.iterrows():\n",
    "    entry = row[1]\n",
    "    dates = entry['datesP']\n",
    "    if not dates:\n",
    "        continue\n",
    "    year, month, day = dates['year'], dates['month'], dates['day']\n",
    "    if not year or not month or not day:\n",
    "        continue\n",
    "    for loc in entry['districts']: datesLocation_twitter['{}-{}-{}'.format(year, month, day)].add(loc)"
   ]
  },
  {
   "cell_type": "code",
   "execution_count": 99,
   "metadata": {},
   "outputs": [],
   "source": [
    "datesLocation_twitter_list2 = sorted([(k,v) for k,v in datesLocation_twitter.items()],\n",
    "                          key=lambda x:(tuple(map(int, x[0].split('-')))))  \n",
    "\n",
    "datesLocation_twitter_list = defaultdict(lambda: defaultdict(int))\n",
    "years = ['2015', '2016', '2017', '2018', '2019', '2020']\n",
    "for ymd,locs in datesLocation_twitter_list2:\n",
    "    year, month, day = ymd.split('-')\n",
    "    if year in years:\n",
    "        for loc in locs:\n",
    "            datesLocation_twitter_list[year][loc.lower()] += 1\n",
    "\n",
    "# json.dump(datesLocation_twitter_list, open('datesLocation_twitter_list.json','w'), indent=2)\n"
   ]
  },
  {
   "cell_type": "code",
   "execution_count": 100,
   "metadata": {},
   "outputs": [
    {
     "data": {
      "text/plain": [
       "defaultdict(<function __main__.<lambda>()>,\n",
       "            {'2015': defaultdict(int,\n",
       "                         {'sylhet': 5,\n",
       "                          'comilla': 10,\n",
       "                          'sirajganj': 1,\n",
       "                          'nilphamari': 2,\n",
       "                          'lalmonirhat': 3,\n",
       "                          'dhaka': 14,\n",
       "                          'gaibandha': 6,\n",
       "                          'narail': 2,\n",
       "                          'mymensingh': 2,\n",
       "                          'barguna': 2,\n",
       "                          'chittagong': 7,\n",
       "                          'feni': 3,\n",
       "                          'bandarban': 4,\n",
       "                          'narayanganj': 1,\n",
       "                          'bagerhat': 2,\n",
       "                          \"cox's bazar\": 5,\n",
       "                          'khagrachari': 1,\n",
       "                          'joypurhat': 1,\n",
       "                          'rajshahi': 2,\n",
       "                          'sherpur': 1,\n",
       "                          'noakhali': 2,\n",
       "                          'bogra': 3,\n",
       "                          'naogaon': 3,\n",
       "                          'jamalpur': 1,\n",
       "                          'chandpur': 13,\n",
       "                          'narsingdi': 10,\n",
       "                          'rajbari': 10,\n",
       "                          'thakurgaon': 1,\n",
       "                          'kishoregonj': 1,\n",
       "                          'kurigram': 1,\n",
       "                          'rangpur': 2,\n",
       "                          'satkhira': 2,\n",
       "                          'khulna': 2}),\n",
       "             '2016': defaultdict(int,\n",
       "                         {'dhaka': 15,\n",
       "                          'sylhet': 12,\n",
       "                          'barguna': 9,\n",
       "                          'satkhira': 1,\n",
       "                          'jessore': 5,\n",
       "                          'bagerhat': 2,\n",
       "                          'chittagong': 5,\n",
       "                          'noakhali': 5,\n",
       "                          'gaibandha': 3,\n",
       "                          'natore': 3,\n",
       "                          'lalmonirhat': 5,\n",
       "                          'nilphamari': 3,\n",
       "                          'narail': 5,\n",
       "                          'bogra': 4,\n",
       "                          'kurigram': 6,\n",
       "                          'sunamganj': 1,\n",
       "                          'comilla': 2,\n",
       "                          'chandpur': 3,\n",
       "                          'faridpur': 6,\n",
       "                          'jamalpur': 5,\n",
       "                          'sherpur': 1,\n",
       "                          'manikganj': 2,\n",
       "                          'munshiganj': 1,\n",
       "                          'rajbari': 2,\n",
       "                          'sirajganj': 2,\n",
       "                          'narsingdi': 1,\n",
       "                          'narayanganj': 1,\n",
       "                          'gazipur': 1,\n",
       "                          'kishoregonj': 1,\n",
       "                          'rajshahi': 2,\n",
       "                          'tangail': 1,\n",
       "                          'rangpur': 1,\n",
       "                          'jhalokati': 1}),\n",
       "             '2017': defaultdict(int,\n",
       "                         {'sirajganj': 9,\n",
       "                          'sunamganj': 10,\n",
       "                          'dhaka': 38,\n",
       "                          'sylhet': 15,\n",
       "                          'chittagong': 16,\n",
       "                          'habiganj': 4,\n",
       "                          'lakshmipur': 2,\n",
       "                          'netrakona': 2,\n",
       "                          'satkhira': 2,\n",
       "                          'nilphamari': 4,\n",
       "                          'noakhali': 1,\n",
       "                          'comilla': 2,\n",
       "                          'rangamati': 2,\n",
       "                          'bandarban': 1,\n",
       "                          'panchagarh': 1,\n",
       "                          'pabna': 3,\n",
       "                          'rajshahi': 8,\n",
       "                          'narail': 7,\n",
       "                          'bogra': 4,\n",
       "                          'gaibandha': 3,\n",
       "                          'kurigram': 9,\n",
       "                          'natore': 1,\n",
       "                          'narsingdi': 1,\n",
       "                          'gazipur': 3,\n",
       "                          'barguna': 4,\n",
       "                          'feni': 1,\n",
       "                          'dinajpur': 11,\n",
       "                          'lalmonirhat': 7,\n",
       "                          'rangpur': 4,\n",
       "                          'narayanganj': 3,\n",
       "                          'naogaon': 3,\n",
       "                          'tangail': 5,\n",
       "                          'thakurgaon': 3,\n",
       "                          'manikganj': 1,\n",
       "                          'kushtia': 1,\n",
       "                          'jamalpur': 5,\n",
       "                          'jessore': 2,\n",
       "                          'mymensingh': 2,\n",
       "                          'barisal': 1,\n",
       "                          \"cox's bazar\": 1}),\n",
       "             '2018': defaultdict(int,\n",
       "                         {'rangpur': 3,\n",
       "                          'nilphamari': 7,\n",
       "                          'satkhira': 3,\n",
       "                          'noakhali': 3,\n",
       "                          'gazipur': 3,\n",
       "                          'dhaka': 21,\n",
       "                          'comilla': 6,\n",
       "                          'chandpur': 1,\n",
       "                          'lalmonirhat': 6,\n",
       "                          'rangamati': 1,\n",
       "                          'sirajganj': 2,\n",
       "                          'jhalokati': 1,\n",
       "                          'gopalganj': 1,\n",
       "                          'barisal': 11,\n",
       "                          'natore': 2,\n",
       "                          'chittagong': 7,\n",
       "                          'sylhet': 19,\n",
       "                          'mymensingh': 1,\n",
       "                          'barguna': 7,\n",
       "                          'rajbari': 8,\n",
       "                          'rajshahi': 2,\n",
       "                          'manikganj': 1,\n",
       "                          'jamalpur': 2,\n",
       "                          'habiganj': 2,\n",
       "                          \"cox's bazar\": 5,\n",
       "                          'narayanganj': 2,\n",
       "                          'tangail': 1,\n",
       "                          'dinajpur': 1,\n",
       "                          'netrakona': 3,\n",
       "                          'gaibandha': 7,\n",
       "                          'bandarban': 1,\n",
       "                          'maulvibazar district': 8,\n",
       "                          'feni': 2,\n",
       "                          'bagerhat': 2,\n",
       "                          'narsingdi': 3,\n",
       "                          'bogra': 2,\n",
       "                          'sunamganj': 2,\n",
       "                          'kurigram': 3,\n",
       "                          'pirojpur': 1,\n",
       "                          'panchagarh': 1,\n",
       "                          'madaripur': 1,\n",
       "                          'naogaon': 1,\n",
       "                          'shariatpur district': 1,\n",
       "                          'kushtia': 1,\n",
       "                          'chuadanga': 1}),\n",
       "             '2019': defaultdict(int,\n",
       "                         {'dhaka': 25,\n",
       "                          'barguna': 14,\n",
       "                          'narayanganj': 2,\n",
       "                          'noakhali': 2,\n",
       "                          'comilla': 3,\n",
       "                          'lalmonirhat': 18,\n",
       "                          'nilphamari': 2,\n",
       "                          'rajbari': 11,\n",
       "                          'habiganj': 2,\n",
       "                          'gaibandha': 26,\n",
       "                          'rangpur': 4,\n",
       "                          'mymensingh': 2,\n",
       "                          'barisal': 21,\n",
       "                          'narail': 14,\n",
       "                          'faridpur': 3,\n",
       "                          'bagerhat': 4,\n",
       "                          'gazipur': 13,\n",
       "                          'patuakhali': 2,\n",
       "                          'joypurhat': 1,\n",
       "                          'manikganj': 2,\n",
       "                          'chittagong': 16,\n",
       "                          'rangamati': 4,\n",
       "                          \"cox's bazar\": 6,\n",
       "                          'sunamganj': 5,\n",
       "                          'bandarban': 4,\n",
       "                          'sylhet': 4,\n",
       "                          'sirajganj': 11,\n",
       "                          'kurigram': 21,\n",
       "                          'dinajpur': 3,\n",
       "                          'bogra': 3,\n",
       "                          'tangail': 9,\n",
       "                          'rajshahi': 3,\n",
       "                          'naogaon': 1,\n",
       "                          'jamalpur': 5,\n",
       "                          'satkhira': 2,\n",
       "                          'sherpur': 1,\n",
       "                          'jhalokati': 6,\n",
       "                          'natore': 2,\n",
       "                          'kushtia': 1,\n",
       "                          'pabna': 2,\n",
       "                          'khulna': 1,\n",
       "                          'pirojpur': 1,\n",
       "                          'narsingdi': 1,\n",
       "                          'bhola': 1}),\n",
       "             '2020': defaultdict(int,\n",
       "                         {'chandpur': 1,\n",
       "                          'lalmonirhat': 9,\n",
       "                          'nilphamari': 1,\n",
       "                          'kurigram': 9,\n",
       "                          'dhaka': 13,\n",
       "                          'barisal': 4,\n",
       "                          'barguna': 7,\n",
       "                          'sylhet': 7,\n",
       "                          'manikganj': 3,\n",
       "                          'bogra': 1,\n",
       "                          'narail': 4,\n",
       "                          'chittagong': 6,\n",
       "                          'noakhali': 2,\n",
       "                          'patuakhali': 2,\n",
       "                          'bagerhat': 2,\n",
       "                          'khulna': 3,\n",
       "                          'jhalokati': 2,\n",
       "                          'satkhira': 3,\n",
       "                          'jessore': 1,\n",
       "                          'dinajpur': 1,\n",
       "                          'sunamganj': 7,\n",
       "                          'gaibandha': 3,\n",
       "                          'narayanganj': 3,\n",
       "                          'gazipur': 5,\n",
       "                          'narsingdi': 2,\n",
       "                          'jamalpur': 6,\n",
       "                          'tangail': 4,\n",
       "                          'comilla': 4,\n",
       "                          'rajshahi': 4,\n",
       "                          'mymensingh': 5,\n",
       "                          'sirajganj': 3,\n",
       "                          'faridpur': 1,\n",
       "                          'netrakona': 1,\n",
       "                          'munshiganj': 4,\n",
       "                          'naogaon': 3,\n",
       "                          'madaripur': 1,\n",
       "                          'rajbari': 2,\n",
       "                          'rangpur': 1,\n",
       "                          'natore': 1,\n",
       "                          'kushtia': 1})})"
      ]
     },
     "execution_count": 100,
     "metadata": {},
     "output_type": "execute_result"
    }
   ],
   "source": [
    "datesLocation_twitter_list"
   ]
  },
  {
   "cell_type": "code",
   "execution_count": 101,
   "metadata": {},
   "outputs": [
    {
     "data": {
      "text/plain": [
       "{'2015': 125, '2016': 117, '2017': 202, '2018': 169, '2019': 284, '2020': 142}"
      ]
     },
     "execution_count": 101,
     "metadata": {},
     "output_type": "execute_result"
    }
   ],
   "source": []
  },
  {
   "cell_type": "code",
   "execution_count": 104,
   "metadata": {},
   "outputs": [
    {
     "name": "stdout",
     "output_type": "stream",
     "text": [
      "2020: 6393\n",
      "2019: 5830\n",
      "2018: 5107\n",
      "2017: 19079\n"
     ]
    }
   ],
   "source": [
    "print('2020:', len(twitter_df[twitter_df['dates'].str.contains('2020')]))\n",
    "print('2019:', len(twitter_df[twitter_df['dates'].str.contains('2019')]))\n",
    "print('2018:', len(twitter_df[twitter_df['dates'].str.contains('2018')]))\n",
    "print('2017:', len(twitter_df[twitter_df['dates'].str.contains('2017')]))"
   ]
  },
  {
   "cell_type": "code",
   "execution_count": 106,
   "metadata": {},
   "outputs": [
    {
     "name": "stdout",
     "output_type": "stream",
     "text": [
      "Aggregate Location\n",
      "2020: 142\n",
      "2019: 284\n",
      "2018: 169\n",
      "2017: 202\n"
     ]
    }
   ],
   "source": [
    "d = {k:sum(v.values()) for k,v in datesLocation_twitter_list.items()}\n",
    "print('Aggregate Location')\n",
    "print('2020:', d['2020'])\n",
    "print('2019:', d['2019'])\n",
    "print('2018:', d['2018'])\n",
    "print('2017:', d['2017'])"
   ]
  },
  {
   "cell_type": "markdown",
   "metadata": {},
   "source": [
    "## Plotting to understand data"
   ]
  },
  {
   "cell_type": "code",
   "execution_count": 14,
   "metadata": {},
   "outputs": [],
   "source": [
    "# Get all divisions and all districts\n",
    "tweetDivisions = set()\n",
    "for t in twitter_df['divisions']:\n",
    "    tweetDivisions = tweetDivisions.union(set(t))\n",
    "tweetDivisions = list(tweetDivisions)\n",
    "tweetDistricts = set()\n",
    "for t in twitter_df['districts']:\n",
    "    tweetDistricts = tweetDistricts.union(set(t))\n",
    "tweetDistricts = list(tweetDistricts)"
   ]
  },
  {
   "cell_type": "code",
   "execution_count": 18,
   "metadata": {},
   "outputs": [],
   "source": [
    "arr2 = []\n",
    "for dist in tweetDistricts: arr2.append((dist, len(get_district_articles(twitter_df, dist))))\n",
    "arr2.sort(key=lambda x:x[1], reverse=True)"
   ]
  },
  {
   "cell_type": "code",
   "execution_count": 19,
   "metadata": {},
   "outputs": [
    {
     "data": {
      "image/png": "[encoded data removed]",
      "text/plain": [
       "<Figure size 432x288 with 1 Axes>"
      ]
     },
     "metadata": {
      "needs_background": "light"
     },
     "output_type": "display_data"
    },
    {
     "data": {
      "image/png": "[encoded data removed]",
      "text/plain": [
       "<Figure size 432x288 with 1 Axes>"
      ]
     },
     "metadata": {
      "needs_background": "light"
     },
     "output_type": "display_data"
    }
   ],
   "source": [
    "plt.bar([i[0] for i in arr2[:20]], [i[1] for i in arr2[:20]])\n",
    "plt.xticks(rotation='vertical')\n",
    "plt.show()\n",
    "plt.bar([i[0] for i in arr2[1:20]], [i[1] for i in arr2[1:20]])\n",
    "plt.xticks(rotation='vertical')\n",
    "plt.show()"
   ]
  },
  {
   "cell_type": "code",
   "execution_count": 26,
   "metadata": {},
   "outputs": [],
   "source": [
    "arr2 = []\n",
    "for div in tweetDivisions: arr2.append((div, len(get_division_articles(twitter_df, div))))\n",
    "arr2.sort(key=lambda x:x[1], reverse=True)"
   ]
  },
  {
   "cell_type": "code",
   "execution_count": 28,
   "metadata": {},
   "outputs": [
    {
     "data": {
      "image/png": "[encoded data removed]",
      "text/plain": [
       "<Figure size 432x288 with 1 Axes>"
      ]
     },
     "metadata": {
      "needs_background": "light"
     },
     "output_type": "display_data"
    },
    {
     "data": {
      "image/png": "[encoded data removed]",
      "text/plain": [
       "<Figure size 432x288 with 1 Axes>"
      ]
     },
     "metadata": {
      "needs_background": "light"
     },
     "output_type": "display_data"
    }
   ],
   "source": [
    "plt.bar([i[0] for i in arr2], [i[1] for i in arr2])\n",
    "plt.xticks(rotation='vertical')\n",
    "plt.show()\n",
    "plt.bar([i[0] for i in arr2[1:]], [i[1] for i in arr2[1:]])\n",
    "plt.xticks(rotation='vertical')\n",
    "plt.show()"
   ]
  },
  {
   "cell_type": "markdown",
   "metadata": {},
   "source": [
    "## Save twitter data"
   ]
  },
  {
   "cell_type": "code",
   "execution_count": 82,
   "metadata": {},
   "outputs": [],
   "source": [
    "def get_yearly_data(df, save_file):\n",
    "    dates_all = df['dates']\n",
    "    yearPublished_count_list, yearPublished_month_count_list, yearPublished_month_day_count_list = date_counts(parse_all_dates(dates_all))\n",
    "    yearPublished_month_day_count_list = complete_day(yearPublished_month_day_count_list, year_range=[None, None])\n",
    "\n",
    "    yearMonthDayPublished = {i[0]:i[1] for i in yearPublished_month_day_count_list}\n",
    "    json.dump(yearMonthDayPublished, open(save_file, 'w'), indent=2)\n",
    "#     return yearMonthDayPublished\n"
   ]
  },
  {
   "cell_type": "code",
   "execution_count": 83,
   "metadata": {},
   "outputs": [],
   "source": [
    "twitter_df_div = twitter_df[twitter_df['divisions'].map(len)!=0]"
   ]
  },
  {
   "cell_type": "code",
   "execution_count": 84,
   "metadata": {},
   "outputs": [],
   "source": [
    "get_yearly_data(twitter_df_div, 'timeseries_data/twitter/TwitterAll-div.json')"
   ]
  },
  {
   "cell_type": "code",
   "execution_count": 50,
   "metadata": {},
   "outputs": [
    {
     "ename": "ValueError",
     "evalue": "min() arg is an empty sequence",
     "output_type": "error",
     "traceback": [
      "\u001b[0;31m---------------------------------------------------------------------------\u001b[0m",
      "\u001b[0;31mValueError\u001b[0m                                Traceback (most recent call last)",
      "\u001b[0;32m<ipython-input-50-538a88e16d6d>\u001b[0m in \u001b[0;36m<module>\u001b[0;34m\u001b[0m\n\u001b[1;32m      2\u001b[0m \u001b[0mget_yearly_data\u001b[0m\u001b[0;34m(\u001b[0m\u001b[0mget_division_articles\u001b[0m\u001b[0;34m(\u001b[0m\u001b[0mtwitter_df\u001b[0m\u001b[0;34m,\u001b[0m\u001b[0;34m'barisāl'\u001b[0m\u001b[0;34m)\u001b[0m\u001b[0;34m,\u001b[0m \u001b[0;34m'timeseries_data/twitter/TwitterBarisāl.json'\u001b[0m\u001b[0;34m)\u001b[0m\u001b[0;34m\u001b[0m\u001b[0;34m\u001b[0m\u001b[0m\n\u001b[1;32m      3\u001b[0m \u001b[0mget_yearly_data\u001b[0m\u001b[0;34m(\u001b[0m\u001b[0mget_division_articles\u001b[0m\u001b[0;34m(\u001b[0m\u001b[0mtwitter_df\u001b[0m\u001b[0;34m,\u001b[0m\u001b[0;34m'sylhet'\u001b[0m\u001b[0;34m)\u001b[0m\u001b[0;34m,\u001b[0m \u001b[0;34m'timeseries_data/twitter/TwitterSylhet.json'\u001b[0m\u001b[0;34m)\u001b[0m\u001b[0;34m\u001b[0m\u001b[0;34m\u001b[0m\u001b[0m\n\u001b[0;32m----> 4\u001b[0;31m \u001b[0mget_yearly_data\u001b[0m\u001b[0;34m(\u001b[0m\u001b[0mget_division_articles\u001b[0m\u001b[0;34m(\u001b[0m\u001b[0mtwitter_df\u001b[0m\u001b[0;34m,\u001b[0m\u001b[0;34m'mymensingh'\u001b[0m\u001b[0;34m)\u001b[0m\u001b[0;34m,\u001b[0m \u001b[0;34m'timeseries_data/twitter/TwitterMymensingh.json'\u001b[0m\u001b[0;34m)\u001b[0m\u001b[0;34m\u001b[0m\u001b[0;34m\u001b[0m\u001b[0m\n\u001b[0m\u001b[1;32m      5\u001b[0m \u001b[0mget_yearly_data\u001b[0m\u001b[0;34m(\u001b[0m\u001b[0mget_division_articles\u001b[0m\u001b[0;34m(\u001b[0m\u001b[0mtwitter_df\u001b[0m\u001b[0;34m,\u001b[0m\u001b[0;34m'khulna'\u001b[0m\u001b[0;34m)\u001b[0m\u001b[0;34m,\u001b[0m \u001b[0;34m'timeseries_data/twitter/TwitterKhulna.json'\u001b[0m\u001b[0;34m)\u001b[0m\u001b[0;34m\u001b[0m\u001b[0;34m\u001b[0m\u001b[0m\n\u001b[1;32m      6\u001b[0m \u001b[0mget_yearly_data\u001b[0m\u001b[0;34m(\u001b[0m\u001b[0mget_division_articles\u001b[0m\u001b[0;34m(\u001b[0m\u001b[0mtwitter_df\u001b[0m\u001b[0;34m,\u001b[0m\u001b[0;34m'dhaka'\u001b[0m\u001b[0;34m)\u001b[0m\u001b[0;34m,\u001b[0m \u001b[0;34m'timeseries_data/twitter/TwitterDhaka.json'\u001b[0m\u001b[0;34m)\u001b[0m\u001b[0;34m\u001b[0m\u001b[0;34m\u001b[0m\u001b[0m\n",
      "\u001b[0;32m<ipython-input-49-9d87b953be2e>\u001b[0m in \u001b[0;36mget_yearly_data\u001b[0;34m(df, save_file)\u001b[0m\n\u001b[1;32m      2\u001b[0m     \u001b[0mdates_all\u001b[0m \u001b[0;34m=\u001b[0m \u001b[0mdf\u001b[0m\u001b[0;34m[\u001b[0m\u001b[0;34m'dates'\u001b[0m\u001b[0;34m]\u001b[0m\u001b[0;34m\u001b[0m\u001b[0;34m\u001b[0m\u001b[0m\n\u001b[1;32m      3\u001b[0m     \u001b[0myearPublished_count_list\u001b[0m\u001b[0;34m,\u001b[0m \u001b[0myearPublished_month_count_list\u001b[0m\u001b[0;34m,\u001b[0m \u001b[0myearPublished_month_day_count_list\u001b[0m \u001b[0;34m=\u001b[0m \u001b[0mdate_counts\u001b[0m\u001b[0;34m(\u001b[0m\u001b[0mparse_all_dates\u001b[0m\u001b[0;34m(\u001b[0m\u001b[0mdates_all\u001b[0m\u001b[0;34m)\u001b[0m\u001b[0;34m)\u001b[0m\u001b[0;34m\u001b[0m\u001b[0;34m\u001b[0m\u001b[0m\n\u001b[0;32m----> 4\u001b[0;31m     \u001b[0myearPublished_month_day_count_list\u001b[0m \u001b[0;34m=\u001b[0m \u001b[0mcomplete_day\u001b[0m\u001b[0;34m(\u001b[0m\u001b[0myearPublished_month_day_count_list\u001b[0m\u001b[0;34m,\u001b[0m \u001b[0myear_range\u001b[0m\u001b[0;34m=\u001b[0m\u001b[0;34m[\u001b[0m\u001b[0;32mNone\u001b[0m\u001b[0;34m,\u001b[0m \u001b[0;32mNone\u001b[0m\u001b[0;34m]\u001b[0m\u001b[0;34m)\u001b[0m\u001b[0;34m\u001b[0m\u001b[0;34m\u001b[0m\u001b[0m\n\u001b[0m\u001b[1;32m      5\u001b[0m \u001b[0;34m\u001b[0m\u001b[0m\n\u001b[1;32m      6\u001b[0m     \u001b[0myearMonthDayPublished\u001b[0m \u001b[0;34m=\u001b[0m \u001b[0;34m{\u001b[0m\u001b[0mi\u001b[0m\u001b[0;34m[\u001b[0m\u001b[0;36m0\u001b[0m\u001b[0;34m]\u001b[0m\u001b[0;34m:\u001b[0m\u001b[0mi\u001b[0m\u001b[0;34m[\u001b[0m\u001b[0;36m1\u001b[0m\u001b[0;34m]\u001b[0m \u001b[0;32mfor\u001b[0m \u001b[0mi\u001b[0m \u001b[0;32min\u001b[0m \u001b[0myearPublished_month_day_count_list\u001b[0m\u001b[0;34m}\u001b[0m\u001b[0;34m\u001b[0m\u001b[0;34m\u001b[0m\u001b[0m\n",
      "\u001b[0;32m~/Desktop/BangladeshFloodResearch/nlp_flood_research/classifier/functions.py\u001b[0m in \u001b[0;36mcomplete_day\u001b[0;34m(list1, year_range, aggType, normDict, normAgg, ignoreDates)\u001b[0m\n\u001b[1;32m    376\u001b[0m     \u001b[0mall_years\u001b[0m \u001b[0;34m=\u001b[0m \u001b[0mset\u001b[0m\u001b[0;34m(\u001b[0m\u001b[0;34m[\u001b[0m\u001b[0mint\u001b[0m\u001b[0;34m(\u001b[0m\u001b[0mi\u001b[0m\u001b[0;34m.\u001b[0m\u001b[0msplit\u001b[0m\u001b[0;34m(\u001b[0m\u001b[0;34m'-'\u001b[0m\u001b[0;34m)\u001b[0m\u001b[0;34m[\u001b[0m\u001b[0;36m0\u001b[0m\u001b[0;34m]\u001b[0m\u001b[0;34m)\u001b[0m \u001b[0;32mfor\u001b[0m \u001b[0mi\u001b[0m \u001b[0;32min\u001b[0m \u001b[0mdict1_year_months_day\u001b[0m\u001b[0;34m.\u001b[0m\u001b[0mkeys\u001b[0m\u001b[0;34m(\u001b[0m\u001b[0;34m)\u001b[0m\u001b[0;34m]\u001b[0m\u001b[0;34m)\u001b[0m\u001b[0;34m\u001b[0m\u001b[0;34m\u001b[0m\u001b[0m\n\u001b[1;32m    377\u001b[0m \u001b[0;34m\u001b[0m\u001b[0m\n\u001b[0;32m--> 378\u001b[0;31m     \u001b[0mmin_year\u001b[0m\u001b[0;34m,\u001b[0m \u001b[0mmax_year\u001b[0m \u001b[0;34m=\u001b[0m \u001b[0mmin\u001b[0m\u001b[0;34m(\u001b[0m\u001b[0mall_years\u001b[0m\u001b[0;34m)\u001b[0m\u001b[0;34m,\u001b[0m \u001b[0mmax\u001b[0m\u001b[0;34m(\u001b[0m\u001b[0mall_years\u001b[0m\u001b[0;34m)\u001b[0m\u001b[0;34m\u001b[0m\u001b[0;34m\u001b[0m\u001b[0m\n\u001b[0m\u001b[1;32m    379\u001b[0m     \u001b[0mmin_range\u001b[0m \u001b[0;34m=\u001b[0m \u001b[0myear_range\u001b[0m\u001b[0;34m[\u001b[0m\u001b[0;36m0\u001b[0m\u001b[0;34m]\u001b[0m \u001b[0;32mif\u001b[0m \u001b[0myear_range\u001b[0m\u001b[0;34m[\u001b[0m\u001b[0;36m0\u001b[0m\u001b[0;34m]\u001b[0m \u001b[0;32mis\u001b[0m \u001b[0;32mnot\u001b[0m \u001b[0;32mNone\u001b[0m \u001b[0;32melse\u001b[0m \u001b[0mmin_year\u001b[0m\u001b[0;34m\u001b[0m\u001b[0;34m\u001b[0m\u001b[0m\n\u001b[1;32m    380\u001b[0m     \u001b[0mmax_range\u001b[0m \u001b[0;34m=\u001b[0m \u001b[0myear_range\u001b[0m\u001b[0;34m[\u001b[0m\u001b[0;36m1\u001b[0m\u001b[0;34m]\u001b[0m \u001b[0;32mif\u001b[0m \u001b[0myear_range\u001b[0m\u001b[0;34m[\u001b[0m\u001b[0;36m1\u001b[0m\u001b[0;34m]\u001b[0m \u001b[0;32mis\u001b[0m \u001b[0;32mnot\u001b[0m \u001b[0;32mNone\u001b[0m \u001b[0;32melse\u001b[0m \u001b[0mmax_year\u001b[0m\u001b[0;34m\u001b[0m\u001b[0;34m\u001b[0m\u001b[0m\n",
      "\u001b[0;31mValueError\u001b[0m: min() arg is an empty sequence"
     ]
    }
   ],
   "source": [
    "get_yearly_data(twitter_df, 'timeseries_data/twitter/TwitterAll.json')\n",
    "get_yearly_data(get_division_articles(twitter_df,'barisāl'), 'timeseries_data/twitter/TwitterBarisāl.json')\n",
    "get_yearly_data(get_division_articles(twitter_df,'sylhet'), 'timeseries_data/twitter/TwitterSylhet.json')\n",
    "# get_yearly_data(get_division_articles(twitter_df,'mymensingh'), 'timeseries_data/twitter/TwitterMymensingh.json')\n",
    "get_yearly_data(get_division_articles(twitter_df,'khulna'), 'timeseries_data/twitter/TwitterKhulna.json')\n",
    "get_yearly_data(get_division_articles(twitter_df,'dhaka'), 'timeseries_data/twitter/TwitterDhaka.json')\n",
    "get_yearly_data(get_division_articles(twitter_df,'chittagong'), 'timeseries_data/twitter/TwitterChittagong.json')\n",
    "get_yearly_data(get_division_articles(twitter_df,'rangpur'), 'timeseries_data/twitter/TwitterRangpur.json')\n",
    "get_yearly_data(get_division_articles(twitter_df,'rajshahi'), 'timeseries_data/twitter/TwitterRajshahi.json')"
   ]
  },
  {
   "cell_type": "code",
   "execution_count": 20,
   "metadata": {},
   "outputs": [],
   "source": [
    "def plot_year_yearmonth_load(load_filepath, main_title='', plot=True, aggType=None, skip=None):\n",
    "    data = json.load(open(load_filepath))\n",
    "    dataList = complete_day([(k,v) for k,v in data.items()], aggType=aggType)\n",
    "    if plot:\n",
    "        plot_timeseries(\n",
    "            [{'count_list': dataList, 'label':'Tweets', \n",
    "                 'color':'r', 'ylabel':'# tweets'}],\n",
    "                main_title + ' Twitter', 'Date', '# Tweets', True, skip=skip)"
   ]
  },
  {
   "cell_type": "code",
   "execution_count": 103,
   "metadata": {},
   "outputs": [
    {
     "data": {
      "image/png": "[encoded data removed]",
      "text/plain": [
       "<Figure size 1080x504 with 1 Axes>"
      ]
     },
     "metadata": {
      "needs_background": "light"
     },
     "output_type": "display_data"
    }
   ],
   "source": [
    "# plot_year_yearmonth_load('timeseries_data/TwitterAll.json', skip=60)\n",
    "# plot_year_yearmonth_load('timeseries_data/TwitterBarisāl.json', main_titla='Barisal', skip=60)\n",
    "# plot_year_yearmonth_load('timeseries_data/TwitterSylhet.json', main_titla='Sylhet', skip=60)\n",
    "# plot_year_yearmonth_load('timeseries_data/TwitterMymensingh.json', main_titla='Mymensingh', skip=60)\n",
    "# plot_year_yearmonth_load('timeseries_data/TwitterKhulna.json', main_titla='Khulna', skip=60)\n",
    "# plot_year_yearmonth_load('timeseries_data/TwitterDhaka.json', main_titla='Dhaka', skip=60)\n",
    "# plot_year_yearmonth_load('timeseries_data/TwitterChittagong.json', main_titla='Chittagong', skip=60)\n",
    "# plot_year_yearmonth_load('timeseries_data/TwitterRangpur.json', main_titla='Rangpur', skip=60)\n",
    "\n",
    "plot_year_yearmonth_load('timeseries_data/twitter/TwitterAll.json', main_title='Monthly', aggType='month', skip=5)\n",
    "# plot_year_yearmonth_load('timeseries_data/TwitterBarisāl.json', main_titla='Barisal(Monthly)', aggType='month', skip=5)\n",
    "# plot_year_yearmonth_load('timeseries_data/TwitterSylhet.json', main_titla='Sylhet(Monthly)', aggType='month', skip=5)\n",
    "# plot_year_yearmonth_load('timeseries_data/TwitterMymensingh.json', main_titla='Mymensingh(Monthly)', aggType='month', skip=5)\n",
    "# plot_year_yearmonth_load('timeseries_data/TwitterKhulna.json', main_titla='Khulna(Monthly)', aggType='month', skip=5)\n",
    "# plot_year_yearmonth_load('timeseries_data/TwitterDhaka.json', main_titla='Dhaka(Monthly)', aggType='month', skip=5)\n",
    "# plot_year_yearmonth_load('timeseries_data/TwitterChittagong.json', main_titla='Chittagong(Monthly)', aggType='month', skip=5)\n",
    "# plot_year_yearmonth_load('timeseries_data/TwitterRangpur.json', main_titla='Rangpur(Monthly)', aggType='month', skip=5)\n"
   ]
  },
  {
   "cell_type": "markdown",
   "metadata": {},
   "source": [
    "## Jens location data"
   ]
  },
  {
   "cell_type": "code",
   "execution_count": 23,
   "metadata": {},
   "outputs": [],
   "source": [
    "loc_df = pd.read_json('other_data/jens_loc_data.json')\n",
    "GeoIDMapLoc = json.load(open('GeoIDMap2.json'))\n",
    "divisionTweets, districtTweets = [], []\n",
    "for t in loc_df['locations']:\n",
    "    innerDiv, innerDist = [], []\n",
    "    for tt in t:\n",
    "        # If Bangladesh GeoID and type of location not country\n",
    "        if tt['country_location_ID'] == 'g-1210997' and tt['type']!='country':\n",
    "            # Get the location associated with division GeoID\n",
    "            innerDiv.append(GeoIDMapLoc['divisionGeoIDMap'].get(tt['adm1_location_ID'],None))\n",
    "            # Get the location associated with district GeoID. If this is \n",
    "            innerDist.append(GeoIDMapLoc['districtGeoIDMap'].get(tt['location_ID'],None))\n",
    "    while None in innerDiv: innerDiv.remove(None)\n",
    "    while None in innerDist: innerDist.remove(None)\n",
    "    divisionTweets.append(list(set(innerDiv)))\n",
    "    districtTweets.append(list(set(innerDist)))\n",
    "loc_df['divisions'] = divisionTweets\n",
    "loc_df['districts'] = districtTweets"
   ]
  },
  {
   "cell_type": "code",
   "execution_count": 25,
   "metadata": {},
   "outputs": [
    {
     "data": {
      "text/plain": [
       "0                                                      []\n",
       "1                                     [Sunamganj, Sylhet]\n",
       "2                      [Rajshahi, Natore, Naogaon, Bogra]\n",
       "3                                                      []\n",
       "4                                                      []\n",
       "                              ...                        \n",
       "2754    [Dhaka, Rajbari, Shariatpur District, Gazipur,...\n",
       "2755    [Munshiganj, Tangail, Rajbari, Shariatpur Dist...\n",
       "2756                                [Munshiganj, Rajbari]\n",
       "2757       [Kurigram, Lalmonirhat, Gaibandha, Nilphamari]\n",
       "2758                                            [Comilla]\n",
       "Name: districts, Length: 2759, dtype: object"
      ]
     },
     "execution_count": 25,
     "metadata": {},
     "output_type": "execute_result"
    }
   ],
   "source": [
    "loc_df['districts']"
   ]
  }
 ],
 "metadata": {
  "kernelspec": {
   "display_name": "bangladesh_venv",
   "language": "python",
   "name": "bangladesh_venv"
  },
  "language_info": {
   "codemirror_mode": {
    "name": "ipython",
    "version": 3
   },
   "file_extension": ".py",
   "mimetype": "text/x-python",
   "name": "python",
   "nbconvert_exporter": "python",
   "pygments_lexer": "ipython3",
   "version": "3.7.2"
  }
 },
 "nbformat": 4,
 "nbformat_minor": 4
}
