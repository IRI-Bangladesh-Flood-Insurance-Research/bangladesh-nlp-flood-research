{
 "cells": [
  {
   "cell_type": "code",
   "execution_count": 64,
   "metadata": {},
   "outputs": [],
   "source": [
    "import numpy as np\n",
    "import json\n",
    "from ccfMitchell import ccf"
   ]
  },
  {
   "cell_type": "code",
   "execution_count": 47,
   "metadata": {},
   "outputs": [],
   "source": [
    "aggDayPrev = json.load(open('aggDayPrev.json'))\n",
    "aggDay = json.load(open('aggDay.json'))\n",
    "assert len(aggDayPrev) == len(aggDay) and np.prod([aggDayPrev[i][0] == aggDay[i][0] for i in range(len(aggDayPrev))])\n",
    "aggDayPrevNum = [i[1] for i in aggDayPrev]\n",
    "aggDayNum = [i[1] for i in aggDay]\n"
   ]
  },
  {
   "cell_type": "code",
   "execution_count": 93,
   "metadata": {},
   "outputs": [
    {
     "data": {
      "text/plain": [
       "(41, 41)"
      ]
     },
     "execution_count": 93,
     "metadata": {},
     "output_type": "execute_result"
    }
   ],
   "source": [
    "arr = np.correlate(aggDayNum/np.linalg.norm(aggDayNum), aggDayPrevNum/np.linalg.norm(aggDayPrevNum), mode='full')\n",
    "amx = np.argmax(arr)\n",
    "len(np.arange(-20,20+1)), len(arr[amx-20:amx+21])"
   ]
  },
  {
   "cell_type": "code",
   "execution_count": 96,
   "metadata": {},
   "outputs": [
    {
     "data": {
      "text/plain": [
       "array([2.87503953e-05, 6.51675626e-04, 1.24585046e-03, 1.32251818e-03,\n",
       "       4.28380889e-03, 3.41171357e-03, 4.88756719e-03, 8.53886739e-03,\n",
       "       7.70510593e-03, 1.86110892e-02, 3.66663374e-02, 4.21289125e-02,\n",
       "       1.01555979e-01, 9.47708862e-02, 1.07986485e-01, 1.91669302e-01,\n",
       "       2.15599214e-01, 2.00649008e-01, 1.91333880e-01, 2.98237433e-01,\n",
       "       2.73416259e-01, 3.38717990e-01, 4.71084810e-01, 2.91251087e-01,\n",
       "       2.48422582e-01, 3.94139169e-01, 2.90589828e-01, 2.29504822e-01,\n",
       "       1.18442045e-01, 1.09424004e-01, 1.49914144e-01, 5.72649781e-02,\n",
       "       7.28751600e-02, 4.84706011e-02, 3.81662424e-02, 5.54168254e-02,\n",
       "       4.45682811e-02, 3.87262034e-02, 4.06094599e-02, 4.85798682e-02,\n",
       "       5.57145297e-02, 5.94120091e-02, 5.84662798e-02, 7.21688848e-02,\n",
       "       7.23777477e-02, 1.36319011e-01, 2.03418046e-01, 1.66196055e-01,\n",
       "       1.96027291e-01, 1.96633701e-01, 2.33004768e-01, 2.46947465e-01,\n",
       "       3.11578037e-01, 3.67406461e-01, 2.15669792e-01, 1.92751166e-01,\n",
       "       3.59666940e-01, 2.56331772e-01, 2.20437699e-01, 1.82759273e-01,\n",
       "       1.39270002e-01, 1.46497745e-01, 1.18267723e-01, 8.96141689e-02,\n",
       "       8.66550314e-02, 6.98892454e-02, 7.67097948e-02, 5.16988855e-02,\n",
       "       5.20257637e-02, 6.75020044e-02, 5.48123381e-02, 9.76978669e-02,\n",
       "       9.97296519e-02, 9.43940594e-02, 1.14456690e-01, 1.31832376e-01,\n",
       "       1.63628335e-01, 1.43841697e-01, 2.41921252e-01, 2.48213760e-01,\n",
       "       2.50797604e-01, 3.61737190e-01, 2.83699349e-01, 3.84693477e-01,\n",
       "       5.39810955e-01, 3.10743652e-01, 2.67354242e-01, 2.50080686e-01,\n",
       "       2.68822203e-01, 2.90193114e-01, 1.83275257e-01, 2.33699101e-01,\n",
       "       1.89200816e-01, 1.03646609e-01, 1.30610860e-01, 1.25349436e-01,\n",
       "       1.11892230e-01, 7.81345355e-02, 5.71772075e-02, 7.81968564e-02,\n",
       "       6.51262624e-02, 5.62313460e-02, 8.41997868e-02, 8.35734743e-02,\n",
       "       1.13320466e-01, 1.68785686e-01, 1.22818290e-01, 1.90536784e-01,\n",
       "       2.12420323e-01, 2.58388140e-01, 3.30297934e-01, 3.19711418e-01,\n",
       "       4.05217206e-01, 3.53527115e-01, 4.58288914e-01, 8.39951089e-01,\n",
       "       4.58286422e-01, 3.53405551e-01, 4.05005009e-01, 3.19270745e-01,\n",
       "       3.29052012e-01, 2.57521463e-01, 2.11853815e-01, 1.88220496e-01,\n",
       "       1.20460714e-01, 1.67091775e-01, 1.11371101e-01, 8.07589400e-02,\n",
       "       7.78599190e-02, 5.10773066e-02, 5.49736837e-02, 5.66374865e-02,\n",
       "       4.46260626e-02, 5.57614528e-02, 6.62196736e-02, 7.29306648e-02,\n",
       "       7.01603907e-02, 6.51420314e-02, 1.05825220e-01, 1.21295288e-01,\n",
       "       1.21050444e-01, 1.67602530e-01, 1.59492720e-01, 1.54182217e-01,\n",
       "       1.38020872e-01, 1.71154053e-01, 2.84962386e-01, 2.09877241e-01,\n",
       "       1.69425361e-01, 1.94046017e-01, 1.50011823e-01, 1.45004103e-01,\n",
       "       1.35267998e-01, 9.99227771e-02, 1.01234950e-01, 7.61266413e-02,\n",
       "       6.62304664e-02, 5.64347792e-02, 6.40348181e-02, 5.93855893e-02,\n",
       "       3.56438161e-02, 3.80098015e-02, 2.92268742e-02, 3.15273495e-02,\n",
       "       4.54460917e-02, 3.69915343e-02, 4.43641265e-02, 4.78328796e-02,\n",
       "       7.10811491e-02, 7.36953453e-02, 6.04139720e-02, 9.14728744e-02,\n",
       "       1.12006200e-01, 1.36764127e-01, 1.94046822e-01, 9.44059466e-02,\n",
       "       1.15528444e-01, 1.91208540e-01, 1.60223569e-01, 1.25397566e-01,\n",
       "       1.17678796e-01, 1.00759440e-01, 1.00620112e-01, 9.33209878e-02,\n",
       "       1.25147712e-01, 8.38837003e-02, 4.40686991e-02, 4.34553558e-02,\n",
       "       3.68187010e-02, 3.42406049e-02, 3.17328511e-02, 2.90602268e-02,\n",
       "       2.02738683e-02, 1.50844959e-02, 2.09138774e-02, 2.09283281e-02,\n",
       "       1.21248222e-02, 1.37864167e-02, 1.91136066e-02, 1.50362451e-02,\n",
       "       3.79476558e-02, 2.74975441e-02, 2.99564559e-02, 5.76738529e-02,\n",
       "       7.27713702e-02, 9.86360068e-02, 6.21536912e-02, 7.28483748e-02,\n",
       "       1.17828788e-01, 8.47209029e-02, 6.83874875e-02, 7.45958153e-02,\n",
       "       4.78568590e-02, 5.01867797e-02, 5.39261587e-02, 4.79407553e-02,\n",
       "       2.70098216e-02, 2.37043065e-02, 2.54014092e-02, 1.05373780e-02,\n",
       "       9.17106650e-03, 4.65504734e-03, 1.92721837e-03, 2.13576065e-03,\n",
       "       1.22248926e-03, 8.53345445e-04, 1.07147588e-03, 3.30791212e-04,\n",
       "       3.11614910e-04, 1.62998568e-04, 7.19111330e-06])"
      ]
     },
     "execution_count": 96,
     "metadata": {},
     "output_type": "execute_result"
    }
   ],
   "source": [
    "arr"
   ]
  },
  {
   "cell_type": "code",
   "execution_count": 98,
   "metadata": {},
   "outputs": [
    {
     "data": {
      "text/plain": [
       "array([ 2.33157060e-03, -3.84547592e-03, -9.56660455e-04, -1.69832692e-02,\n",
       "       -3.11072601e-02, -3.13214856e-02, -6.27052761e-02, -7.71783225e-02,\n",
       "       -8.99968806e-02, -8.83589422e-02, -6.55706274e-02, -7.08011213e-02,\n",
       "        1.09901644e-02, -3.04308359e-03,  1.07147081e-02,  1.05506640e-01,\n",
       "        1.28677480e-01,  1.11172874e-01,  8.76322474e-02,  2.08372057e-01,\n",
       "        1.75043933e-01,  2.58586258e-01,  4.37276723e-01,  1.95217245e-01,\n",
       "        1.36177920e-01,  3.35500091e-01,  1.94946848e-01,  1.09826562e-01,\n",
       "       -3.84309594e-02, -4.93404055e-02,  1.78557772e-03, -1.23230906e-01,\n",
       "       -1.02142245e-01, -1.32116928e-01, -1.44975913e-01, -1.25969010e-01,\n",
       "       -1.37776884e-01, -1.59859964e-01, -1.69248633e-01, -1.56698224e-01,\n",
       "       -1.46282520e-01, -1.39493079e-01, -1.41163259e-01, -1.26392929e-01,\n",
       "       -1.28484849e-01, -4.68185928e-02,  3.79633401e-02, -1.59917550e-02,\n",
       "        2.64096122e-02,  2.53223830e-02,  7.07408581e-02,  9.25907379e-02,\n",
       "        1.76458801e-01,  2.49394351e-01,  4.35391263e-02,  1.44070073e-02,\n",
       "        2.42685961e-01,  1.03799890e-01,  5.59107016e-02,  7.59216173e-03,\n",
       "       -4.91446769e-02, -3.93356077e-02, -7.88596434e-02, -1.19750597e-01,\n",
       "       -1.20742774e-01, -1.45955729e-01, -1.37649947e-01, -1.69526690e-01,\n",
       "       -1.72215837e-01, -1.55048520e-01, -1.75520408e-01, -1.19276920e-01,\n",
       "       -1.21463194e-01, -1.28565030e-01, -9.93654862e-02, -7.48260112e-02,\n",
       "       -3.02917362e-02, -7.15007109e-02,  4.38476661e-02,  5.51782314e-02,\n",
       "        5.32505564e-02,  2.04075909e-01,  1.01618296e-01,  2.37739777e-01,\n",
       "        4.47160016e-01,  1.32834321e-01,  7.58935533e-02,  5.47615625e-02,\n",
       "        7.68354535e-02,  1.05484344e-01, -3.67250272e-02,  3.15563772e-02,\n",
       "       -2.68022554e-02, -1.41180309e-01, -1.06284877e-01, -1.12077258e-01,\n",
       "       -1.43323913e-01, -1.94239451e-01, -2.19682258e-01, -1.95637376e-01,\n",
       "       -2.23190781e-01, -2.36360250e-01, -2.00171150e-01, -1.98788440e-01,\n",
       "       -1.62911566e-01, -8.76827085e-02, -1.55987390e-01, -6.84130696e-02,\n",
       "       -4.50950971e-02,  4.99779333e-03,  1.04246015e-01,  8.41631589e-02,\n",
       "        1.94769502e-01,  1.27538974e-01,  2.67885816e-01,  7.86347891e-01,\n",
       "        2.68252823e-01,  1.33530020e-01,  2.01178514e-01,  1.01442797e-01,\n",
       "        1.32787771e-01,  3.51531328e-02,  6.81373262e-03, -5.71800627e-03,\n",
       "       -8.56004868e-02, -9.47974041e-03, -8.31711560e-02, -1.11929178e-01,\n",
       "       -1.17325393e-01, -1.48657365e-01, -1.39289104e-01, -1.18738980e-01,\n",
       "       -1.25802528e-01, -1.13453470e-01, -8.83680060e-02, -5.55629523e-02,\n",
       "       -5.95234101e-02, -6.15955134e-02, -6.41680133e-03,  1.35127099e-02,\n",
       "        1.43403731e-02,  7.48605243e-02,  6.45115305e-02,  5.99013198e-02,\n",
       "        3.62212549e-02,  7.97212111e-02,  2.37122561e-01,  1.35453790e-01,\n",
       "        8.07927087e-02,  1.11059438e-01,  5.04823526e-02,  4.80211190e-02,\n",
       "        3.20097799e-02, -1.56989078e-03,  1.21372541e-02, -2.35742433e-02,\n",
       "       -3.77220070e-02, -5.27528963e-02, -4.20897218e-02, -4.46248272e-02,\n",
       "       -7.43365605e-02, -6.63915996e-02, -7.23619790e-02, -6.56017163e-02,\n",
       "       -4.88769878e-02, -5.83961706e-02, -4.46970899e-02, -4.30161909e-02,\n",
       "       -8.12001518e-03, -2.07303526e-03, -1.92321526e-02,  2.09011771e-02,\n",
       "        4.59511153e-02,  7.86436356e-02,  1.55438569e-01,  1.81763497e-02,\n",
       "        4.46855156e-02,  1.46922601e-01,  1.06420281e-01,  6.15215145e-02,\n",
       "        4.80829869e-02,  2.77720121e-02,  2.84955958e-02,  1.67068056e-02,\n",
       "        6.28500759e-02,  1.08317650e-02, -3.96540050e-02, -3.87685663e-02,\n",
       "       -4.28055631e-02, -4.63987155e-02, -5.18736455e-02, -5.65426051e-02,\n",
       "       -6.99804562e-02, -6.25254185e-02, -3.74456171e-02, -4.02526157e-02,\n",
       "       -4.67305296e-02, -4.53805327e-02, -4.11880412e-02, -4.63309423e-02,\n",
       "       -1.51532756e-02, -2.45244191e-02, -2.28993497e-02,  1.23470154e-02,\n",
       "        3.60050324e-02,  7.11928253e-02,  1.96034174e-02,  3.39209104e-02,\n",
       "        9.29311173e-02,  4.69427768e-02,  2.64144327e-02,  3.34865110e-02,\n",
       "        1.04098899e-02,  1.88522282e-02,  2.10257642e-02,  1.72989780e-02,\n",
       "       -1.09912835e-03, -4.41798482e-03, -5.15458527e-04, -2.28326598e-02,\n",
       "       -2.03543421e-02, -2.67276831e-02, -2.42323726e-02, -2.00064075e-02,\n",
       "       -1.49840219e-02, -3.45238997e-03, -5.22301727e-03, -4.48356798e-04,\n",
       "        4.47654885e-03,  1.64943403e-03,  2.67280840e-03])"
      ]
     },
     "execution_count": 98,
     "metadata": {},
     "output_type": "execute_result"
    }
   ],
   "source": [
    "x = aggDayNum\n",
    "y = aggDayPrevNum\n",
    "correlate(x - np.mean(x), y - np.mean(y), method='direct') / (np.std(x) * np.std(y) * len(x))"
   ]
  },
  {
   "cell_type": "code",
   "execution_count": 95,
   "metadata": {},
   "outputs": [
    {
     "name": "stderr",
     "output_type": "stream",
     "text": [
      "/Users/tejitpabari/Desktop/BangladeshFloodResearch/nlp_flood_research/bangladesh_flood_venv/lib/python3.7/site-packages/ipykernel_launcher.py:4: UserWarning: In Matplotlib 3.3 individual lines on a stem plot will be added as a LineCollection instead of individual lines. This significantly improves the performance of a stem plot. To remove this warning and switch to the new behaviour, set the \"use_line_collection\" keyword argument to True.\n",
      "  after removing the cwd from sys.path.\n",
      "/Users/tejitpabari/Desktop/BangladeshFloodResearch/nlp_flood_research/bangladesh_flood_venv/lib/python3.7/site-packages/ipykernel_launcher.py:5: MatplotlibDeprecationWarning: Passing the minor parameter of set_xticks() positionally is deprecated since Matplotlib 3.2; the parameter will become keyword-only two minor releases later.\n",
      "  \"\"\"\n"
     ]
    },
    {
     "data": {
      "image/png": "[encoded data removed]",
      "text/plain": [
       "<Figure size 720x360 with 1 Axes>"
      ]
     },
     "metadata": {
      "needs_background": "light"
     },
     "output_type": "display_data"
    }
   ],
   "source": [
    "arr = np.correlate(aggDayNum/np.linalg.norm(aggDayNum), aggDayPrevNum/np.linalg.norm(aggDayPrevNum), mode='full')\n",
    "amx = np.argmax(arr)\n",
    "f, ax = plt.subplots(figsize = (10,5))\n",
    "ax.stem(np.arange(-20,20+1), arr[amx-20:amx+21], '-.')\n",
    "ax.set_xticks(np.arange(-20,20+1), 4)\n",
    "ax.set_xlabel(\"Lag\")\n",
    "ax.set_ylabel(\"ACF\")\n",
    "conf95 = 1.96 / (np.sqrt(len(aggDayNum)))\n",
    "ax.axhline(conf95)\n",
    "\n",
    "plt.show()"
   ]
  },
  {
   "cell_type": "code",
   "execution_count": 86,
   "metadata": {},
   "outputs": [
    {
     "data": {
      "image/png": "[encoded data removed]",
      "text/plain": [
       "<Figure size 432x288 with 1 Axes>"
      ]
     },
     "metadata": {
      "needs_background": "light"
     },
     "output_type": "display_data"
    }
   ],
   "source": [
    "lags, c, line, b = plt.xcorr(aggDayPrevNum, aggDayNum, normed=True)"
   ]
  },
  {
   "cell_type": "code",
   "execution_count": 56,
   "metadata": {},
   "outputs": [
    {
     "name": "stdout",
     "output_type": "stream",
     "text": [
      "lags: [-10  -9  -8  -7  -6  -5  -4  -3  -2  -1   0   1   2   3   4   5   6   7\n",
      "   8   9  10]\n",
      "c: [0.16709177 0.12046071 0.1882205  0.21185382 0.25752146 0.32905201\n",
      " 0.31927075 0.40500501 0.35340555 0.45828642 0.83995109 0.45828891\n",
      " 0.35352712 0.40521721 0.31971142 0.33029793 0.25838814 0.21242032\n",
      " 0.19053678 0.12281829 0.16878569]\n"
     ]
    }
   ],
   "source": [
    "print('lags: {}\\nc: {}'.format(lags, c))"
   ]
  },
  {
   "cell_type": "code",
   "execution_count": 63,
   "metadata": {},
   "outputs": [
    {
     "data": {
      "text/plain": [
       "array([8.92362356e-03, 2.02268801e-01, 3.86690354e-01, 4.10486684e-01,\n",
       "       1.32961991e+00, 1.05893666e+00, 1.51701601e+00, 2.65031620e+00,\n",
       "       2.39153111e+00, 5.77655899e+00, 1.13805946e+01, 1.30760831e+01,\n",
       "       3.15212130e+01, 2.94152378e+01, 3.35171301e+01, 5.94908237e+01,\n",
       "       6.69182531e+01, 6.22779688e+01, 5.93867148e+01, 9.25677217e+01,\n",
       "       8.48636601e+01, 1.05132184e+02, 1.46216547e+02, 9.03992812e+01,\n",
       "       7.71279939e+01, 1.22399767e+02, 9.03037243e+01, 7.15688561e+01,\n",
       "       3.71736788e+01, 3.41223566e+01, 4.70901488e+01, 1.86588342e+01,\n",
       "       2.37185291e+01, 1.71078924e+01, 1.50459803e+01, 2.59704602e+01,\n",
       "       2.59525280e+01, 1.87187098e+01, 2.51583255e+01, 3.60615267e+01,\n",
       "       3.93780498e+01, 4.24899812e+01, 4.56892019e+01, 5.39247848e+01,\n",
       "       5.46858970e+01, 1.04093279e+02, 1.55298773e+02, 1.15804234e+02,\n",
       "       1.24861891e+02, 1.25034786e+02, 1.46030417e+02, 1.55608823e+02,\n",
       "       1.98825238e+02, 2.37275225e+02, 1.43361994e+02, 1.17150585e+02,\n",
       "       2.40797318e+02, 1.69713858e+02, 1.38991158e+02, 1.13510866e+02,\n",
       "       7.49691350e+01, 9.14503071e+01, 8.82062888e+01, 5.93569581e+01,\n",
       "       5.50524999e+01, 4.59036749e+01, 5.63951362e+01, 3.91230380e+01,\n",
       "       3.62683235e+01, 4.71672669e+01, 4.42312593e+01, 7.36929905e+01,\n",
       "       7.94623291e+01, 7.00312599e+01, 8.21869613e+01, 9.44673601e+01,\n",
       "       1.25624857e+02, 1.23996551e+02, 1.67857276e+02, 1.79939041e+02,\n",
       "       1.86153240e+02, 2.40796318e+02, 2.10243961e+02, 2.60441661e+02,\n",
       "       3.53616603e+02, 2.12389136e+02, 1.71273384e+02, 1.91328381e+02,\n",
       "       1.97918311e+02, 2.07981966e+02, 1.50214376e+02, 1.50518208e+02,\n",
       "       1.31321033e+02, 8.08362963e+01, 8.70636979e+01, 9.05013968e+01,\n",
       "       8.21735683e+01, 6.91957132e+01, 5.53775427e+01, 7.02828043e+01,\n",
       "       6.82181519e+01, 6.33830448e+01, 9.66182256e+01, 1.00215690e+02,\n",
       "       1.38203049e+02, 2.07348158e+02, 1.49482566e+02, 2.33567291e+02,\n",
       "       2.62894439e+02, 3.19564510e+02, 4.08328469e+02, 3.96190663e+02,\n",
       "       5.02580350e+02, 4.38549355e+02, 5.68698524e+02, 1.04231529e+03,\n",
       "       5.68701615e+02, 4.38700207e+02, 5.02843670e+02, 3.96737503e+02,\n",
       "       4.09874564e+02, 3.20639989e+02, 2.63597432e+02, 2.36441628e+02,\n",
       "       1.52408137e+02, 2.09450173e+02, 1.40622062e+02, 1.03708312e+02,\n",
       "       1.04485518e+02, 6.97788149e+01, 8.08167282e+01, 9.70363393e+01,\n",
       "       7.09525569e+01, 9.69590037e+01, 1.38849729e+02, 1.55549097e+02,\n",
       "       1.62078123e+02, 1.28617543e+02, 2.34783793e+02, 2.90002774e+02,\n",
       "       2.27430626e+02, 3.60107538e+02, 3.33587866e+02, 3.10331072e+02,\n",
       "       3.31766238e+02, 3.85609190e+02, 6.69864256e+02, 4.77375287e+02,\n",
       "       3.52049271e+02, 4.48888285e+02, 3.11220713e+02, 3.08014360e+02,\n",
       "       3.00205836e+02, 1.78496584e+02, 2.03050294e+02, 1.63593932e+02,\n",
       "       1.42032030e+02, 1.17135834e+02, 1.23756897e+02, 1.21235607e+02,\n",
       "       6.80179342e+01, 8.37648430e+01, 6.45600078e+01, 6.41543769e+01,\n",
       "       9.51910092e+01, 8.67272272e+01, 1.07532290e+02, 1.11204354e+02,\n",
       "       1.46761231e+02, 1.81792536e+02, 1.72823459e+02, 2.26790330e+02,\n",
       "       2.73546384e+02, 3.18088194e+02, 4.46319262e+02, 2.39189507e+02,\n",
       "       2.67629776e+02, 4.55923418e+02, 3.86644599e+02, 3.06442984e+02,\n",
       "       2.89141159e+02, 2.44007437e+02, 2.43254928e+02, 2.06236638e+02,\n",
       "       2.52426292e+02, 1.69161504e+02, 8.98152689e+01, 8.95560859e+01,\n",
       "       7.25521974e+01, 7.37257754e+01, 6.91374852e+01, 6.02839140e+01,\n",
       "       5.03932448e+01, 4.80562670e+01, 5.53058402e+01, 6.87680569e+01,\n",
       "       4.73613981e+01, 6.01483219e+01, 9.04325197e+01, 7.10614735e+01,\n",
       "       1.86032028e+02, 1.35786850e+02, 1.46977551e+02, 2.84797993e+02,\n",
       "       3.60599831e+02, 4.89096670e+02, 3.08273491e+02, 3.61420403e+02,\n",
       "       5.84580347e+02, 4.20323211e+02, 3.39288740e+02, 3.70089926e+02,\n",
       "       2.37430764e+02, 2.48990128e+02, 2.67542193e+02, 2.37846996e+02,\n",
       "       1.34002998e+02, 1.17603447e+02, 1.26023231e+02, 5.22787697e+01,\n",
       "       4.55001303e+01, 2.30949433e+01, 9.56144924e+00, 1.05960837e+01,\n",
       "       6.06509840e+00, 4.23367653e+00, 5.31588036e+00, 1.64114427e+00,\n",
       "       1.54600547e+00, 8.08679786e-01, 3.56770494e-02])"
      ]
     },
     "execution_count": 63,
     "metadata": {},
     "output_type": "execute_result"
    }
   ],
   "source": [
    "correlate(aggDayPrevNum, aggDayNum)"
   ]
  },
  {
   "cell_type": "code",
   "execution_count": 67,
   "metadata": {},
   "outputs": [
    {
     "name": "stderr",
     "output_type": "stream",
     "text": [
      "/Users/tejitpabari/Desktop/BangladeshFloodResearch/nlp_flood_research/classifier/ccfMitchell.py:28: UserWarning: In Matplotlib 3.3 individual lines on a stem plot will be added as a LineCollection instead of individual lines. This significantly improves the performance of a stem plot. To remove this warning and switch to the new behaviour, set the \"use_line_collection\" keyword argument to True.\n",
      "  ax.stem(np.arange(-lag_max,lag_max+1), result[lo:hi], '-.')\n",
      "/Users/tejitpabari/Desktop/BangladeshFloodResearch/nlp_flood_research/classifier/ccfMitchell.py:29: MatplotlibDeprecationWarning: Passing the minor parameter of set_xticks() positionally is deprecated since Matplotlib 3.2; the parameter will become keyword-only two minor releases later.\n",
      "  ax.set_xticks(np.arange(-lag_max,lag_max + 1), lag_max/5)\n"
     ]
    },
    {
     "data": {
      "image/png": "[encoded data removed]",
      "text/plain": [
       "<Figure size 720x360 with 1 Axes>"
      ]
     },
     "metadata": {
      "needs_background": "light"
     },
     "output_type": "display_data"
    },
    {
     "data": {
      "text/plain": [
       "array([-0.05556295, -0.08836801, -0.11345347, -0.12580253, -0.11873898,\n",
       "       -0.1392891 , -0.14865737, -0.11732539, -0.11192918, -0.08317116,\n",
       "       -0.00947974, -0.08560049, -0.00571801,  0.00681373,  0.03515313,\n",
       "        0.13278777,  0.1014428 ,  0.20117851,  0.13353002,  0.26825282,\n",
       "        0.78634789,  0.26788582,  0.12753897,  0.1947695 ,  0.08416316,\n",
       "        0.10424601,  0.00499779, -0.0450951 , -0.06841307, -0.15598739,\n",
       "       -0.08768271, -0.16291157, -0.19878844, -0.20017115, -0.23636025,\n",
       "       -0.22319078, -0.19563738, -0.21968226, -0.19423945, -0.14332391,\n",
       "       -0.11207726])"
      ]
     },
     "execution_count": 67,
     "metadata": {},
     "output_type": "execute_result"
    }
   ],
   "source": [
    "ccf(np.array(aggDayPrevNum), np.array(aggDayNum), plot=True)"
   ]
  },
  {
   "cell_type": "code",
   "execution_count": null,
   "metadata": {},
   "outputs": [],
   "source": []
  }
 ],
 "metadata": {
  "kernelspec": {
   "display_name": "bangladesh_venv",
   "language": "python",
   "name": "bangladesh_venv"
  },
  "language_info": {
   "codemirror_mode": {
    "name": "ipython",
    "version": 3
   },
   "file_extension": ".py",
   "mimetype": "text/x-python",
   "name": "python",
   "nbconvert_exporter": "python",
   "pygments_lexer": "ipython3",
   "version": "3.7.2"
  }
 },
 "nbformat": 4,
 "nbformat_minor": 4
}
