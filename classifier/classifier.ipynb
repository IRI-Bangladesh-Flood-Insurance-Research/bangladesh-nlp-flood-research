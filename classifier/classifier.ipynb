{
 "cells": [
  {
   "cell_type": "markdown",
   "metadata": {},
   "source": [
    "### Imports"
   ]
  },
  {
   "cell_type": "code",
   "execution_count": 78,
   "metadata": {},
   "outputs": [],
   "source": [
    "from sklearn.feature_extraction.text import CountVectorizer\n",
    "from sklearn.feature_extraction.text import TfidfVectorizer\n",
    "from sklearn.tree import DecisionTreeClassifier\n",
    "from sklearn.ensemble import RandomForestClassifier\n",
    "from sklearn.svm import LinearSVC\n",
    "from sklearn.naive_bayes import MultinomialNB\n",
    "from sklearn.metrics import accuracy_score, confusion_matrix, classification_report\n",
    "from sklearn.model_selection import train_test_split, ParameterGrid\n",
    "import nltk\n",
    "from nltk.tokenize import word_tokenize\n",
    "from sklearn.utils import shuffle\n",
    "from sklearn import decomposition\n",
    "import pandas as pd\n",
    "from copy import deepcopy\n",
    "import os\n",
    "import re\n",
    "import numpy as np\n",
    "import matplotlib.pyplot as plt\n",
    "import json\n",
    "import itertools\n",
    "import random\n",
    "import warnings\n",
    "import string\n",
    "warnings.filterwarnings(\"ignore\", category=UserWarning)\n",
    "\n",
    "from functions import load_data_tagtog, query_dataframe, load_data, get_new_predicted_data"
   ]
  },
  {
   "cell_type": "markdown",
   "metadata": {},
   "source": [
    "### Define Variables"
   ]
  },
  {
   "cell_type": "code",
   "execution_count": 79,
   "metadata": {},
   "outputs": [],
   "source": [
    "global_shuffle_seed = 4\n",
    "global_debug=True\n",
    "global_override=True"
   ]
  },
  {
   "cell_type": "markdown",
   "metadata": {},
   "source": [
    "### Load tagtog Data"
   ]
  },
  {
   "cell_type": "code",
   "execution_count": 80,
   "metadata": {},
   "outputs": [
    {
     "name": "stdout",
     "output_type": "stream",
     "text": [
      "Total: 1390 True: 663 False: 717\n"
     ]
    }
   ],
   "source": [
    "result, clf_result = {}, {}\n",
    "df_data = load_data_tagtog(['../tagtog/output'])\n",
    "data_true = query_dataframe(df_data, {'is_flood':True})\n",
    "data_false = query_dataframe(df_data, {'is_flood':False})\n",
    "print('Total:',len(df_data),'True:',len(data_true), 'False:',len(data_false))"
   ]
  },
  {
   "cell_type": "markdown",
   "metadata": {},
   "source": [
    "### Preprocess Data"
   ]
  },
  {
   "cell_type": "code",
   "execution_count": 81,
   "metadata": {},
   "outputs": [],
   "source": [
    "custom_stop_words = set(['date', 'published'])\n",
    "stop_words = set(nltk.corpus.stopwords.words('english'))\n",
    "punctuations = set(string.punctuation)\n",
    "all_stop_words = stop_words.union(punctuations, custom_stop_words)\n",
    "def preprocess(x):\n",
    "    x = re.sub('[^a-z\\s]', ' ', x.lower())\n",
    "    x = [w for w in x.split() if w not in all_stop_words and len(w)>3]\n",
    "    return ' '.join(x)"
   ]
  },
  {
   "cell_type": "code",
   "execution_count": 82,
   "metadata": {},
   "outputs": [],
   "source": [
    "df_data['text'] = df_data['text'].apply(preprocess)"
   ]
  },
  {
   "cell_type": "markdown",
   "metadata": {},
   "source": [
    "### Split Data"
   ]
  },
  {
   "cell_type": "code",
   "execution_count": 83,
   "metadata": {},
   "outputs": [],
   "source": [
    "def make_data_ratio(df_data, test_size=0.2, shuffle_seed=4, debug=False, \n",
    "                    save_folder=None, load_folder=None, override=False, file_prefix=''):\n",
    "    save_file, load_file=None, None\n",
    "    if save_folder: save_file = os.path.join(save_folder,file_prefix+'data.json')\n",
    "    if load_folder: load_file = os.path.join(load_folder,file_prefix+'data.json')\n",
    "    \n",
    "    if not override and load_file and os.path.isfile(load_file):\n",
    "        if debug: print('loaded',load_file)\n",
    "        js = json.load(open(load_file))\n",
    "        train_df = pd.DataFrame(js['train'])\n",
    "        test_df = pd.DataFrame(js['test'])\n",
    "        return {'train':train_df, 'test':test_df}\n",
    "    \n",
    "    true_data = df_data.loc[df_data['is_flood']==True]\n",
    "    false_data = df_data.loc[df_data['is_flood']==False]\n",
    "    train_true, test_true = train_test_split(true_data, test_size=test_size, random_state=shuffle_seed)\n",
    "    train_false, test_false = train_test_split(false_data, test_size=test_size, random_state=shuffle_seed)\n",
    "    \n",
    "    train_df = pd.concat([train_true, train_false])\n",
    "    train_df = train_df.sample(n=len(train_df), random_state=shuffle_seed).reset_index(drop=True)\n",
    "    test_df = pd.concat([test_true, test_false])\n",
    "    test_df = test_df.sample(n=len(test_df), random_state=shuffle_seed).reset_index(drop=True)\n",
    "    \n",
    "    if debug: print('Data Loaded')\n",
    "\n",
    "    if save_file:\n",
    "        train_json = train_df.to_json(orient='records')\n",
    "        test_json = test_df.to_json(orient='records')\n",
    "        json.dump({'train':json.loads(train_json), 'test':json.loads(test_json)}, open(save_file,'w'), indent=2)\n",
    "    return {'train':train_df, 'test':test_df}\n"
   ]
  },
  {
   "cell_type": "code",
   "execution_count": 84,
   "metadata": {
    "scrolled": true
   },
   "outputs": [
    {
     "name": "stdout",
     "output_type": "stream",
     "text": [
      "Data Loaded\n"
     ]
    }
   ],
   "source": [
    "result, clf_result = {}, {}\n",
    "save_data_folder = 'data_splits/'\n",
    "load_data_folder = 'data_splits/'\n",
    "test_size = 0.2\n",
    "if not os.path.isdir(save_data_folder): os.mkdir(save_data_folder)\n",
    "debug=global_debug or False\n",
    "override=global_override or False\n",
    "data_split = make_data_ratio(df_data, test_size=test_size, save_folder=save_data_folder, load_folder=load_data_folder, \n",
    "                               debug=debug, shuffle_seed=global_shuffle_seed, override=override)\n"
   ]
  },
  {
   "cell_type": "code",
   "execution_count": 85,
   "metadata": {
    "scrolled": true
   },
   "outputs": [
    {
     "name": "stdout",
     "output_type": "stream",
     "text": [
      "Train: 1103 \t\tTest: 277\n",
      "Train is_flood: 530 \tTrain not is_flood: 573\n",
      "Test is_flood: 133 \tTest not is_flood: 144\n"
     ]
    }
   ],
   "source": [
    "print('Train:',len(data_split['train']), '\\t\\tTest:',len(data_split['test']))\n",
    "print('Train is_flood:',len(data_split['train'].loc[data_split['train']['is_flood']==True]), \\\n",
    "'\\tTrain not is_flood:',len(data_split['train'].loc[data_split['train']['is_flood']==False]))\n",
    "print('Test is_flood:',len(data_split['test'].loc[data_split['test']['is_flood']==True]), \\\n",
    "'\\tTest not is_flood:',len(data_split['test'].loc[data_split['test']['is_flood']==False]))"
   ]
  },
  {
   "cell_type": "markdown",
   "metadata": {},
   "source": [
    "### Classifier"
   ]
  },
  {
   "cell_type": "code",
   "execution_count": 86,
   "metadata": {},
   "outputs": [],
   "source": [
    "def make_data(vect_fit, ratio):\n",
    "    train, test = ratio.get('train',None), ratio.get('test',None)\n",
    "    if train is None or test is None: raise Exception('Train or Test data not found')\n",
    "    all_X = list(train['text'])\n",
    "    \n",
    "    vect = vect_fit.fit(all_X)\n",
    "    trainX, testX = vect.transform(list(train['text'])), vect.transform(list(test['text']))\n",
    "    trainY, testY = [1 if t else 0 for t in train['is_flood']], [1 if t else 0 for t in test['is_flood']]\n",
    "    return trainX, testX, trainY, testY, vect\n"
   ]
  },
  {
   "cell_type": "code",
   "execution_count": 87,
   "metadata": {},
   "outputs": [],
   "source": [
    "def run_classifier(clf, trainX, testX, trainY, testY):\n",
    "    clf_fit = clf.fit(trainX, trainY)\n",
    "    clf_pred = clf_fit.predict(testX)\n",
    "    clf_acc = accuracy_score(testY, clf_pred)\n",
    "    return clf_fit, clf_pred, clf_acc\n"
   ]
  },
  {
   "cell_type": "code",
   "execution_count": 88,
   "metadata": {},
   "outputs": [],
   "source": [
    "def get_method(main_d, name):\n",
    "    if name not in main_d: raise Exception('Cannot find classifier/feature_extractor name in parameter dictionary')\n",
    "    d = main_d[name]\n",
    "    method = d.get('method',None)\n",
    "    base_method = d.get('base_method',None)\n",
    "    if method and base_method: raise Exception('Cannot have method and base method both.')\n",
    "    if not method and not base_method: raise Exception('Unable to parse the method from classifier/feature_extractor')\n",
    "    params = d.get('params',None)\n",
    "    if method:\n",
    "        if params: return method, params\n",
    "        else: return method, None\n",
    "    if base_method:\n",
    "        prev_method, prev_params = get_method(main_d, base_method)\n",
    "        if params:\n",
    "            for k,v in params.items(): prev_params[k] = v\n",
    "        return prev_method, prev_params\n",
    "\n",
    "def make_method(main_d, name, override_params={}):\n",
    "    method, params = get_method(main_d, name)[:]\n",
    "    if override_params:\n",
    "        for k,v in override_params.items(): params[k] = v\n",
    "    if params: return method(**params)\n",
    "    else: return method()\n"
   ]
  },
  {
   "cell_type": "code",
   "execution_count": 89,
   "metadata": {},
   "outputs": [],
   "source": [
    "def run_grid(grid, data, feature_extract, classifiers, clf_result, result, \n",
    "             debug=False, override=False, save_folder=None, load_folder=None, file_prefix=''):\n",
    "    save_clf_result = {}\n",
    "    vectCache, classifierCache = {}, {}\n",
    "    if load_folder:\n",
    "        res_file = os.path.join(load_folder,file_prefix+'clf_result.json')\n",
    "        clf_res_file = os.path.join(load_folder,file_prefix+'result.json')\n",
    "        if os.path.isfile(res_file): clf_result=json.load(open(res_file))\n",
    "        if os.path.isfile(clf_res_file): result=json.load(open(clf_res_file))\n",
    "        if os.path.isfile(res_file) and os.path.isfile(clf_res_file) and debug: print('loaded result')\n",
    "    \n",
    "    if override:\n",
    "        clf_result, result = {}, {}\n",
    "        if debug: print('OVERRIDE')\n",
    "    for g in list(grid):\n",
    "        try:\n",
    "            feature_name = g.get('feature_extract',None)\n",
    "            clf_name = g.get('classifier', None)\n",
    "            if not feature_name or not clf_name:\n",
    "                raise Exception('Feature Extract and Classifier Name required')\n",
    "            result_key = feature_name + '-' + clf_name\n",
    "            if result.get(result_key): continue\n",
    "            if debug: print('Feature:', feature_name, '  Clasifier:',clf_name, '  Key:',result_key)\n",
    "            \n",
    "            if feature_name in vectCache:\n",
    "                (trainX, testX, trainY, testY, feature2) = vectCache[feature_name]\n",
    "            else:\n",
    "                feature = make_method(feature_extract, feature_name)\n",
    "                trainX, testX, trainY, testY, feature2 = make_data(feature, data)\n",
    "                vectCache[feature_name] = (trainX, testX, trainY, testY, feature2)\n",
    "\n",
    "            clf = make_method(classifiers, clf_name)\n",
    "            clf_fit, clf_pred, clf_acc = run_classifier(clf, trainX, testX, trainY, testY)\n",
    "            \n",
    "            result[result_key] = {\n",
    "                'feature_extract': feature_name,\n",
    "                'classifier': clf_name,\n",
    "                'accuracy': clf_acc\n",
    "            }\n",
    "            \n",
    "            clf_result[result_key] = {\n",
    "                'feature_extract': feature_name,\n",
    "                'classifier': clf_name,\n",
    "                'clf': clf_fit,\n",
    "                'feature': feature2,\n",
    "                'predict': clf_pred\n",
    "            }\n",
    "            \n",
    "            save_clf_result[result_key] = {\n",
    "                'feature_extract': feature_name,\n",
    "                'classifier': clf_name,\n",
    "                'predict': clf_pred.tolist()\n",
    "            }  \n",
    "        except Exception as e:\n",
    "            print('Error:',e)\n",
    "            continue\n",
    "    if save_folder:\n",
    "        json.dump(save_clf_result, open(os.path.join(load_folder,file_prefix+'clf_result.json'),'w'), indent=2)\n",
    "        json.dump(result, open(os.path.join(load_folder,file_prefix+'result.json'),'w'), indent=2)\n",
    "    return clf_result, result\n"
   ]
  },
  {
   "cell_type": "code",
   "execution_count": 90,
   "metadata": {},
   "outputs": [],
   "source": [
    "def parse_result(result, accuracy_threshold=None, split_by='classifier'):\n",
    "    keys = list(result.keys())\n",
    "    temp_df = pd.DataFrame(list(result.values()))\n",
    "    temp_df['keys'] = keys\n",
    "    \n",
    "    splt_val = list(set(list(temp_df[split_by])))\n",
    "    for d in splt_val:\n",
    "        if accuracy_threshold:\n",
    "            new_df = temp_df.loc[temp_df[split_by]==d]\n",
    "            new_df = new_df.loc[new_df['accuracy']>accuracy_threshold] \\\n",
    "                            .drop(split_by, axis=1) \\\n",
    "                            .sort_values(by='accuracy',ascending=False) \\\n",
    "                            .reset_index(drop=True)\n",
    "        else:\n",
    "            new_df = temp_df.loc[temp_df[split_by]==d] \\\n",
    "                            .drop(split_by, axis=1) \\\n",
    "                            .sort_values(by='accuracy',ascending=False) \\\n",
    "                            .reset_index(drop=True)\n",
    "        print('{}: {}'.format(split_by,d))\n",
    "        print(new_df.to_markdown())\n",
    "        print()"
   ]
  },
  {
   "cell_type": "code",
   "execution_count": 91,
   "metadata": {},
   "outputs": [],
   "source": [
    "def plot_confusion_matrix(cm,\n",
    "                          target_names,\n",
    "                          title='Confusion matrix',\n",
    "                          cmap=None,\n",
    "                          normalize=True):\n",
    "    plt.rcParams.update({'font.size': 18})\n",
    "    accuracy = np.trace(cm) / np.sum(cm).astype('float')\n",
    "    misclass = 1 - accuracy\n",
    "\n",
    "    if cmap is None:\n",
    "        cmap = plt.get_cmap('Blues')\n",
    "\n",
    "    plt.figure(figsize=(8, 6))\n",
    "    plt.imshow(cm, interpolation='nearest', cmap=cmap)\n",
    "    plt.title(title)\n",
    "    plt.colorbar()\n",
    "\n",
    "    if target_names is not None:\n",
    "        tick_marks = np.arange(len(target_names))\n",
    "        plt.xticks(tick_marks, target_names, rotation=45)\n",
    "        plt.yticks(tick_marks, target_names)\n",
    "\n",
    "    if normalize:\n",
    "        cm = cm.astype('float') / cm.sum(axis=1)[:, np.newaxis]\n",
    "\n",
    "\n",
    "    thresh = cm.max() / 1.5 if normalize else cm.max() / 2\n",
    "    for i, j in itertools.product(range(cm.shape[0]), range(cm.shape[1])):\n",
    "        if normalize:\n",
    "            plt.text(j, i, \"{:0.4f}\".format(cm[i, j]),\n",
    "                     horizontalalignment=\"center\",\n",
    "                     color=\"white\" if cm[i, j] > thresh else \"black\")\n",
    "        else:\n",
    "            plt.text(j, i, \"{:,}\".format(cm[i, j]),\n",
    "                     horizontalalignment=\"center\",\n",
    "                     color=\"white\" if cm[i, j] > thresh else \"black\")\n",
    "\n",
    "\n",
    "    plt.tight_layout()\n",
    "    plt.ylabel('True label')\n",
    "    plt.xlabel('Predicted label\\naccuracy={:0.4f}; misclass={:0.4f}'.format(accuracy, misclass))\n",
    "    plt.show()"
   ]
  },
  {
   "cell_type": "code",
   "execution_count": 92,
   "metadata": {},
   "outputs": [],
   "source": [
    "def compare_result(clf_result, data, method_name, conf_matrix=True, class_report=True):\n",
    "    if method_name not in clf_result: raise Exception('Cannot find method')\n",
    "    res = clf_result[method_name]\n",
    "    new_df = data['test']\n",
    "    actual = [1 if f else 0 for f in list(new_df['is_flood'])]\n",
    "    new_df['predict'] = res['predict']\n",
    "    if conf_matrix:\n",
    "        mat = confusion_matrix(actual, res['predict'])\n",
    "        plot_confusion_matrix(mat, ['Negative', 'Positive'])\n",
    "        print(mat)\n",
    "#         print('TN:',tn,'FP:',fp,'FN:',fn,'TP:',tp)\n",
    "    if class_report: print(classification_report(actual, res['predict']))\n",
    "    return new_df\n",
    "    "
   ]
  },
  {
   "cell_type": "code",
   "execution_count": 93,
   "metadata": {},
   "outputs": [],
   "source": [
    "def make_vocab(ratio):\n",
    "    train, test = ratio.get('train',None), ratio.get('test',None)\n",
    "    if train is None or test is None: raise Exception('Train or Test data not found')\n",
    "    all_X = list(train['text']) + list(test['text'])\n",
    "    \n",
    "    params= {\n",
    "            'tokenizer': word_tokenize,\n",
    "            'stop_words': 'english',\n",
    "        }\n",
    "    vect = CountVectorizer(**params)\n",
    "    vect = vect.fit(all_X)\n",
    "    return list(vect.vocabulary_.keys())"
   ]
  },
  {
   "cell_type": "code",
   "execution_count": 94,
   "metadata": {},
   "outputs": [],
   "source": [
    "vocab = make_vocab(data_split)\n",
    "\n",
    "feature_extract = {\n",
    "    'CountVect': {\n",
    "        'classifier_type': 'Count Vectorizer',\n",
    "        'method': CountVectorizer,\n",
    "        'params': {\n",
    "            'tokenizer': word_tokenize,\n",
    "            'stop_words': 'english',\n",
    "            'vocabulary': vocab\n",
    "        }\n",
    "    },\n",
    "    'CountVect-min_df':{\n",
    "        'base_method': 'CountVect',\n",
    "        'params':{\n",
    "            'min_df': 0.05\n",
    "        }\n",
    "    },\n",
    "    'CountVect-max_df':{\n",
    "        'base_method': 'CountVect',\n",
    "        'params':{\n",
    "            'max_df': 0.95\n",
    "        }\n",
    "    },\n",
    "    'CountVect-min_df-max_df':{\n",
    "        'base_method': 'CountVect',\n",
    "        'params':{\n",
    "            'min_df': 0.05,\n",
    "            'max_df': 0.95\n",
    "        }\n",
    "    },\n",
    "    'TFIDF': {\n",
    "        'classifier_type': 'TFIDF',\n",
    "        'method': TfidfVectorizer,\n",
    "        'params': {\n",
    "            'tokenizer': word_tokenize,\n",
    "            'stop_words': 'english',\n",
    "            'vocabulary': vocab\n",
    "        }\n",
    "    },\n",
    "    'TFIDF-min_df':{\n",
    "        'base_method': 'TFIDF',\n",
    "        'params':{\n",
    "            'min_df': 0.05\n",
    "        }\n",
    "    },\n",
    "    'TFIDF-max_df':{\n",
    "        'base_method': 'TFIDF',\n",
    "        'params':{\n",
    "            'max_df': 0.95\n",
    "        }\n",
    "    },\n",
    "    'TFIDF-min_df-max_df':{\n",
    "        'base_method': 'TFIDF',\n",
    "        'params':{\n",
    "            'min_df': 0.05,\n",
    "            'max_df': 0.95\n",
    "        }\n",
    "    },\n",
    "}\n",
    "\n",
    "classifiers = {\n",
    "    'RandomForest': {\n",
    "        'classifier_type':'Random Forest ',\n",
    "        'method': RandomForestClassifier,\n",
    "        'params':{\n",
    "            'class_weight':'balanced'\n",
    "        }\n",
    "    },\n",
    "    'LinearSVC': {\n",
    "        'classifier_type': 'Linear SVC',\n",
    "        'method': LinearSVC,\n",
    "        'params':{\n",
    "            'class_weight':'balanced'\n",
    "        }\n",
    "    }\n",
    "}\n",
    "\n",
    "\n",
    "single_feature_extract = {\n",
    "    'TFIDF': {\n",
    "        'classifier_type': 'TFIDF',\n",
    "        'method': TfidfVectorizer,\n",
    "        'params': {\n",
    "            'tokenizer': word_tokenize,\n",
    "            'stop_words': 'english',\n",
    "            'vocabulary': vocab\n",
    "        }\n",
    "    }\n",
    "}\n",
    "\n",
    "single_classifiers = {\n",
    "    'LinearSVC': {\n",
    "        'classifier_type': 'Linear SVC',\n",
    "        'method': LinearSVC,\n",
    "        'params':{\n",
    "            'class_weight':'balanced'\n",
    "        }\n",
    "    }\n",
    "}\n",
    "\n",
    "grid_parameters = {\n",
    "    'feature_extract': list(feature_extract.keys()),\n",
    "    'classifier': list(classifiers.keys()),\n",
    "}\n",
    "\n",
    "grid = ParameterGrid(grid_parameters)"
   ]
  },
  {
   "cell_type": "code",
   "execution_count": 95,
   "metadata": {},
   "outputs": [],
   "source": [
    "# Single Classifier\n",
    "\n",
    "feature_extract = single_feature_extract\n",
    "classifiers = single_classifiers\n",
    "grid_parameters = {\n",
    "    'feature_extract': list(feature_extract.keys()),\n",
    "    'classifier': list(classifiers.keys()),\n",
    "}\n",
    "grid = ParameterGrid(grid_parameters)"
   ]
  },
  {
   "cell_type": "code",
   "execution_count": 96,
   "metadata": {
    "scrolled": true
   },
   "outputs": [
    {
     "name": "stdout",
     "output_type": "stream",
     "text": [
      "loaded result\n",
      "OVERRIDE\n",
      "Feature: TFIDF   Clasifier: LinearSVC   Key: TFIDF-LinearSVC\n"
     ]
    }
   ],
   "source": [
    "override=global_override or False\n",
    "debug=global_debug or False\n",
    "save_results_folder = 'results/'\n",
    "load_results_folder = 'results/'\n",
    "if not os.path.isdir(save_results_folder): os.mkdir(save_results_folder)\n",
    "clf_result, result = run_grid(grid, data_split, feature_extract, classifiers, clf_result, result, \n",
    "                              debug=debug, override=override, save_folder=save_results_folder, \n",
    "                             load_folder=load_results_folder)\n"
   ]
  },
  {
   "cell_type": "code",
   "execution_count": 97,
   "metadata": {
    "scrolled": false
   },
   "outputs": [
    {
     "name": "stdout",
     "output_type": "stream",
     "text": [
      "classifier: LinearSVC\n",
      "|    | feature_extract   |   accuracy | keys            |\n",
      "|---:|:------------------|-----------:|:----------------|\n",
      "|  0 | TFIDF             |   0.942238 | TFIDF-LinearSVC |\n",
      "\n"
     ]
    }
   ],
   "source": [
    "parse_result(result)"
   ]
  },
  {
   "cell_type": "code",
   "execution_count": 98,
   "metadata": {
    "scrolled": false
   },
   "outputs": [
    {
     "name": "stdout",
     "output_type": "stream",
     "text": [
      "classifier: LinearSVC\n",
      "|    | feature_extract   |   accuracy | keys            |\n",
      "|---:|:------------------|-----------:|:----------------|\n",
      "|  0 | TFIDF             |   0.942238 | TFIDF-LinearSVC |\n",
      "\n"
     ]
    }
   ],
   "source": [
    "parse_result(result, 0.94)"
   ]
  },
  {
   "cell_type": "code",
   "execution_count": 99,
   "metadata": {
    "scrolled": true
   },
   "outputs": [
    {
     "data": {
      "image/png": "[encoded data removed]",
      "text/plain": [
       "<Figure size 576x432 with 2 Axes>"
      ]
     },
     "metadata": {
      "needs_background": "light"
     },
     "output_type": "display_data"
    },
    {
     "name": "stdout",
     "output_type": "stream",
     "text": [
      "[[135   9]\n",
      " [  7 126]]\n",
      "              precision    recall  f1-score   support\n",
      "\n",
      "           0       0.95      0.94      0.94       144\n",
      "           1       0.93      0.95      0.94       133\n",
      "\n",
      "    accuracy                           0.94       277\n",
      "   macro avg       0.94      0.94      0.94       277\n",
      "weighted avg       0.94      0.94      0.94       277\n",
      "\n",
      "Labelled: False \tPredicted: True\n",
      "florida towns told residents remain vigilant despite forecasts might dodge dorian landfall tropical storm watch issued state south atlantic coast communities northeast florida georgia south carolina raised alert levels residents filling sandbags authorities tested infrastructure hurricane drills south carolina saturday joined georgia north carolina florida declaring state emergency bahamas prime minister hubert minnis begged residents abaco grand bahamas head main island escape devastating dangerous storm want remember homes houses structures replaced lives cannot replaced minnis told news conference adding people homes risk storm surges feet meters national hurricane centre said dorian packing maximum sustained winds would bahamas sunday feet rainfall places threatening deadly flash floods dorian could veer northwest possibly remain moved eastern seaboard late monday tuesday said tropical storm watch issued mile stretch florida coast deerfield beach around palm meaning sustained winds possible within hours north carolina authorities warned residents dorian heading counterparts florida told towns remain alert obviously better forecast assume going hazardous weather said miami beach mayor gelber bahamas sunday central florida towns urged residents remain alert past hurricanes like andrew slammed bahamas barrelled straight peninsula southeast coast start taking shutters start disassembling emergency plan said eric flowers spokesman sheriff office indian river county tybee island georgia coastal barrier island authorities sand sandbags protect possible flooding marshy area biggest concern storm surge tides really high right said manager local restaurant asked named authorised speak media north dorchester county south carolina raised alert level make sure infrastructure public safety crews ready hurricane area near historic city charleston north carolina emergency management ncema said storm forecast keep moving state direction next hours time prepare assemble disaster supplies said katie webster ncema meteorologist urging people prepare week supply food water\n",
      "\n",
      "Labelled: False \tPredicted: True\n",
      "metre stretch embankment water development board washed away southkhali union sarankhola upazila yesterday moreover huge cracks developed least points within half kilometres embankment bogi bazar gabtala bazar area high tide water enters breaches embankment built coastal embankment improvement project ceip funded world bank result cropland houses fish enclosures ponds area flooded regular basis locals alleged authorities given priority less vulnerable points embankment neglected vulnerable ones near baleshwar river southkhali union parishad chairman mozammel hossain said order make kilometre long embankment sustainable sidr aila affected areas chinese company named chwe started work january cost around crore however work much risky areas bogi gabtala north southkhali south southkhali rayenda sections sarankhola upazila added chairman expressed frustration project saying much hope upazila nirbahi officer lincoln biswas said authorities asked take immediate action protect embankment engineer shyamal dutta ceip said working points embankment strong bogi gabtala bazar areas beginning project embankment experienced collapse trying protect areas building ring dams using soil sacks urgent basis added\n",
      "\n",
      "Labelled: False \tPredicted: True\n",
      "disaster management relief secretary shah kamal revealed information speaking media drill disaster preparedness refugee camp ukhia saturday said families taken shelter bazar families danger natural disasters like flood cyclone landslide monsoon said government already relocated families safer places took necessary steps tackle disasters\n",
      "\n",
      "Labelled: True \tPredicted: False\n",
      "hundreds people fled homes kashmir main rivers began swell weather forecasters predicted downpours region struck devastating floods seven months hillside collapsed onto house village miles capital srinagar three families sleeping monday morning according mushtaq ahmad neighbor army police used diggers shovels locate survivors huge landslide entire house covered earth ahmad said chance finding everyone alive unlikely local police superintendent fayaz ahmad lone said people buried house village ledhan locals said number could higher india experiencing extreme rainfall events global climate warms study years data indian institute tropical meteorology concluded year march wettest month century wrecking millions hectares winter crops crop damage blamed spate rural suicides recent weeks september kashmir valley suffered worst flooding century killing people displacing almost million weeks misery added problems muslim majority state revolt indian rule simmered quarter century kashmir divided india pakistan claimed full countries weather officials said heavy showers would occur isolated places kashmir next couple days although intensity rain likely diminish state received surplus rainfall thirds districts month monday kashmiri government declared flood alert asked people living near river jhelum flowsthrough srinagar leave homes government established relief camps forced flee mujeeb ahmad doctor left family sunday evening last year family caught floods rescued four days ahmad said want take chances\n",
      "\n",
      "Labelled: False \tPredicted: True\n",
      "tuesday july heavy rains lash bangladesh offing heavy monsoon showers lashed parts bangladesh past hours southern areas country particular observed significant rainfall activity span hours friday feni received rain bazar recorded rain also sitakundu observed rain kutubdia jassore rangamati mungla ishurdi fresh cyclonic circulation formed north bengal extending upper tropospheric levels system likely move west northwest direction furthermore circulation widesprain rain moderate intensity occur south bangladesh south west bengal along parts north odisha heavy rains continue bangladesh longer duration lead flood like situation region rivers already flowing close anger mark rain lead addition water levels\n",
      "\n",
      "Labelled: False \tPredicted: True\n",
      "heavy heavy rain different parts country especially hills sylhet chittagong hill tracts trigger landslides today office warned rain forced active monsoon continue intermittently wednesday heavy showers onrush water hills across border already swelled jadukata river sunamganj flowing danger level yesterday morning supplememted already swollen surma sunamganj flowing overflowing banks threatening locals second spell flooding within couple months surma carrying extra load water barak river manipur north eastern india rising steadily might still continue rise next hours flood forecasting warning centre ffwc said yesterday brahmaputra jamuna ganges padma likely rise heavy rain acorss country howver kushiyara river become steady next hours ffwc stated river situation report yesterday surma kushiyara wreaked havoc along vast area sylhet sunamganj maulvibazar june time river swollen water haors spilled banks ffwc said ganges brahmaputra shot padma jamuna likely rise next hours meanwhile sitakunda lashed overnight rain highest country recorded rain till noon much rain recorded rangamati raising fears landslides among living hills\n",
      "\n",
      "Labelled: False \tPredicted: True\n",
      "tuesday july houses satkhira destroyed severe cyclonic storm bulbul coastal area early sunday according media report strong wind continuing since saturday night three clock thousands trees uprooted coastal area shyamnagar upazila district shymnagar upazila agriculture officer abul hossain said aman paddy cultivated hectares land unions heavy rains caused massive loss percent aman crop\n",
      "\n",
      "Labelled: True \tPredicted: False\n",
      "promise waterlogging next year lgrd cooperatives minister khandker mosharraf hossain said july last year city million dhaka almost certain water moderate rain late last month much capital inundated following little moderate shower causing public misery city needs efficient drainage network unobstructed canals free flood zones around save perennial waterlogging past months since minister made promise city authorities routine clean scanty drainage network remains half done apart initiative taken free canals floodplains within city grabbers multiple development works different parts capital worsened situation works include road improvement uttara construction metro rail piers along rokeya sarani relocation underground utility service lines along kazi nazrul islam avenue july last year local government rural development cooperatives minister khandker mosharraf hossain said waterlogging dhaka city would recur government learnt lesson following promise dhaka water supply sewerage authority wasa asked additional allocation cleaning canals said wasa adviser abul kashem response current fiscal year drawing close revised amount money released mahbubul alam director general local government division said requested finance ministry additional allocations exactly know rationale delay said think wasa money asked wasa would money last moment monsoon almost alam said spend much return rest keep next year contacted wasa managing director taqsem khan said taking routine piecemeal measures cleaning scanty artificial drainage lines maintaining pump machines pump accumulated rainwater flood flow zones canals lying water retention areas earmarked detailed area plan conservation destroyed make real estate business development leading today deplorable drainage situation said dhaka city storm drainage problem cannot permanently solved without reclaiming designated flood flow zones water retention areas noted hand ground percolation means rainwater management also made difficult percent sqkm wasa area city paved concrete ministry usually allocates wasa allocation around every monsoon money needed routine cleaning maintenance wasa drainage service said shahid uddin former wasa chief engineer currently contractual wasa director said wanted excavate length canals within month enhance water passage capacity started work places hoped extra allocations apart wasa authorities deal dhaka drainage system piecemeal basis without much knowledge city corporations water development board rajuk cantonment board private housing developers like bashundhara result dhaka plunges nightmare public misery every time normal monsoon shower instantly floods city roads town planners city corporations maintain feeder drains open small diameter pipes drain water homes rainwater take canals wide diameter wasa storm sewer system government made storm drainage master plan dhaka could implemented assign authority officials said wasa storm drainage pipelines diameter covers fifth sqkm service area present rainfall time dhaka city floods city water takes least three hours recede available pumping facility drain rain according officials rain water supposed carried away instantly lying retention areas well networked storm drainage system network destroyed artificial pipelines clogged solid wastes takes hours rainwater pass wasa maintains canals long part storm drainage system mostly remain clogged uncollected solid wastes canals turned concrete culverts build roads significantly reducing capacity carry water according leading urban planners lying wetlands flood flow zones storm water retention ponds ditches canals filled name development blocked natural passage monsoon rainwater time authorities warned grim consequence urban storm water management paid heed according flood action plan city conserved acres water retention area percent sqkm dhaka master plan acres canals rivers percent acres percent flood flow zones surviving city canals illegal occupation government taken project land acquisition excavation five canals ease capital waterlogging problem five canals hazaribagh baishteki sangbadaik colony begunbari manda khal across south north dhaka cities canals public property percent money spent acquisition acres private land rest compensation structures excavation bank development executive committee national economic council prime minister sheikh hasina chair approved draft proposal april local government ministry proposed year scheme implemented dhaka wasa december next year\n",
      "\n",
      "Labelled: True \tPredicted: False\n",
      "cyclone amphan made landfall last evening india orissa coast adverse affect cyclonic storm seen coastal regions bangladesh near indian border compilation photos locals seen fixing riverbanks khulna dacop region prevent flooding surge water level\n",
      "\n",
      "Labelled: True \tPredicted: False\n",
      "around people villages sadar jaldhaka upazilas district suffering around three years construction bridge burikhora river important ramnagar mirganj road completed work bridge stopped construction firm withdrew workers around three months sadar upazila engineer local government engineering department lged saiful islam said bridge washed away flood floated tender build foot long foot wide concrete bridge cost crore local firm messrs mofakkharul islam work order november complete within years visiting site january correspondent found girders wing walls three pairs pillars completed railings sides bridge still incomplete labourers masons present site added upazila engineer said percent work completed contractor build approach roads dumped sand ends bridge added locals said made bamboo bridge side bikes rickshaw vans cross risky people sometimes fall hurt tafser area said biker laxmikanta injured slipped risky makeshift bridge fell dried river last week undergoing treatment rangpur medical college hospital tafser added giriza prosonna resident schoolteacher said contractor took workers work another site leaving bridge incomplete compelled bring groceries trucks travelling additional said abdus sattar grocer nearby bahalipara market wahidul islam headmaster ramnagar high school said five schools sides river many students cannot attend classes rainy season want bridge contractor mofakhkharul islam mamun refuted allegatiosn alleging people stopped construction claiming land belongs initially locals donated land build bridge approach roads demanding compensation cannot give government allocated money want solve problems help elected public representatives said belal hossain executive engineer district lged\n",
      "\n",
      "Labelled: True \tPredicted: False\n",
      "news summary sunday international talks northwest pacific safety made progress unpublicized negotiations united states soviet union japan reagan administration officials said negotiations aimed preventing repetition downing south korean airliner soviet fighter latest round ended friday moscow russians requested little publicity possible page column kuwait leader escaped death suicide driver rammed bomb laden motorcade kuwaiti officials reported said driver died bodyguards passer also killed caller saying represented terrorist group known islamic holy claimed responsibility pope installed cardinals colorful ceremony held outdoors rome among elevated archbishops world largest roman catholic dioceses archbishop john connor york among battle palestinian districts spread beirut area eastern lebanon fighting went seventh police reported four people killed palestinian guerrillas clashed militamen amal mainstream shiite moslem movement baalbek area bekaa region miles east beirut hundreds people killed hurricane struck southern coast bangladesh offshore islands unofficial report death toll noakhali district east side mouth ganges river nationwide officials feared final estimates would much higher national overflow great lakes shrinking beaches covering piers flooding roads causing worries tourism home values great lakes world largest body fresh water highest levels history heavy precipitation last fall winter responsible unusually high levels inches feet normal officials expect levels continue rise june perhaps summer white dominate leadership state advisory committees serve united states commission civil rights according commission figures appointees among members advisory panels preliminary racial breakdown found chairmen white white chairmen former panels talks broke united airlines striking pilots reached tentative agreement basic economic issues became deadlocked troublesome back work provisions navy yeoman accused spying father soviet union returned duty united states investigators assessed damage might done national security michael walker yeoman third class charged smuggling secret documents aircraft carrier nimitz father retired navy communications officer metropolitan scientists columbia university retracting studies scientific journals results wrong committee headed nobel prize recipient investigating situation said could neither prove rule deliberate fabrication data nassau county police test prepared educational testing service princeton rejected justice department nassau trying develop police test since government charged existing test discriminated minorities women\n",
      "\n",
      "Labelled: False \tPredicted: True\n",
      "bangladesh water development board bwdb today forecasted flash flood haor regions sunamganj sylhet india meteorological department predicted excessive rainfall north eastern part bangladesh bordering areas india april flood forecast warning centre ffwc bwdb issued forecast notice regard official website today reports sylhet correspondent talking correspondent arifuzzaman bhuiyan executive engineer ffwc dhaka said india meteorological department forecasted millimetre rain meghalaya barak valley india millimetre tripura valley india rainfall might occur april moreover rain north eastern part bangladesh following forecast rainfall predicting water major rivers meghna basin rise promptly small rivers might flow danger level forecasting possible flash flood region said taking forecast consideration sunamganj deputy commissioner mohammad abdul ahad today circulated notice harvest boro paddy soon possible flash flood hits haor region notice ordered project implementation committees strictly monitor conditions dykes constructed kajer binimoye taka kabita protect boro harvest haor year kilometres rehabilitation work levees haors completed projects district spending around crore according department agriculture extension boro paddy cultivated hectares land sunamganj year last year cultivation area hectares\n",
      "\n",
      "Labelled: False \tPredicted: True\n",
      "hectares square miles land lost roughly area chicago biggest cities erosion caused padma river since according august report nasa earth observatory space agency focuses planet live numerous farms houses lives lost displaced recent decades riverbank erosion swallow large chunks shore every year hundreds sometimes thousands hectares land erode fall river report says extreme erosion patterns padma main causes first natural free flowing river little bank protection occasional sandbags protect buildings second bank sits large sand eroded quickly scientists measure erosion river noting differences width depth shape overall appearance satellite images nasa report padma river shape erosion compares natural colour satellite images showing changes shape width river since twist zigzag said tell different geologic story river images acquired nasa landsat satellites images acquired january february season years researchers observed increase river sinuosity braiding sinuosity tendency river snake back forth shape across plain rivers high sinuosity labeled meandering rivers said evolve flow wears away outer edges widening channel flow inner edge less energy allowing sediment deposited sometimes meandering rivers leave scars water flowed seen image harirampur region manikganj sediments come variety sources theory suggests sediments remnants landslide triggered earthquake researchers think coarser material like sand took half century pass river past three decades river changed relatively narrow straight line meandering braided recently back straight image sequence noticeable change occurs upstream near harirampur upazila region experienced erosion large flood rose banks exacerbated opening farakka barrage india released water bangladesh according report downstream meandering bends eroded land near char janajat river curves became extreme curve started develop began decline since disappeared researchers particularly interested char janajat area site bridge crossing bangladesh biggest construction projects padma river bridge connect eastern western parts country shorten travel times locations thirteen hours three concerns erosion could threaten construction bridge although researchers believe could actually stabilise land reduce erosion finished report says recent years padma erosion rates sinuosity braiding actually decreased erosion said slowed meandering bends disappeared sedimentation mean area free erosion disturbance ecosystem floods landslides construction could influence morphology river report mentions\n",
      "\n",
      "Labelled: True \tPredicted: False\n",
      "rangpur reported three covid cases malaysia returnee rangpur badargonj upazila tested positive coronavirus covid making first case upazila badargonj upazila nirbahi officer nabirul islam confirmed matter dhaka tribune around wednesday year returned malaysia upazila recently went narayanganj stayed month days came back narayanganj started suffering fever cough respiratory problems prompting health authorities collect samples later sent rangpur medical college hospital testing wednesday reports came back positive said nabirul islam also added houses around patient residence residential quarter badargonj upazila health complex brother lives lockdown rangpur reported three covid cases according health authorities\n",
      "\n",
      "Labelled: False \tPredicted: True\n",
      "severe cyclonic storm fani centred west bengal nearly people eastern india evacuated path incoming major cyclone packing winds gusting hour torrential rains officials told thursday indian weather service said extremely severe cyclonic storm fani expected make landfall friday afternoon odisha state barrel north eastwards towards bangladesh pathway home million people total million people expected evacuated lying areas districts eastern state odisha cyclone shelters schools buildings authorities said reports reuters along extremely heavy rainfall places storm surge likely inundate lying areas odisha according indian meterological department cyclone fanicyclone india strongest summertime cyclone last years likely odisha coast friday afternoon twitter jfhvcz state relief department official told people moved safer places overnight least districts odisha home million people bear brunt storm expecting million people move danger zone next hours bishnupada sethi odisha special relief commissioner told shelters schools government buildings accommodate million people food packets ready dropped needed reports said thursday storm reports said biggest eastern india nearly decades brewing bengal moving steadily ominously towards shore predicted pack sustained wind speeds gusts equivalent strength category hurricane expected make landfall near hindu holy town puri major tourist hotspot trains cancelled past hours according indian railways three special trains running puri evacuate pilgrims tourists authorities asked tourists leave coastal areas avoid unnecessary travel special buses deployed puri towns dozens officials making announcements hand held megaphones across coastal belt asking residents leave homes extremely severe cyclone fani path slam eastern india friday odisha yellow alert speed wind reach twitter yghglfaylw odisha fani predicted head north towards state west bengal towards bangladesh authorities already preparing thursday coastal states south odisha like andhra pradesh home million people tamil nadu population million also standby fishermen advised venture indian navy also alert kolkata airport shutdown flights kolkata netaji subhas chandra bose international airport cancelled friday till saturday cyclone fani expected make landfall tomorrow morning flights odisha capital bhubaneswar already cancelled midnight extremely severe cyclone nears state coast south temple town puri airports authority india also issued advisory coastal airports take adequate precautions india biggest producer ongc evacuated close employees offshore installations moved drilling rigs safer locations press trust india reported heavy rains expected coastal districts amid fears flash floods geared challenge said sethi total destruction forecasters warned total destruction thatched houses bending uprooting power communication poles flooding escape routes damage crops areas bangladesh disaster management chief mohammad hashim said cyclone shelters opened coastal districts country weather bureau told deep fishing vessels stay near coast inland water transport activities suspended coastal area farmers bangladesh instructed harvest paddy fields surging tide inundate ruin crops fani fourth major storm slam india east coast three decades last cyclone ockhi left nearly people dead missing tamil nadu kerala worst cyclone record odisha killed almost people caused estimated billion worth devastation\n",
      "\n",
      "Labelled: True \tPredicted: False\n",
      "dhaka city experiences deluge every time rains heavily every time major floods occur country every time rains city dhaka faces acute drainage problem parts city water densely populated city woes people know bounds devastating floods occurred submerging percent country along country dhaka city except pockets high spots went various depths water flood water city eastern western parts however earlier years eastern western parts city mostly agricultural lowlands human habitation flood damage remained confined city proper huge suffering people today eastern part spite huge investment years particularly floods almost whole city dhaka went water floods appeared devastating dhaka city drainage situation aggravated silted blocked drainage channels wasa limited storm water drainage inadequate city sqkm greater dhaka causes problems causes floods drainage problem vary different zones areas city depending topography elevation high proximity rivers peculiar areas like housing estates main causes floods city river floods runoff rainfall river floods rivers surrounding city like sitalakhya buriganga turag tongi balu cause floods city year lying areas eastern part greater dhaka city heavily flooded point reasons proposed flood protection eastern embankment bypass constructed western flood protection embankment protected uttara airport nikunja areas floods turag buriganga rainfall drainage system city channels encroached upon land grabbers choked filled illegal dumping solid construction wastes water logging occurs around city former flowing living channels existent even large ones like begunbari channel either encroached upon outfall closed consequence runoff cannot flow used even gulshan banani baridhara uttara lakes blocked outfall many channels eastern dhaka south badda khilgaon bashaboo shahjahanpur jatrabari partly full occupied unauthorised illegal structures channels improved heavy runoff quickly flow outside city housing estates gulshan banani baridhara uttara perhaps satellite towns like bashundhara asian city amin group relatively higher lands runoff thus flows lakes incidentally work buffer flood control reservoirs except pockets transient water logging areas waters quickly drained eastern part eastern area city heavily affected river floods also runoff flood water standing river levels remain high strongly suggests pumping flood runoff waters eastern embankment would constructed similar pumping necessary western embankment area city city affected runoff form rainfall numerous pockets remain water logged drainage channels built water flows improved channels flood situation improve wasa also help storm water drains necessary open drains difficult congestion area unique situation location water logging project earliest irrigation projects dhaka demra narayanganj project built epwapda bwdb project meant producing rice crops irrigation recent years agricultural lands purchased illegally acquired residential canals encroached upon irrigation drainage channels encroached upon influential people heavy downpour june whole dhaka city adjoining areas flooded drainage channels closed project area fully water logged another reason level outfall drainage channels natural drainage possible higher level water river sitalakhya result water needed pumped sometimes pumps remain order bwdb keep pumps good working condition times unconventional causes though unconventional causes like slow subsidence ground surface general occur long period time deserve serious consideration gradual subsidence many years might turn serious magnitude dimension happen natural made causes natural process soil erosion anytime heavy rainfall occurs erodes soil city area ceaselessly rainfall caused erosion sediment transported away runoff adjoining rivers bounding city rills small channels proper contour survey available later years compared magnitude erosion consequently lowering ground surface level subsidence made causes causes land susbidence subsidence pumping continuous pumping hundreds deep tubewells ground water level dhaka city falling mentioned continuous pumping tamil nadu gujrat states india ground water dried millions tubewells irrigation yielding rain agriculture practice drinking water brought large affected area hundreds thousands trucks daily ascertain difference ground level years estimate evidence extent subsidence groundwater aquifer aquifer water holding stratum layer soils consists trillions water filled voids pumping continues years voids depleted water result overhead soil pressure empty voids contracted accentuate subsidence though long term process happen worth investigation studies high rise buildings last years thousands high rise buildings constructed dhaka though developers generally take good care foundation design considering bearing capacity versus subsidence thousands multi storied buildings privately constructed doubt whether took care foundation design adequately years come global effect millions tons imposed weight surface cause subsidence soft alluvial sedimentary soils underlying city storey residential building katha weigh tons learned geologists foundation engineers might answer answer emphatic concern three causes particularly made ones might look speculative moment serious investigations comprehensive relevant surveys intensive studies might obtain suitable answer june rainfall analyse rainfall june occurred duration hours midnight total rainfall abut greater dhaka area preliminary estimate shows flow discharge generated greater dhaka metropolitan area figures designed discharge canals bottom width deep side slope slope canals bottom width designed drainage greater dhaka city trapezoidal channels various capacities required achieve drainage city begunbari channel takes dhanmondi lake mirpur road blocked near panthapath crossing perhaps blocked roads notable nazrul islam avenue sonargaon hotel resurfaced behind hotel illegal structures multi storey buildings constructed sonargaon hotel crossing shahid tajuddin road tejgaon road channel veers north eastward meeting combined drainage channels gulshan banani lake mohakhali drainage channel point south gulshan lake moves east southeastwards meeting north south channel areas south badda moves eastward proposed eastern bypass begunbari channel main drainage channel city larger dimension longer stretch moves west east draining crowded parts city tejgaon mohakhali kawran bazar panthapath banani gulshan open areas east green road farmgate area width proper designed dimensions carry discharge total runoff generated june rainfall begunbari appears large catchments also drains entire badda rampura khilgaon areas open areas east sides begunbari feeder channels mohakhali banani gulshan lake north south canal meeting bagunbari excavated improved begunbari channel acts like drainage divide north south metropolitan area another divide existed city filled dholai khal channel west east dividing city drainage canal north south contour plan begunbari catchment characteristics channel catchment plan synthetic unit hydrograph drawn using maximum daily rainfall data years unit hydrograph peak flood years years years frequency versus depths determined design channels similar methods used channels zones areas recommendations master plan master plan dhaka city drainage prepared experienced consulting engineering firm national committee composed experts relevant organisations guide oversee activities firm whole city divided drainage zones according topography location eastern bypass embankment east city eastern bypass constructed quickly possible eastern bypass delayed master plan city continue suffer western embankment delayed master plan cleaning canals silted choked channels large medium small excavated made efficient drainage rain water moribund channels cleared designed carry runoff channels outlined earlier open area drainage drainage channels open areas city existing west proposed eastern bypass designed carry flow evacuate embankment sluices points pumping required design pumps pump houses embankment embankment along buriganga southern side strengthened order prevent river floods drains carry runoff rainfall protection future grabbing excavated cleared existing closed blocked channels protected future grabbing enacting strict laws necessary drainage drainage channels project area cleared made efficient carry runoff pump house made efficient repaired necessary water logging area made artificial creation multi disciplinary national committee multi disciplinary national committee composed experts relevant organisations formed find causes effects floods drainage problems city greater dhaka metropolitan area outline preventive regulation measures committee assist selection experienced consulting company committee prepare draft consultants committee continue guide oversee activities consultants tenure writer professor civil engineering world university bangladesh dhaka water specialist formerly world bank washington planning commission\n",
      "\n"
     ]
    }
   ],
   "source": [
    "# tn, fp\n",
    "# fn, tp\n",
    "temp_df = compare_result(clf_result, data_split, 'TFIDF-LinearSVC')\n",
    "for row in temp_df.loc[temp_df['is_flood']!=temp_df['predict']].iterrows():\n",
    "    print('Labelled:',bool(row[1]['is_flood']),'\\tPredicted:',bool(row[1]['predict']))\n",
    "    print(row[1]['text'])\n",
    "    print()"
   ]
  },
  {
   "cell_type": "code",
   "execution_count": 100,
   "metadata": {},
   "outputs": [
    {
     "data": {
      "text/plain": [
       "[('said', 66.47829495326106),\n",
       " ('water', 55.94458669079924),\n",
       " ('people', 42.732137181639686),\n",
       " ('flood', 39.233742880001614),\n",
       " ('river', 31.869304782457235),\n",
       " ('upazila', 31.547743926481004),\n",
       " ('bangladesh', 31.117933777348796),\n",
       " ('district', 26.46347356493227),\n",
       " ('areas', 24.573875963687872),\n",
       " ('level', 24.52928069899863)]"
      ]
     },
     "execution_count": 100,
     "metadata": {},
     "output_type": "execute_result"
    }
   ],
   "source": [
    "# TFIDF Features\n",
    "from collections import Counter\n",
    "fe = clf_result['TFIDF-LinearSVC']['feature']\n",
    "X = fe.transform(list(data_split['train']['text']))\n",
    "vocab = list(fe.get_feature_names())\n",
    "counts = X.sum(axis=0).A1\n",
    "freq_dist = Counter(dict(zip(vocab, counts)))\n",
    "freq_dist.most_common(10)"
   ]
  },
  {
   "cell_type": "markdown",
   "metadata": {},
   "source": [
    "# Classify new data"
   ]
  },
  {
   "cell_type": "code",
   "execution_count": 115,
   "metadata": {
    "scrolled": true
   },
   "outputs": [
    {
     "name": "stdout",
     "output_type": "stream",
     "text": [
      "24008\n"
     ]
    }
   ],
   "source": [
    "root_folder = 'paper_data'\n",
    "newspapers = ['bdnews', 'dailySun', 'prothomalo', 'dailyObserver', 'newAge', \n",
    "              'dhakaTribune', 'thedailystar', 'theIndependent', 'theNewNation']\n",
    "# newspapers += ['nytimes']\n",
    "newspapers_files = [os.path.join(root_folder, n, n+'2_data.json') for n in newspapers]\n",
    "# newspapers_files = [os.path.join(root_folder, 'all_paper_data', n+'1_data.json') for n in newspapers]\n",
    "\n",
    "idSet = set(df_data['doc_id'])\n",
    "\n",
    "def classify_new_data(newspapers_files):\n",
    "    new_data = pd.DataFrame()\n",
    "    text_set = set()\n",
    "    for i,newspapers_path in enumerate(newspapers_files):\n",
    "        temp_data = json.load(open(newspapers_path))\n",
    "        temp_data2 = []\n",
    "        for t in temp_data:\n",
    "            if t['id'] in idSet: continue\n",
    "            temp_dict = t['meta']\n",
    "            for k,v in t['article'].items(): temp_dict[k]=v\n",
    "            temp_dict['id'] = t['id']\n",
    "            temp_dict['connect_filename'] = t.get('connect_filename',None)\n",
    "            temp_dict['newspaper'] = newspapers[i]\n",
    "            if t['article']['text'] not in text_set: text_set.add(t['article']['text'])\n",
    "            else: continue\n",
    "            temp_data2.append(temp_dict)\n",
    "        temp_df = pd.DataFrame(temp_data2)\n",
    "        new_data = pd.concat([new_data, temp_df])\n",
    "    new_data = new_data.fillna(\"\")\n",
    "    new_data = new_data[new_data['connect_filename']==\"\"]\n",
    "    print(len(new_data))\n",
    "    return new_data\n",
    "### New data from newspapers\n",
    "\n",
    "\n",
    "### NYTIMES new data\n",
    "# newspapers_files = ['../article_scraping/paper_data/all_paper_data/nytimes1_data.json']\n",
    "new_data = classify_new_data(newspapers_files)"
   ]
  },
  {
   "cell_type": "code",
   "execution_count": 116,
   "metadata": {},
   "outputs": [],
   "source": [
    "def loop_data_train_test(classifier, feature, data_df=None, predictions_folder = 'predictions',\n",
    "                         prev_true_data_df=None, prev_false_data_df=None, save=True):\n",
    "#     if data_df is None and prev_false_data_df is None: raise Exception('No df_data or prev_dalse_data_df')\n",
    "#     if prev_false_data_df is not None: data_df = prev_false_data_df\n",
    "    to_keep_cols = ['datePublished', 'text', 'doc_id', 'connect_filename', 'newspaper', 'is_flood']\n",
    "    data_df['new_text'] = data_df['text'].apply(preprocess)\n",
    "    \n",
    "    test_features = feature.transform(list(data_df['new_text']))\n",
    "    test_pred = classifier.predict(test_features)\n",
    "    \n",
    "    data_df['is_flood'] = [bool(i) for i in test_pred]\n",
    "    data_df['doc_id'] = data_df['id']\n",
    "    data_df = data_df[to_keep_cols]\n",
    "    true_new_data = data_df.loc[data_df['is_flood']]\n",
    "    false_new_data = data_df.loc[~data_df['is_flood']]\n",
    "    print('Total New Data: {}\\tTrue new Data: {}'.format(len(data_df), len(true_new_data)))\n",
    "    \n",
    "    if prev_true_data_df is not None: df_true_new_data = pd.concat([prev_true_data_df, true_new_data])\n",
    "    else: df_true_new_data = true_new_data\n",
    "    js = df_true_new_data.to_json(orient='records')\n",
    "    if save: json.dump(json.loads(js), open(os.path.join(predictions_folder, 'predicted_isflood.json'), 'w'), indent=2)\n",
    "    \n",
    "    if prev_false_data_df is not None: df_false_new_data = pd.concat([prev_false_data_df, false_new_data])\n",
    "    else: df_false_new_data = false_new_data\n",
    "    js = df_false_new_data.to_json(orient='records')\n",
    "    if save: json.dump(json.loads(js), open(os.path.join(predictions_folder, 'predicted_not_isflood.json'), 'w'), indent=2)\n",
    "    return df_true_new_data, false_new_data"
   ]
  },
  {
   "cell_type": "code",
   "execution_count": 117,
   "metadata": {},
   "outputs": [
    {
     "name": "stdout",
     "output_type": "stream",
     "text": [
      "Total New Data: 24008\tTrue new Data: 1796\n"
     ]
    }
   ],
   "source": [
    "key = 'TFIDF-LinearSVC'\n",
    "feature = clf_result[key]['feature']\n",
    "classifier = clf_result[key]['clf']\n",
    "prev_true_data_df, prev_false_data_df = None, None\n",
    "prev_true_data_df, prev_false_data_df = get_new_predicted_data()\n",
    "save = True\n",
    "df_true_new_data, false_new_data = loop_data_train_test(classifier, feature, new_data, 'predictions',\n",
    "                                                        prev_true_data_df, prev_false_data_df, save=save)"
   ]
  },
  {
   "cell_type": "markdown",
   "metadata": {},
   "source": [
    "### Upload data"
   ]
  },
  {
   "cell_type": "code",
   "execution_count": 47,
   "metadata": {},
   "outputs": [],
   "source": [
    "def upload_data(upload_folder):\n",
    "    if not os.path.isdir(upload_folder): os.mkdir(upload_folder)\n",
    "    for row in prev_false_data_df.sample(n=1000, random_state=32).iterrows():\n",
    "        iid = row[1]['doc_id']\n",
    "        newspaper = row[1]['newspaper']\n",
    "        filename = '{}_data_{}@.txt'.format(newspaper, iid)\n",
    "        text = row[1]['org_text'] + '\\n@#@#'\n",
    "        open(os.path.join(upload_folder, filename),'w').write(text)\n",
    "upload_data(upload_folder = 'upload-notflood')"
   ]
  }
 ],
 "metadata": {
  "kernelspec": {
   "display_name": "bangladesh_venv",
   "language": "python",
   "name": "bangladesh_venv"
  },
  "language_info": {
   "codemirror_mode": {
    "name": "ipython",
    "version": 3
   },
   "file_extension": ".py",
   "mimetype": "text/x-python",
   "name": "python",
   "nbconvert_exporter": "python",
   "pygments_lexer": "ipython3",
   "version": "3.7.2"
  }
 },
 "nbformat": 4,
 "nbformat_minor": 2
}
