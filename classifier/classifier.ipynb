{
 "cells": [
  {
   "cell_type": "markdown",
   "metadata": {},
   "source": [
    "### Imports"
   ]
  },
  {
   "cell_type": "code",
   "execution_count": 14,
   "metadata": {},
   "outputs": [],
   "source": [
    "from sklearn.feature_extraction.text import CountVectorizer\n",
    "from sklearn.feature_extraction.text import TfidfVectorizer\n",
    "from sklearn.tree import DecisionTreeClassifier\n",
    "from sklearn.ensemble import RandomForestClassifier\n",
    "from sklearn.svm import LinearSVC\n",
    "from sklearn.naive_bayes import MultinomialNB\n",
    "from sklearn.metrics import accuracy_score, confusion_matrix, classification_report\n",
    "from sklearn.model_selection import train_test_split, ParameterGrid\n",
    "import nltk\n",
    "from nltk.tokenize import word_tokenize\n",
    "from sklearn.utils import shuffle\n",
    "from sklearn import decomposition\n",
    "import pandas as pd\n",
    "from copy import deepcopy\n",
    "import os\n",
    "import re\n",
    "import numpy as np\n",
    "import matplotlib.pyplot as plt\n",
    "import json\n",
    "import itertools\n",
    "import random\n",
    "import warnings\n",
    "import string\n",
    "warnings.filterwarnings(\"ignore\", category=UserWarning)\n",
    "\n",
    "from functions import load_data_tagtog, query_dataframe, load_data"
   ]
  },
  {
   "cell_type": "markdown",
   "metadata": {},
   "source": [
    "### Define Variables"
   ]
  },
  {
   "cell_type": "code",
   "execution_count": 38,
   "metadata": {},
   "outputs": [],
   "source": [
    "global_shuffle_seed = 4\n",
    "global_debug=False\n",
    "global_override=True"
   ]
  },
  {
   "cell_type": "markdown",
   "metadata": {},
   "source": [
    "### Load tagtog Data"
   ]
  },
  {
   "cell_type": "code",
   "execution_count": 33,
   "metadata": {},
   "outputs": [
    {
     "name": "stdout",
     "output_type": "stream",
     "text": [
      "Total: 1894 True: 947 False: 947\n"
     ]
    }
   ],
   "source": [
    "result, clf_result = {}, {}\n",
    "df_data = load_data(balance='is_flood')\n",
    "data_true = query_dataframe(df_data, {'is_flood':True})\n",
    "data_false = query_dataframe(df_data, {'is_flood':False})\n",
    "print('Total:',len(df_data),'True:',len(data_true), 'False:',len(data_false))"
   ]
  },
  {
   "cell_type": "markdown",
   "metadata": {},
   "source": [
    "### Preprocess Data"
   ]
  },
  {
   "cell_type": "code",
   "execution_count": 34,
   "metadata": {},
   "outputs": [],
   "source": [
    "custom_stop_words = set(['date', 'published'])\n",
    "stop_words = set(nltk.corpus.stopwords.words('english'))\n",
    "punctuations = set(string.punctuation)\n",
    "all_stop_words = stop_words.union(punctuations, custom_stop_words)\n",
    "def preprocess(x):\n",
    "    x = re.sub('[^a-z\\s]', ' ', x.lower())\n",
    "    x = [w for w in x.split() if w not in all_stop_words and len(w)>3]\n",
    "    return ' '.join(x)"
   ]
  },
  {
   "cell_type": "code",
   "execution_count": 35,
   "metadata": {},
   "outputs": [],
   "source": [
    "df_data['text'] = df_data['text'].apply(preprocess)"
   ]
  },
  {
   "cell_type": "markdown",
   "metadata": {},
   "source": [
    "### Split Data"
   ]
  },
  {
   "cell_type": "code",
   "execution_count": 36,
   "metadata": {},
   "outputs": [],
   "source": [
    "def make_data_ratio(df_data, test_size=0.2, shuffle_seed=4, debug=False, \n",
    "                    save_folder=None, load_folder=None, override=False, file_prefix=''):\n",
    "    save_file, load_file=None, None\n",
    "    if save_folder: save_file = os.path.join(save_folder,file_prefix+'data.json')\n",
    "    if load_folder: load_file = os.path.join(load_folder,file_prefix+'data.json')\n",
    "    \n",
    "    if not override and load_file and os.path.isfile(load_file):\n",
    "        if debug: print('loaded',load_file)\n",
    "        js = json.load(open(load_file))\n",
    "        train_df = pd.DataFrame(js['train'])\n",
    "        test_df = pd.DataFrame(js['test'])\n",
    "        return {'train':train_df, 'test':test_df}\n",
    "    \n",
    "    true_data = df_data.loc[df_data['is_flood']==True]\n",
    "    false_data = df_data.loc[df_data['is_flood']==False]\n",
    "    train_true, test_true = train_test_split(true_data, test_size=test_size, random_state=shuffle_seed)\n",
    "    train_false, test_false = train_test_split(false_data, test_size=test_size, random_state=shuffle_seed)\n",
    "    \n",
    "    train_df = pd.concat([train_true, train_false])\n",
    "    train_df = train_df.sample(n=len(train_df), random_state=shuffle_seed).reset_index(drop=True)\n",
    "    test_df = pd.concat([test_true, test_false])\n",
    "    test_df = test_df.sample(n=len(test_df), random_state=shuffle_seed).reset_index(drop=True)\n",
    "    \n",
    "    if debug: print('Data Loaded')\n",
    "\n",
    "    if save_file:\n",
    "        train_json = train_df.to_json(orient='records')\n",
    "        test_json = test_df.to_json(orient='records')\n",
    "        json.dump({'train':json.loads(train_json), 'test':json.loads(test_json)}, open(save_file,'w'), indent=2)\n",
    "    return {'train':train_df, 'test':test_df}\n"
   ]
  },
  {
   "cell_type": "code",
   "execution_count": 41,
   "metadata": {
    "scrolled": true
   },
   "outputs": [],
   "source": [
    "result, clf_result = {}, {}\n",
    "save_data_folder = 'data_splits/'\n",
    "load_data_folder = 'data_splits/'\n",
    "test_size = 0.2\n",
    "if not os.path.isdir(save_data_folder): os.mkdir(save_data_folder)\n",
    "debug=global_debug or False\n",
    "override=global_override or False\n",
    "data_split = make_data_ratio(df_data, test_size=test_size, save_folder=save_data_folder, load_folder=load_data_folder, \n",
    "                               debug=debug, shuffle_seed=global_shuffle_seed, override=override)\n"
   ]
  },
  {
   "cell_type": "code",
   "execution_count": 42,
   "metadata": {
    "scrolled": true
   },
   "outputs": [
    {
     "name": "stdout",
     "output_type": "stream",
     "text": [
      "Train: 1514 \t\tTest: 380\n",
      "Train is_flood: 757 \tTrain not is_flood: 757\n",
      "Test is_flood: 190 \tTest not is_flood: 190\n"
     ]
    }
   ],
   "source": [
    "print('Train:',len(data_split['train']), '\\t\\tTest:',len(data_split['test']))\n",
    "print('Train is_flood:',len(data_split['train'].loc[data_split['train']['is_flood']==True]), \\\n",
    "'\\tTrain not is_flood:',len(data_split['train'].loc[data_split['train']['is_flood']==False]))\n",
    "print('Test is_flood:',len(data_split['test'].loc[data_split['test']['is_flood']==True]), \\\n",
    "'\\tTest not is_flood:',len(data_split['test'].loc[data_split['test']['is_flood']==False]))"
   ]
  },
  {
   "cell_type": "markdown",
   "metadata": {},
   "source": [
    "### Classifier"
   ]
  },
  {
   "cell_type": "code",
   "execution_count": 43,
   "metadata": {},
   "outputs": [],
   "source": [
    "def make_data(vect_fit, ratio):\n",
    "    train, test = ratio.get('train',None), ratio.get('test',None)\n",
    "    if train is None or test is None: raise Exception('Train or Test data not found')\n",
    "    all_X = list(train['text']) + list(test['text'])\n",
    "    \n",
    "    vect = vect_fit.fit(all_X)\n",
    "    trainX, testX = vect.transform(list(train['text'])), vect.transform(list(test['text']))\n",
    "    trainY, testY = [1 if t else 0 for t in train['is_flood']], [1 if t else 0 for t in test['is_flood']]\n",
    "    return trainX, testX, trainY, testY, vect\n"
   ]
  },
  {
   "cell_type": "code",
   "execution_count": 44,
   "metadata": {},
   "outputs": [],
   "source": [
    "def run_classifier(clf, trainX, testX, trainY, testY):\n",
    "    clf_fit = clf.fit(trainX, trainY)\n",
    "    clf_pred = clf_fit.predict(testX)\n",
    "    clf_acc = accuracy_score(testY, clf_pred)\n",
    "    return clf_fit, clf_pred, clf_acc\n"
   ]
  },
  {
   "cell_type": "code",
   "execution_count": 45,
   "metadata": {},
   "outputs": [],
   "source": [
    "def get_method(main_d, name):\n",
    "    if name not in main_d: raise Exception('Cannot find classifier/feature_extractor name in parameter dictionary')\n",
    "    d = main_d[name]\n",
    "    method = d.get('method',None)\n",
    "    base_method = d.get('base_method',None)\n",
    "    if method and base_method: raise Exception('Cannot have method and base method both.')\n",
    "    if not method and not base_method: raise Exception('Unable to parse the method from classifier/feature_extractor')\n",
    "    params = d.get('params',None)\n",
    "    if method:\n",
    "        if params: return method, params\n",
    "        else: return method, None\n",
    "    if base_method:\n",
    "        prev_method, prev_params = get_method(main_d, base_method)\n",
    "        if params:\n",
    "            for k,v in params.items(): prev_params[k] = v\n",
    "        return prev_method, prev_params\n",
    "\n",
    "def make_method(main_d, name, override_params={}):\n",
    "    method, params = get_method(main_d, name)[:]\n",
    "    if override_params:\n",
    "        for k,v in override_params.items(): params[k] = v\n",
    "    if params: return method(**params)\n",
    "    else: return method()\n"
   ]
  },
  {
   "cell_type": "code",
   "execution_count": 46,
   "metadata": {},
   "outputs": [],
   "source": [
    "def run_grid(grid, data, feature_extract, classifiers, clf_result, result, \n",
    "             debug=False, override=False, save_folder=None, load_folder=None, file_prefix=''):\n",
    "    save_clf_result = {}\n",
    "    vectCache, classifierCache = {}, {}\n",
    "    if load_folder:\n",
    "        res_file = os.path.join(load_folder,file_prefix+'clf_result.json')\n",
    "        clf_res_file = os.path.join(load_folder,file_prefix+'result.json')\n",
    "        if os.path.isfile(res_file): clf_result=json.load(open(res_file))\n",
    "        if os.path.isfile(clf_res_file): result=json.load(open(clf_res_file))\n",
    "        if os.path.isfile(res_file) and os.path.isfile(clf_res_file) and debug: print('loaded result')\n",
    "    \n",
    "    if override:\n",
    "        clf_result, result = {}, {}\n",
    "        if debug: print('OVERRIDE')\n",
    "    for g in list(grid):\n",
    "        try:\n",
    "            feature_name = g.get('feature_extract',None)\n",
    "            clf_name = g.get('classifier', None)\n",
    "            if not feature_name or not clf_name:\n",
    "                raise Exception('Feature Extract and Classifier Name required')\n",
    "            result_key = feature_name + '-' + clf_name\n",
    "            if result.get(result_key): continue\n",
    "            if debug: print('Feature:', feature_name, '  Clasifier:',clf_name, '  Key:',result_key)\n",
    "            \n",
    "            if feature_name in vectCache:\n",
    "                (trainX, testX, trainY, testY, feature2) = vectCache[feature_name]\n",
    "            else:\n",
    "                feature = make_method(feature_extract, feature_name)\n",
    "                trainX, testX, trainY, testY, feature2 = make_data(feature, data)\n",
    "                vectCache[feature_name] = (trainX, testX, trainY, testY, feature2)\n",
    "\n",
    "            clf = make_method(classifiers, clf_name)\n",
    "            clf_fit, clf_pred, clf_acc = run_classifier(clf, trainX, testX, trainY, testY)\n",
    "            \n",
    "            result[result_key] = {\n",
    "                'feature_extract': feature_name,\n",
    "                'classifier': clf_name,\n",
    "                'accuracy': clf_acc\n",
    "            }\n",
    "            \n",
    "            clf_result[result_key] = {\n",
    "                'feature_extract': feature_name,\n",
    "                'classifier': clf_name,\n",
    "                'clf': clf_fit,\n",
    "                'feature': feature2,\n",
    "                'predict': clf_pred\n",
    "            }\n",
    "            \n",
    "            save_clf_result[result_key] = {\n",
    "                'feature_extract': feature_name,\n",
    "                'classifier': clf_name,\n",
    "                'predict': clf_pred.tolist()\n",
    "            }  \n",
    "        except Exception as e:\n",
    "            print('Error:',e)\n",
    "            continue\n",
    "    if save_folder:\n",
    "        json.dump(save_clf_result, open(os.path.join(load_folder,file_prefix+'clf_result.json'),'w'), indent=2)\n",
    "        json.dump(result, open(os.path.join(load_folder,file_prefix+'result.json'),'w'), indent=2)\n",
    "    return clf_result, result\n"
   ]
  },
  {
   "cell_type": "code",
   "execution_count": 47,
   "metadata": {},
   "outputs": [],
   "source": [
    "def parse_result(result, accuracy_threshold=None, split_by='classifier'):\n",
    "    keys = list(result.keys())\n",
    "    temp_df = pd.DataFrame(list(result.values()))\n",
    "    temp_df['keys'] = keys\n",
    "    \n",
    "    splt_val = list(set(list(temp_df[split_by])))\n",
    "    for d in splt_val:\n",
    "        if accuracy_threshold:\n",
    "            new_df = temp_df.loc[temp_df[split_by]==d]\n",
    "            new_df = new_df.loc[new_df['accuracy']>accuracy_threshold] \\\n",
    "                            .drop(split_by, axis=1) \\\n",
    "                            .sort_values(by='accuracy',ascending=False) \\\n",
    "                            .reset_index(drop=True)\n",
    "        else:\n",
    "            new_df = temp_df.loc[temp_df[split_by]==d] \\\n",
    "                            .drop(split_by, axis=1) \\\n",
    "                            .sort_values(by='accuracy',ascending=False) \\\n",
    "                            .reset_index(drop=True)\n",
    "        print('{}: {}'.format(split_by,d))\n",
    "        print(new_df.to_markdown())\n",
    "        print()"
   ]
  },
  {
   "cell_type": "code",
   "execution_count": 50,
   "metadata": {},
   "outputs": [],
   "source": [
    "def plot_confusion_matrix(cm,\n",
    "                          target_names,\n",
    "                          title='Confusion matrix',\n",
    "                          cmap=None,\n",
    "                          normalize=True):\n",
    "    plt.rcParams.update({'font.size': 18})\n",
    "    accuracy = np.trace(cm) / np.sum(cm).astype('float')\n",
    "    misclass = 1 - accuracy\n",
    "\n",
    "    if cmap is None:\n",
    "        cmap = plt.get_cmap('Blues')\n",
    "\n",
    "    plt.figure(figsize=(8, 6))\n",
    "    plt.imshow(cm, interpolation='nearest', cmap=cmap)\n",
    "    plt.title(title)\n",
    "    plt.colorbar()\n",
    "\n",
    "    if target_names is not None:\n",
    "        tick_marks = np.arange(len(target_names))\n",
    "        plt.xticks(tick_marks, target_names, rotation=45)\n",
    "        plt.yticks(tick_marks, target_names)\n",
    "\n",
    "    if normalize:\n",
    "        cm = cm.astype('float') / cm.sum(axis=1)[:, np.newaxis]\n",
    "\n",
    "\n",
    "    thresh = cm.max() / 1.5 if normalize else cm.max() / 2\n",
    "    for i, j in itertools.product(range(cm.shape[0]), range(cm.shape[1])):\n",
    "        if normalize:\n",
    "            plt.text(j, i, \"{:0.4f}\".format(cm[i, j]),\n",
    "                     horizontalalignment=\"center\",\n",
    "                     color=\"white\" if cm[i, j] > thresh else \"black\")\n",
    "        else:\n",
    "            plt.text(j, i, \"{:,}\".format(cm[i, j]),\n",
    "                     horizontalalignment=\"center\",\n",
    "                     color=\"white\" if cm[i, j] > thresh else \"black\")\n",
    "\n",
    "\n",
    "    plt.tight_layout()\n",
    "    plt.ylabel('True label')\n",
    "    plt.xlabel('Predicted label\\naccuracy={:0.4f}; misclass={:0.4f}'.format(accuracy, misclass))\n",
    "    plt.show()"
   ]
  },
  {
   "cell_type": "code",
   "execution_count": 51,
   "metadata": {},
   "outputs": [],
   "source": [
    "def compare_result(clf_result, data, method_name, conf_matrix=True, class_report=True):\n",
    "    if method_name not in clf_result: raise Exception('Cannot find method')\n",
    "    res = clf_result[method_name]\n",
    "    new_df = data['test']\n",
    "    actual = [1 if f else 0 for f in list(new_df['is_flood'])]\n",
    "    new_df['predict'] = res['predict']\n",
    "    if conf_matrix:\n",
    "        mat = confusion_matrix(actual, res['predict'])\n",
    "        plot_confusion_matrix(mat, ['Negative', 'Positive'])\n",
    "        print(mat)\n",
    "#         print('TN:',tn,'FP:',fp,'FN:',fn,'TP:',tp)\n",
    "    if class_report: print(classification_report(actual, res['predict']))\n",
    "    return new_df\n",
    "    "
   ]
  },
  {
   "cell_type": "code",
   "execution_count": 52,
   "metadata": {},
   "outputs": [],
   "source": [
    "feature_extract = {\n",
    "    'CountVect': {\n",
    "        'classifier_type': 'Count Vectorizer',\n",
    "        'method': CountVectorizer,\n",
    "        'params': {\n",
    "            'tokenizer': word_tokenize,\n",
    "            'stop_words': 'english',\n",
    "        }\n",
    "    },\n",
    "    'CountVect-min_df':{\n",
    "        'base_method': 'CountVect',\n",
    "        'params':{\n",
    "            'min_df': 0.05\n",
    "        }\n",
    "    },\n",
    "    'CountVect-max_df':{\n",
    "        'base_method': 'CountVect',\n",
    "        'params':{\n",
    "            'max_df': 0.95\n",
    "        }\n",
    "    },\n",
    "    'CountVect-min_df-max_df':{\n",
    "        'base_method': 'CountVect',\n",
    "        'params':{\n",
    "            'min_df': 0.05,\n",
    "            'max_df': 0.95\n",
    "        }\n",
    "    },\n",
    "    'TFIDF': {\n",
    "        'classifier_type': 'TFIDF',\n",
    "        'method': TfidfVectorizer,\n",
    "        'params': {\n",
    "            'tokenizer': word_tokenize,\n",
    "            'stop_words': 'english',\n",
    "        }\n",
    "    },\n",
    "    'TFIDF-min_df':{\n",
    "        'base_method': 'TFIDF',\n",
    "        'params':{\n",
    "            'min_df': 0.05\n",
    "        }\n",
    "    },\n",
    "    'TFIDF-max_df':{\n",
    "        'base_method': 'TFIDF',\n",
    "        'params':{\n",
    "            'max_df': 0.95\n",
    "        }\n",
    "    },\n",
    "    'TFIDF-min_df-max_df':{\n",
    "        'base_method': 'TFIDF',\n",
    "        'params':{\n",
    "            'min_df': 0.05,\n",
    "            'max_df': 0.95\n",
    "        }\n",
    "    },\n",
    "}\n",
    "\n",
    "classifiers = {\n",
    "    'RandomForest': {\n",
    "        'classifier_type':'Random Forest ',\n",
    "        'method': RandomForestClassifier,\n",
    "        'params':{\n",
    "            'class_weight':'balanced'\n",
    "        }\n",
    "    },\n",
    "    'LinearSVC': {\n",
    "        'classifier_type': 'Linear SVC',\n",
    "        'method': LinearSVC,\n",
    "        'params':{\n",
    "            'class_weight':'balanced'\n",
    "        }\n",
    "    }\n",
    "}\n",
    "\n",
    "grid_parameters = {\n",
    "    'feature_extract': list(feature_extract.keys()),\n",
    "    'classifier': list(classifiers.keys()),\n",
    "}\n",
    "grid = ParameterGrid(grid_parameters)"
   ]
  },
  {
   "cell_type": "code",
   "execution_count": 53,
   "metadata": {
    "scrolled": true
   },
   "outputs": [
    {
     "name": "stdout",
     "output_type": "stream",
     "text": [
      "loaded result\n",
      "OVERRIDE\n",
      "Feature: CountVect   Clasifier: RandomForest   Key: CountVect-RandomForest\n",
      "Feature: CountVect-min_df   Clasifier: RandomForest   Key: CountVect-min_df-RandomForest\n",
      "Feature: CountVect-max_df   Clasifier: RandomForest   Key: CountVect-max_df-RandomForest\n",
      "Feature: CountVect-min_df-max_df   Clasifier: RandomForest   Key: CountVect-min_df-max_df-RandomForest\n",
      "Feature: TFIDF   Clasifier: RandomForest   Key: TFIDF-RandomForest\n",
      "Feature: TFIDF-min_df   Clasifier: RandomForest   Key: TFIDF-min_df-RandomForest\n",
      "Feature: TFIDF-max_df   Clasifier: RandomForest   Key: TFIDF-max_df-RandomForest\n",
      "Feature: TFIDF-min_df-max_df   Clasifier: RandomForest   Key: TFIDF-min_df-max_df-RandomForest\n",
      "Feature: CountVect   Clasifier: LinearSVC   Key: CountVect-LinearSVC\n",
      "Feature: CountVect-min_df   Clasifier: LinearSVC   Key: CountVect-min_df-LinearSVC\n",
      "Feature: CountVect-max_df   Clasifier: LinearSVC   Key: CountVect-max_df-LinearSVC\n",
      "Feature: CountVect-min_df-max_df   Clasifier: LinearSVC   Key: CountVect-min_df-max_df-LinearSVC\n",
      "Feature: TFIDF   Clasifier: LinearSVC   Key: TFIDF-LinearSVC\n",
      "Feature: TFIDF-min_df   Clasifier: LinearSVC   Key: TFIDF-min_df-LinearSVC\n",
      "Feature: TFIDF-max_df   Clasifier: LinearSVC   Key: TFIDF-max_df-LinearSVC\n",
      "Feature: TFIDF-min_df-max_df   Clasifier: LinearSVC   Key: TFIDF-min_df-max_df-LinearSVC\n"
     ]
    }
   ],
   "source": [
    "override=global_override or False\n",
    "debug=global_debug or False\n",
    "save_results_folder = 'results/'\n",
    "load_results_folder = 'results/'\n",
    "if not os.path.isdir(save_results_folder): os.mkdir(save_results_folder)\n",
    "clf_result, result = run_grid(grid, data_split, feature_extract, classifiers, clf_result, result, \n",
    "                              debug=debug, override=override, save_folder=save_results_folder, \n",
    "                             load_folder=load_results_folder)\n"
   ]
  },
  {
   "cell_type": "code",
   "execution_count": 54,
   "metadata": {
    "scrolled": false
   },
   "outputs": [
    {
     "name": "stdout",
     "output_type": "stream",
     "text": [
      "classifier: LinearSVC\n",
      "|    | feature_extract         |   accuracy | keys                              |\n",
      "|---:|:------------------------|-----------:|:----------------------------------|\n",
      "|  0 | TFIDF                   |   0.947368 | TFIDF-LinearSVC                   |\n",
      "|  1 | CountVect               |   0.923684 | CountVect-LinearSVC               |\n",
      "|  2 | TFIDF-min_df            |   0.923684 | TFIDF-min_df-LinearSVC            |\n",
      "|  3 | TFIDF-max_df            |   0.923684 | TFIDF-max_df-LinearSVC            |\n",
      "|  4 | TFIDF-min_df-max_df     |   0.923684 | TFIDF-min_df-max_df-LinearSVC     |\n",
      "|  5 | CountVect-min_df        |   0.889474 | CountVect-min_df-LinearSVC        |\n",
      "|  6 | CountVect-min_df-max_df |   0.889474 | CountVect-min_df-max_df-LinearSVC |\n",
      "|  7 | CountVect-max_df        |   0.886842 | CountVect-max_df-LinearSVC        |\n",
      "\n",
      "classifier: RandomForest\n",
      "|    | feature_extract         |   accuracy | keys                                 |\n",
      "|---:|:------------------------|-----------:|:-------------------------------------|\n",
      "|  0 | TFIDF-max_df            |   0.936842 | TFIDF-max_df-RandomForest            |\n",
      "|  1 | CountVect-min_df        |   0.928947 | CountVect-min_df-RandomForest        |\n",
      "|  2 | TFIDF-min_df-max_df     |   0.926316 | TFIDF-min_df-max_df-RandomForest     |\n",
      "|  3 | CountVect               |   0.923684 | CountVect-RandomForest               |\n",
      "|  4 | TFIDF                   |   0.923684 | TFIDF-RandomForest                   |\n",
      "|  5 | TFIDF-min_df            |   0.923684 | TFIDF-min_df-RandomForest            |\n",
      "|  6 | CountVect-max_df        |   0.921053 | CountVect-max_df-RandomForest        |\n",
      "|  7 | CountVect-min_df-max_df |   0.921053 | CountVect-min_df-max_df-RandomForest |\n",
      "\n"
     ]
    }
   ],
   "source": [
    "parse_result(result)"
   ]
  },
  {
   "cell_type": "code",
   "execution_count": 60,
   "metadata": {
    "scrolled": false
   },
   "outputs": [
    {
     "name": "stdout",
     "output_type": "stream",
     "text": [
      "classifier: LinearSVC\n",
      "|    | feature_extract   |   accuracy | keys            |\n",
      "|---:|:------------------|-----------:|:----------------|\n",
      "|  0 | TFIDF             |   0.947368 | TFIDF-LinearSVC |\n",
      "\n",
      "classifier: RandomForest\n",
      "| feature_extract   | accuracy   | keys   |\n",
      "|-------------------|------------|--------|\n",
      "\n"
     ]
    }
   ],
   "source": [
    "parse_result(result, 0.94)"
   ]
  },
  {
   "cell_type": "code",
   "execution_count": 56,
   "metadata": {
    "scrolled": true
   },
   "outputs": [
    {
     "data": {
      "image/png": "[encoded data removed]",
      "text/plain": [
       "<Figure size 576x432 with 2 Axes>"
      ]
     },
     "metadata": {
      "needs_background": "light"
     },
     "output_type": "display_data"
    },
    {
     "name": "stdout",
     "output_type": "stream",
     "text": [
      "[[172  18]\n",
      " [  2 188]]\n",
      "              precision    recall  f1-score   support\n",
      "\n",
      "           0       0.99      0.91      0.95       190\n",
      "           1       0.91      0.99      0.95       190\n",
      "\n",
      "    accuracy                           0.95       380\n",
      "   macro avg       0.95      0.95      0.95       380\n",
      "weighted avg       0.95      0.95      0.95       380\n",
      "\n",
      "Labelled: False \tPredicted: True\n",
      "tuesday july heavy heavy rainfall likely occur places rangpur rajshahi mymensingh dhaka khulna barisal chittagong sylhet divisions next hours commencing monday active monsoon landslides also occur places hilly regions chittagong sylhet divisions triggered rains said office special\n",
      "\n",
      "Labelled: False \tPredicted: True\n",
      "study claims rising levels worse previously calculated research suggests carbon emissions peak land home roughly fifth populations bangladesh vietnam lower high tide lines quoting research nature communications world economic forum article said hundreds millions people already risk climate breakdown caused coastal flooding level rise previously thought research also fears proportion threat would rise third population bangladesh emissions continue unchecked even immediate deep emissions cuts large swathes coastal land live could uninhabitable century article said existing estimates risk level rise taken nasa shuttle radar topography mission exactly paint rosy picture coastal communities using space based satellite imagery measures elevations surfaces closest much data actually reported elevation treetops rooftops rather ground flood affected people balasi ghat gaibadha heading shelter july syed zakir hossain dhaka tribune result overestimates coastal elevations metres average four metres urban areas article added based model estimated million million people already live current high tide line time instead million people living annual flood levels figure million number live less metre level mentioning increase vulnerability level rise flooding evenly distributed report also said living risk land eight asian countries bangladesh india vietnam indonesia thailand philippines china japan many countries increase risk model predicts coming decades much higher three fold also mentions modern defences levees seawalls remain vital protecting hundreds millions coastal residents means guarantees protection future levels storms superstorms already breach flood defences developed cities world also said away urban areas astronomical costs protecting large areas level rise flooding means millions need resettled coming decades else forcefully displaced rising seas even countries level rise century require large scale migration away unprotected coastlines countries less able cope loss lives livelihoods political chaos conflict highly likely without support said\n",
      "\n",
      "Labelled: True \tPredicted: False\n",
      "tuesday july cyclonic storm bulbul devastated coastal region claimed several lives damaged many houses made landfall saturday night positive observation came natural calamity showing intense surge wave could affect bhashan char lying areas coastal districts inundated storm surge feet height normal astronomical tide approaching cyclone despite heighten tidal wave cyclone bulbul shelter centre remained unharmed bhashan char allow wave enter inside said press release ispr ispr press release said total fishing trawlers sandwip hatia three hundred fishermen took shelter bhashan char shelter centre asked move safe place cyclone bulbul addition workers engaged construction work shelter centre also currently living safe release said noted cyclone shelter stations shelters million rohingyas displaced myanmar citizens taken shelter bangladesh built guidance prime minister however ruling fear cyclone bulbul showed place really safe suitable living\n",
      "\n",
      "Labelled: False \tPredicted: True\n",
      "dozen government agencies involved maintaining storm drainage capital entire system collapses every time rains even moderately leaving parts city waterlogged throwing life gear main reasons failure dealing waterlogging capital lack coordination among authorities concerned solid waste clogging drains filling canals water retention bodies according experts high officials agencies responsible drainage development maintenance single authority look storm drainage system must address waterlogging city said mayor sayeed khokon dhaka south city corporation absence authority none government agencies knows exactly dhaka drainage system functions said experts percent sqkm area water sewerage authority wasa dhaka covered storm drainage fourth city area depend narrow open drains canals water recede enough solid waste clogs storm drainage worse wasa cleans drains year according quamrul alam chowdhury deputy managing director agency improve waterlogging situation wasa installed large diameter storm water drains parts gulshan dhanmondi mirpur darussalam area uttara areas done isolated piecemeal manner drains hardly help heavy rains long open canals serve major storm water carriers awfully constricted indiscriminate encroachment waste dumping said prof mujibur rahman civil engineering bangladesh university engineering technology stretches different canals turned culverts mostly remain clogged waste wasa city corporations pass buck said recovery designated flood plains canals largely city recurrent waterlogging said mujibur worked dhaka drainage system around three decades consistently lost dedicated flood flow zones water retention areas powerful real estate developers city canals land grabbers virtually chocked city entire storm drainage system situation keep worsening unless strong actions taken farcical show regarding saving wetlands canals make difference added surface drains maintained city corporations supposed feed large diameter storm drains remain heavily clogged solid waste said mayor annisul dhaka north city corporation even high tech heavy machineries sometimes prove ineffectual clearing congestions said instructed ward councillors come ideas contain waterlogging city said adding going take crore scheme november improve drainage road condition gulshan banani baridhara within years nobody exactly knows drainage system capital works said canals rivers water retention areas collect carry retain rainwater connected drainage network recent decades successive governments repeatedly ignored warnings urban planners allowing water retention areas flood flow zones ruined real estate projects according urban planner khondaker ansar hossain worked technical expert detailed area plan dhaka city since gazette notification almost conservable wetlands filled government silent approbation alleged\n",
      "\n",
      "Labelled: False \tPredicted: True\n",
      "dhaka drainage natural hydrology improved dhaka known water logging drainage congestion losing past glory natural khals wetlands full fresh water wetlands dhaka divided categories water bodies lowlands comprises surrounding rivers lakes ponds khals lying areas surface water area dhaka central region total land area drainage aspects flood protection storm water discharge interrelated capital water resources threatened human activity well natural causes climate change affecting city particular three ways increased frequency floods drainage congestion heat stress geographic location dhaka suffers river floods annually city also suffers frequent storm water flooding illegal encroachment rivers water bodies lands filling indiscriminate dumping domestic industrial waste rivers canals accelerating drainage congestion result dhaka faces severe storm water flooding heavy rainfall city corporations institutions empowered various planning management responsibilities nothing feeble taking appropriate approaches tackle issues local surface water hydrology around dhaka complex dhaleswari river tributary jamuna river flows south eastern part north central region bangladesh close confluence padma river upper meghna river lakhya river joins dhaleswari downstream buriganga confluence dhaleswari lakhya confluence dhaleswari meets meghna river turn flows padma river downstream results city drainage system influence backwater effects surrounding rivers city experiencing gradual increase water logging last decade course moderate heavy rain causes serious drainage problems many parts process rapid urbanization focusing enough adequate drainage facilities causes water logging temporary inundation parts dhaka several days monsoon brought reality monsoon city drainage depends much water levels peripheral river system situation worsens monsoon runoff generated continuous rainfall coincides high water level river systems encroachment surface water bodies aggravate risk water logging micro drainage system cannot carry load upgraded maintained managed regular basis poor partial overloaded sanitation pose serious health hazard dwellers water logging particularly lying areas needless flood prevention necessary avoid damage property life last decades development flood flow areas within rajuk jurisdiction going despite planning legal restrictions poor monitoring lack enforcement plans legal powers failed dent activities restricted land filled inhabited almost impossible reverse situation practical point view activities promote development areas adverse impacts long authority build conservation zone especially includes flood flow water retention area must preserved maintaining sustainable environment dhaka metropolitan region city authority adopt legal measures innovation economic preserve retention ponds development eastern fringe areas safeguard retention pond areas khals private housings within eastern fringe areas incorporate flood water management higher level structure plan detailed area plan road proposals policies drainage hydrology provided dhaka structure plan policies flood control flood flow zone drainage structure plan followed detailed area plans detailed proposals made based policy framework structure plan dwasa preparing detailed comprehensive storm water drainage master plan efficient drainage network greater dhaka city treated basic document storm water manmade drainage network plan important point note ensure proper timely implementation policies plans moreover imperative develop comprehensive watershed water resources management action plan would account impacts climate change adaptation measures conforming future urban development plans tanvir ahmad urban planner\n",
      "\n",
      "Labelled: False \tPredicted: True\n",
      "devastating cyclone sidr southern districts country including pirojpur november damaged unlimited properties caused loss many lives well local people alleged number loss increased district enough flood control embankments along rivers riverside people demanding construction embankments since cyclone coastal areas years long wait years repair work kilometre embankments pirojpur sadar indurkani bhandaria kawkhali upazilas started last year pirojpur water development board executive engineer sayeed ahammad said started construction work cost crore last year expected complete work june year kilometre embankments kilometre indurkani upazila encircled three rivers kacha baleshwar panguchi meanwhile locals alleged newly constructed embankment bring benefit riverside people built riverside soil surely wash away flood tidal surges every time strong wave kacha river shore washes away soil newly constructed dyke enayet hossain togra village indurkani upazila said besides huge quantity aquatic plants also damaged excavators construction embankment using excavator machines locals alleged shamim howlader another resident village said strong waves river directly embankment wash away soil embankment constructed cannot used even walk another villager sanaullah said textile bags dumped along embankments last long engineer sayeed said adding send proposal higher authorities regard according total kilometre embankments seven upazilas district length stretch kilometres indurkani upazila\n",
      "\n",
      "Labelled: False \tPredicted: True\n",
      "cyclone amphan gaining pace yesterday bangladesh coast near sundarbans early hours tomorrow office warns wind speed kmph amphan located coast yesterday formed bengal saturday weathermen fear weaken hitting coast could devastating cyclone sidr amid coronavirus pandemic cyclone come double blow disadvantaged people coastal regions many reluctant cyclone shelters worried protecting whatever little resources left along existing permanent shelters already prepared another around lakh people could accommodated coronavirus situation mind ensure maintaining social distance among people enamur rahman state minister disaster management relief told daily star yesterday somebody want cyclone shelters enforcers force leave vulnerable areas said shelters located coastal districts khulna barishal chattogram divisions ministry allocated metric tons rice lakh cash lakh children food lakh fodders livestock support people coastal belt stay shelters experience cyclone bulbul foni takes seven eight hours evacuate lakh people homes take shelters state minister said enforcement agencies help people living chars island areas bring mainland today volunteers using loudspeakers urging people move shelters reports correspondents khulna barishal divisions already thousand people moved cyclone shelters satkhira gabura zohora khatun survivor sidr killed four thousand people bangladesh moved chadnimukh high school yesterday afternoon moved hearing announcement cyclone loudspeaker said telephone yesterday evening many however want leave houses leaving behind livestock poultry others complained shelters condition imtiaz uddin fisherman dakkhin bedkashi village koyra upazila told daily star vulnerable affected people cyclone poor embankment leave home shelter cows ducks cyclone shelter half kilometers away home said imtiaz survivor sidr aila severe cyclones bangladesh coast wife mother shelter tomorrow today cyclone instructions come administration said uttam mondal sutorkhali village dacope upazila told daily star people village usually shelters poor environment almost shelters dilapidated windows gates damaged locals shelters said uttam adding privacy women either major crisis comes shelter father said people patuakhali coastal area fearing sudden surge storm area like charipara kuakata lotachapli dulsar kolapara upazila submerged around kilometer long embankment built protect areas damaged repair work still going flood protection damaged area fear water come rushing breach whole village water said abdur rahim charipara village several hundred people remote island dhalchar already evacuated district risky remote islands around three lakh people living want cyclone shelters bring many possible shelters said mohammed masud alam siddique deputy commissioner bhola getting closer amphan thai word meaning ambition strength located southwest payra southwest mongla away bazar chattogram yesterday weaken making landfall could worse cyclone sidr said samarendra karmakar retired director bangladesh meteorological department currently wind speed special bulletin bangladesh meteorological department said cyclone intensify cross bangladesh coast khulna chattogram early tomorrow could however delayed tomorrow evening remain high near cyclone bulletin said office asked chattogram bazar port authorities hoist signal number mongla payra port authorities asked hoist signal number seven means ports experience severe storm coastal districts satkhira khulna bagerhat jhalakathi pirojpur barguna patuakhali bhola barishal laxmipur chandpur noakhali feni chattogram shore islands chars suffer worst storm lying areas districts could inundated fishing boats asked take immediate shelter notice correspondents khulna barishal bhola patuakhali bagerhat pirjojpur noakhali contributed report\n",
      "\n",
      "Labelled: False \tPredicted: True\n",
      "first time visited satkhira tide country student environmental science remember returning pages upon pages focus group discussions villagers living homes nearly everything water logging talked life constantly battling disaster almost villages siege water logging thanks flood control drainage provision projects visiting villages area part disaster management course despite complaints locals back also hopeful project taken government promised completely eradicate water logging area bring back life dying kabodakh river elevate even reclaim land lower lying lands river basin thus effectively creating means adapt climate change bangladesh considered vulnerable countries climate change satkhira believed affected fast forward project meant implemented finally operation around three years beginning show results breathing life back dying river sight dystopian least watching huge dredgers pristine backdrop kabodakh river tala upazila satkhira locals clearly unfazed bizarre sight kabodakh river running dredging time seemed like crisis drawing examples rivers bangladesh know river dies siltation sporadic dredging answer dredge river jumps back original state temporarily siltation process continuous river gets filled south west districts bangladesh problem pronounced rivers subject tidal action everyday twice water rushes high tide incoming tide also comes sediment high speed high tide followed tide water recedes tide however happens lower velocity water speed slows leaves back sediment riverbed eventually raising riverbed process ending killing river completely essentially happened kabodakh river might wonder locals blame flood embankment projects need look back decades following severe floods east pakistan water power development authority epwapda present bangladesh water development board worked towards establishing embankments area protect area flooding coastal embankment project started late continued early polders constructed south west delta decrease saline intrusion flood plains increase agricultural production beginning project looked promising people could three harvests compared harvest however late delta started experience severe problems related drainage congestion water logging meant agricultural production also went areas became permanently waterlogged according report asian development bank rapid sedimentation blamed lack upstream flow helps flushing sediment rivers construction embankments decreased volume water entering river high tide reduced flow velocity speed water tidal rivers consequently sediment started settling rivers essential draining polders made sedimentation occurred mainly lying floodplains river water would sometimes flood nearby plains river bank sediment would settle water retreated river channel tide causing relatively high flow velocity sediment settled floodplains instead riverbed dead tide presence floodplains holding large quantities water rivers would drain large quantity water resulted reduced pace overall sedimentation maintain navigability river embankments effectively limited water flowing river draining lower lying floodplains locals short years relieved flooding river dynamics severely affected made intervention silt sediment brought incoming tide settled river thus slowly filling completely river continued raised compared land areas nearby result rainwater floodwater would drain river thus began years water logging around many upazilas satkhira around years implementation show maps satkhira upazila getting bluer bluer decade know water logging villages upon villages schools agricultural land stagnant water refuses drain project implemented years back thought would relieve people area flooding says jahin shams programme manager uttaran ngos responsible facilitating locals tidal river management basin getting compensation tidal river management project basically born trying times implemented basically aimed bringing back kabodakh river life lower kabodakh river incoming tide highest speed bangladesh government first acquire land broaden channel would take river water towards basin time water rich sediment silt reaches basin speed river water flowing reduces significantly sediment dropped basin rest water drains back finding hard visualise entire process among majority took whopping years university years time tried write story somewhat grasp process actually works work essentially matters since project started operation full swing kabodakh river dredged well remove silt gathered riverbed project essentially resulted silt collected basin lying area influential people used shrimp farming dropping silt basin raised land area merit project land reclamation raising land area also acts defense climate change areas basically level single foot raise level would mean lands left inundated completely project also ensured kabodakh river back life finally water returned river result drain rain water rise water levels mean eventual water logging nearby villages river hold water rain flood water drain back river second important merit project water logging villages around kabodakh river basin since project implemented incidents waterlogging almost completely eradicated even entire country experienced flooding massive scale villages tala upazila upazilas kabodakh basin affected says jahin shams also believes project ensured silt sediment someplace dropped virtue tidal action river less permanent solution crisis also means need regular dredging river project hundred percent free demerits compensation neither measure taken rehabilitate away another area manage land area worked land working shrimp farms gone legal claim land eligible compensation says hajera begum year resident lives mouth basin area come surprise according uttaran budget allocated bangladesh water development board rehabilitate legal land owners area affected connecting channel pakhimara beel kabodakh basin demerit science behind process implementation people whose land acquired broadening channel project ones negatively impacted project people compensation families live around lower kabodakh river among affected duly addressed well simplifying process getting compensation ultra poor people many right legal documents eligible compensation says shams however uttaran organisation responsible ensuring compensation reaches right people working address acquiring documents making runs satkhira land office opines hajera entirely though newly reclaimed land silt deposited seen bumper harvest rice year people even need fertiliser says hajera kabodakh river beautiful setting watch river dolphins come play changing tide dolphins come back river nearly decades easy many people demanding implemented dying rivers well\n",
      "\n",
      "Labelled: False \tPredicted: True\n",
      "district administration officials distributed delicacies clothes among survivors relatives landslide victims shelter homes rangamati kaptai sunday people killed devastating mudslides southeastern districts weeks killed rangamati alone people relatives victims landslide survivors took shelter government houses lost everything disaster rangamati deputy commissioner manzarul mannan superintendent police syed tariqul islam municipality mayor akbar hossain chowdhury took meals residents rangamati government college shelter monday menu pilaf chicken curry eggs vegetable dessert fruits colleagues also visited rangamati radio station centre mannan told reporters distributed cloths among residents shelters arranged special meals initiative district administration brought smile faces inmates shelter homes objectives make feel good festivity also trying rehabilitate soon possible mannan said according district administration rangamati alone families affected landslides flash floods\n",
      "\n",
      "Labelled: False \tPredicted: True\n",
      "heading another major flood siddique august last updated august heavy monsoon rainfall upstream india downstream bangladesh along gradual rise water level major river systems push country towards flood similar historic according water development board flood forecasting warning centre ffwc current trend continues water level jamuna river might danger level friday standard danger level brahmaputra bahadurabad point monsoon water level reached present water level bahadurabad danger level following recent floods heavy rainfall apart brahmaputra water level another northern river teesta also risen abnormal rate last days according ffwc data water level teesta river dalia point danger level kurigram water flowing danger level dharla river sazzad hossain executive engineer ffwc told dhaka tribune trend water level rising jamuna unusual water level gone different points added trend would continue least next three four days hydrology expert prof ainun nishat said huge possibility bangladesh would experience another flood like worst ones country history catastrophic aftermath meanwhile indian meteorological department predicted heavy heavy rainfall assam meghalaya parts jharkhand west bengal bihar states next days projection holds water level ganges systems bangladesh known padma also cross danger level friday saturday river systems ganges brahmaputra meghna river basin also situation water level several others including surma kushiyara rivers already danger level water levels brahmaputra ganges reach highest meghna near danger level friday situation worse spring tide adding water rivers said nishat predicted situation follows track predicted large swathes central bangladesh including munshiganj faridpur madaripur shariatpur tangail kushtia parts dhaka city inundated least days week flood people died million people directly affected around areas districts water also hectares arable land completely damaged hectares partially damaged ffwc sazzad hossain told dhaka tribune highest water level brahmaputra bahadurabad point recorded july last year present trend shows water level ganges brahmaputra meghna might reach highest time weekend like leading catastrophic flood recent floods water flowing danger level points different rivers three basins time water level also rising points rivers across country water level jamuna river sariakandi point danger level punarbhaba river dinajpur tangon river thakurgaon point surma river kanaighat point kangsho river jariajanjail point various parts country also experienced severe rainfall last hours within time bangladesh meteorological department recorded rainfall sunamganj loregarh dinajpur durgapur chittagong panchagarh\n",
      "\n",
      "Labelled: False \tPredicted: True\n",
      "much water bangladesh unknown volume known principal sources water resources bangladesh annual average rainfall daily average delta discharge million seasonally partially parked habitats water criss crossed network rivers east pakistan water power development authority widely known epwapda created january ordinance unified coordinated development utilisation water power resources country independence bangladesh authority restructured organisations dealing water power separately bangladesh water power development boards taking considerations rapidly changing dimensions water resources development government thereafter constituted bangladesh water development board july fully autonomous organization fresh mandate bwdb achievement independence since projects completed roughly projects skimpily embankment appurtenant structures snaking drainage channels including huge irrigation canals built across country cost billion period years besides bwdb reclaimed land meghna estuary construction cross dams water development projects provided increased flood free secured land agriculture enhanced degree safety human lives livestock settlement industry infrastructure wider accessibility multiplicity cropping intensity higher crop yields improved drainage culture fisheries reduced hazards floods surges various components projects made total million hectares agricultural land free flood drainage congestion thereby facilitating production additional food grain amounting million tons number large surface water irrigation projects created necessary infrastructures providing irrigation facilities million hectares thereby producing additional food grain million tons total additional food grain production completed fcdi projects million tons annually additional production third total food grain production country however benefits terms economic returns water development projects shown close zero assessment singly based agricultural output known objective positive impacts embankment serving roads providing micro trading facilities bringing qualitative changes ecology supporting community mobilisation linking national level programmes accelerating infrastructural growth sectors health education food taken account population ambient embankment livelihood dependent hydrological characteristics region hydraulic behaviours water fronts contrary count different experts water development projects never however accused people protected contrary impeded drainage reduced soil moisture degradation soil water quality loss flooded habitats changes hydrological regimes increased agrochemical runoff restricted navigation increased siltation severity flooding land erosion enhanced incidence water borne diseases listed negative impacts undeniably true inadequate consideration given water professionals sustainability rivers canals water quality designing water development project consumptive consumptive water culminating fatal disruption stream hydraulic equilibrium section experts argue embankment obstructing flood pass main cause flood related disasters drainage hazards country therefore stand advocating open channel flow thereby managing foods coping floods observations also register embanking perform failure extreme hydraulic events time real need experts however admit country little option embankments protect backshores mitigation plan drawn environmental social impact assessments unfortunately though flood every year water experts bring issues making water development projects debatable structural intervention quickly disappear recession floods leaving engraved suspicion basic question minds politicians common people justifiability water development projects totality necessary mention percent bangladesh annually flooded severe flooding inundate percent case extreme hydraulic event flooding exceeds percent addition regular astronomical high tides meter cyclones cyclone generated storm surges already experienced climate change induced impacts within next years foreseen permanently inundate percent country land mass affecting health education economy climate change induced impacts deeply relates water issues therefore come forefront present national food requirement based kcal capita million year projected million year perspiring impacts floods nation economy almost every year future challenges bwdb include water food security increased agricultural access food building healthy institution around water sources preservation water future generation strong socio political commitment community participation integrated water resources management global agreement partnership offer partners opportunity national water management plan analytical finding percent incremental food production annum enough meet future demand percent absolute increased population next years achievable simply ensuring improved adequate maintenance water resources projects question even goes beyond protecting life sector infrastructures bwdb completion years service nation needs restructured mandated fulfilment government commitment people country stake role duly played building digital bangladesh strategy achieving needs hour directed towards strictly restricting bwdb within development water resources warpo placed administrative control planning commission neither need feasible scope fcdi development bwdb renamed coastal development board fresh mandate management existing water infrastructures irrespective sizes locations initially except operation maintenance highly technical installations transferred placed administrative control lged optimal benefits dredging organisation mechanical equipment organisation river research institute along others emerge river development authority haor development board allowed function independently revised mandate project level planning designing modeling consolidated enhance efficiency support services saeedur rahman former chief engineer bwdb\n",
      "\n",
      "Labelled: False \tPredicted: True\n",
      "flooded saiful islam august often asked journalists colleagues country recent flood situation line questioning usually whether anything prevent addressing issue managing floods enormous scale important discuss causes common sense dictates prevention always better cure scale devastation caused floods reduced stage work major human induced causes geographically bangladesh located delta three major rivers ganges brahmaputra meghna commonly known basin trans boundary rivers carry flood water four upstream countries china nepal bhutan india heavy rainfall occurs upper parts catchment days straight direct generated excess rainfall carried trans boundary rivers towards country however normal monsoon floods exceed danger level would cause damage property infrastructure agriculture livestock even risk lives recent past observed major floods bangladesh monsoon seasons peak water level crossed highest recorded water levels brahmaputra teesta dharala jamuneswari rivers able blame nature high flood levels many human induced reasons behind human interventions natural river systems changes land pattern catchments make hill slope steeper causing frequent destructive floods human interventions natural river systems changes land pattern catchments make hill slope steeper rivers carrying large amounts sediments ever causing frequent destructive floods urbanisation generates runoff encroachment wetlands embankment confine flood water inside river channel raises flood peak moreover excess sediments raise level exacerbate flood conditions monsoon season important ensure flood control infrastructures functioning properly inadequate improper maintenance embankments water control structures sluices regulators would also assist breaches embankments flood inundation protected sides many centres national centres atmospheric research provide long term seasonal outlooks precipitation modelled provide long term outlooks flooding dredging rivers canals benefit reducing flood peaks also storage reservoir water season also help improving navigability recharging groundwater ensuring sustainability system enhancing fisheries global warming monsoon become damaging recent decades result water holding capacity increased impact climate change hydrological cycles extreme events still active field research many regional climate modelling results showed mean monsoon flow increased brahmaputra basin century moreover level rise expected provide additional pressures backwater effect flood flows studies show intensity rainfall overall precipitation year increase south asia going forward countries sharing common river basin together eliminate made causes floods possible reduce severity floods certain extent otherwise face catastrophic disasters much frequently future saiful islam professor institute water flood management iwfm bangladesh university engineering technology buet\n",
      "\n",
      "Labelled: False \tPredicted: True\n",
      "questioning bwdb officials revealed huge negligence part agency charge supervising projects anti corruption commission director general muhammad munir chowdhury said thursday failed properly implement projects everyone starting director general said measurements repairing dams water projects building repairing submerged dams worth million taken according report national security intelligence investigated corruption projects contractors work securing projects still able secure project works said chowdhury summoned four officials water resource ministry including joint secretary irregularities thursday joint secretary khalilur rahman bangladesh water development board director general jahangir kabir additional director general abdul supervising engineer harun rashid team muhammad munir chowdhury questioned water development board terribly failed implement monitor projects confessed told reporters interrogation bwdb also ignored ministry order take departmental action assigning engineer officer special duty said make comment asked statements director general last year april wrote water resources ministry asking damage crops caving dams sunamganj haor areas ministry filed report february year upon bwdb officers summoned wetlands submerged early april heavy downpour projects completed floods damaged hectares crop fields sunamganj adjoining districts leaving families count massive losses rivers overflew submerged crops rickety incomplete dams caved flash floods three engineers bangladesh water development board suspended following charges corruption building dams\n",
      "\n",
      "Labelled: False \tPredicted: True\n",
      "tuesday july initiative taken protect brahmaputra riverbank kurigram erosion prevent losses properties chilmari ulipur upazilas district water resources ministry plans spend crore billion rein erosion right bank mighty river scheme queue getting ministry sources said continuous river erosion dharla teesta brahmaputra river left total nearly flood protection embankment eight places area destroyed back three year scheme implemented controlling flood ease water discharge protect areas brahmaputra erosion subsequently town protection emergency disaster damage rehabilitation projects initiatives taken stop erosion initiatives flood protection embankment regulators riverbank protection wall groynes spur crossbars constructed present hectares land safe floods following development work flood protection embankment stretches right bank brahmaputra dharla rivers left bank teesta surrounded lalmonirhat kurigram rail line institute water modeling conducted study protect establishments area river recommending undertaking schemes three phases accordingly riverbank protected first phase permanent bank protection word done besides bangladesh water development board bwdb formed technical committee line recommendations permanently protecting erosion prone areas water resources ministry come project proposal compliance bwdb recommendations ministry high official said planning commission already examined different aspects proposal recommended placing ecnec meeting soon final approval scheme riverbank protected existing protection wall reshaped ghats constructed\n",
      "\n",
      "Labelled: False \tPredicted: True\n",
      "bangladesh start fund allocated ngos working quickly provide people worst affected areas food financial assistance water sanitation also funding work assess needs humanitarian staffing lead effective coordination responses said announcement nepal humanitarian staging area kathmandu airport built provides main relief coordination centres government preparedness support oxfam providing immediate relief supplies people emergency shelter wash department international development dfid also supporting overall coordination britain continue monitor situation countries work governments support immediate needs help people communities affected recover flooding receded statement added international development secretary priti patel wednesday announced dfid allocate support flood response nepal including providing clean water sanitation hygiene services well support immediate food security needs health support monsoon flooding landslides affected estimated million million people bangladesh nepal respectively secretary said devastating flooding south asia truly heart breaking stepped support region positioned relief supplies ensured thousands people received immediate support continue provide assistance vulnerable people lost everything secretary said would provide clean water prevent spread deadly crippling diseases continuing work meet immediate needs people ground said government well established response mechanisms place takle floods start fund global multi donor humanitarian response fund managed consortia ngos provides rapid funding within hours emergency unfolding fund specific resources earmarked respond emergencies bangladesh dfid bangladesh also providing help communities recover impact floods earlier year\n",
      "\n",
      "Labelled: False \tPredicted: True\n",
      "whole villages flattened families left mourning death relatives killed trees debris freak storm tore houses overturned cars trucks swept across southern nepal killing least people leaving injured officials said monday major rescue operation gathered pace high winds battered rural district bara adjoining areas late sunday five children among dead home ministry said rescuers battled relief supplies region evacuate injured winds fierce overturned carrying passengers witnesses said houses trees electricity pylons toppled storm whole villages flattened families left mourning death relatives killed trees debris photographer stricken region said overturned cars blocked roads injured victims flocked local hospitals unable cope people airlifted kathmandu treatment people went back houses shelter crushed said prakash bara resident rushed help died right next building tree people fractured bones many head injuries added cold never seen anything like winds took away everything home family babu patel whose wife killed storm told home getting ready dinner storm unbelievable nothing left prakash tharu volunteer bara district said devastation caused storm left desperate need food relief rescuers struggled reach many settlements blocked fallen trees electricity poles security bodies including army working intensely since sunday night rescues relief said rajesh poudel bara district chief every year hundreds landslides floods nepal monsoon season storms causing high casualties spring rare disaster comes nepal nears fourth anniversary devastating earthquake killed nearly people left millions homeless nepal difficult terrain limited infrastructure often leaves emergency workers struggling reach flung areas prime minister sharma expressed condolences said government would best treatment injured provincial government announced free treatment financial assistance families dead\n",
      "\n",
      "Labelled: False \tPredicted: True\n",
      "bwdb suspended sylhet superintending engineer nurul islam sarker additional chief engineer north east region abdul sunamganj executive engineer afsar uddin monday according decision suspension investigation serious allegations irregularities tardiness corruption construction repair dams ministry water resources reconstituted panel investigate crop damage inadequacies construction according ministry disaster management relief hectares farmland damaged families affected floods\n",
      "\n",
      "Labelled: False \tPredicted: True\n",
      "tuesday july dhaka city dwellers facing acute sufferings heavy rain traffic tuesday students office goers worst sufferers heavy rainfall partha protim employee private farm said driven auto rickshaw around rain slowed took half hour reach farmgate huge traffic shown front ruposhi bangla hotel whole intersection inundated mirpur road satrasta occupied huge unmoving traffic inundated roads mohammadpur lalmatia green road shanti nagar motijheel area also went submerged faced huge traffic meanwhile social media platforms flooded pictures videos posted many sufferers commuter saquib azam uploaded photo inundated dhanmondi road facebook facebook user nawrin posted traffic alert group board boat planning come towards bijoy sarani squint emoticon time nomanur rashid posted kawran bazar front hotel sonargaon move need boat najneen nahar posted scenario farm gate took hours uttara farm gate long islampur prevailing rainfall likely linger tomorrow shower might resume weekend slight relapse august already registered average rainfall strong monsoon trend unlikely first half september office says weather forecast says deep convection taking shape north strong monsoon squally weather affect adjoining coastal areas bangladesh prevailing rain might relapse tomorrow said rasheduzzaman meteorologist bangladesh meteorological department fear rain might resume september strong monsoon said convection might last tomorrow hoping tomorrow brighter photos collected facebook\n",
      "\n",
      "Labelled: True \tPredicted: False\n",
      "bangladesh thwarted area flood control indian government today deflected pleas bangladesh international approach flood control south asia announced instead would another joint indian bangladeshi study river waters statement tonight hours talks prime minister rajiv gandhi bangladesh president ershad indian foreign ministry spokesman said task force experts countries would indian press accused bangladesh ingratitude indian assistance recent flood bangladesh asserted india controlling floodwaters bangladesh suffered worst floods history year dead three quarters country farmland inundated called earlier month international study rivers region\n",
      "\n",
      "Labelled: False \tPredicted: True\n",
      "least dead major quake himalayas devastating earthquake rumbled across eastern india nepal dawn sunday killing people authorities said many victims still buried debris homes final toll could much higher quake registered richter scale according seismological observatory delhi struck region soon sunday lasted nearly seconds aftershocks went hour observatory said reports indian newspapers morning said people killed bihar state nepalese home ministry confirmed deaths severe earthquake himalayan region since assam region killed people thousands houses wrecked deaths bihar reported darbhanga munger madhubani districts officials said dwellings destroyed indian newspapers reported today least people injured bihar officials nepal said injured thousands houses collapsed volunteer relief groups cross organizations countries policemen soldiers local residents began digging bodies taking injured survivors hospitals reports casualties pouring affected areas government television station bihar reported obstructed landslides landslides disrupted communications preventing officials obtaining information remote areas said sharma deputy secretary bihar state government telephone late sunday tolls come urban areas sharma spoke patna capital bihar monsoon rain began late june also hindering rescue operations villages said flooded embankments shifted result earthquake today tremors varying intensities felt mile belt india eastern nagaland sweeping across bangladesh delhi north central city jabalpur buildings cracked fell windowpanes doors rattled tens thousands indians nepalese fled streets open spaces victims asleep quake struck rattled began swinging said rudram resident patna dogs began barking house chief minister bihar state bhajwat azad traveled quake area announced immediate relief payments rupees equivalent relatives person killed azad ordered members cabinet devastated areas supervise relief rescue operations indian national government sent doctors nurses workers medicine delhi bihar wells broken roads massive landslides blocked roads isolating towns villages nepalese indian border belt disrupting communications rail lines news agency report quoted residents lahan southeastern nepal saying wells dried main highway riven foot wide fissures devastation largely confined bihar impoverished state eastern nepal including dharan district deaths reported earthquake classified capable causing severe damage still less powerful quake killed people bihar nepal measured richter scale times stronger today severe earthquake region since assam raised level brahmaputra river weeks strong tremor shook northeastern india bangladesh fatalities srivastava director delhi seismological observatory said epicenter sunday quake miles northeast darbhanga border nepal royal birthday deferred nepal sunday officials announced postponement birthday celebrations queen mother disaster prime minister rajiv gandhi india announced plans visit bihar today survey damage srivastava seismologist said tremors caused rubbing indian land mass known geophysical terms indian plate eurasian plate himalaya mountain range forced sudden movements underground faults mountain system indian plate moves north northeast inches year said eurasian plate stationary earthquakes belt running kashmir burma caused grating land masses said continuing process srivastava said adding earthquakes likely coming years region\n",
      "\n"
     ]
    }
   ],
   "source": [
    "# tn, fp\n",
    "# fn, tp\n",
    "temp_df = compare_result(clf_result, data_split, 'TFIDF-LinearSVC')\n",
    "for row in temp_df.loc[temp_df['is_flood']!=temp_df['predict']].iterrows():\n",
    "    print('Labelled:',bool(row[1]['is_flood']),'\\tPredicted:',bool(row[1]['predict']))\n",
    "    print(row[1]['text'])\n",
    "    print()"
   ]
  },
  {
   "cell_type": "code",
   "execution_count": 61,
   "metadata": {},
   "outputs": [
    {
     "data": {
      "text/plain": [
       "[('said', 87.1404938334391),\n",
       " ('water', 66.96030298042184),\n",
       " ('people', 57.1558650604788),\n",
       " ('flood', 47.29048920680541),\n",
       " ('bangladesh', 42.58820037733899),\n",
       " ('river', 37.81809961501673),\n",
       " ('upazila', 37.43312728702954),\n",
       " ('areas', 32.342879079116166),\n",
       " ('district', 32.234923627555894),\n",
       " ('level', 27.363171353658576)]"
      ]
     },
     "execution_count": 61,
     "metadata": {},
     "output_type": "execute_result"
    }
   ],
   "source": [
    "# TFIDF Features\n",
    "from collections import Counter\n",
    "fe = clf_result['TFIDF-LinearSVC']['feature']\n",
    "X = fe.transform(list(data_split['train']['text']))\n",
    "vocab = list(fe.get_feature_names())\n",
    "counts = X.sum(axis=0).A1\n",
    "freq_dist = Counter(dict(zip(vocab, counts)))\n",
    "freq_dist.most_common(10)"
   ]
  },
  {
   "cell_type": "markdown",
   "metadata": {},
   "source": [
    "# Classify new data"
   ]
  },
  {
   "cell_type": "code",
   "execution_count": 118,
   "metadata": {
    "scrolled": true
   },
   "outputs": [
    {
     "name": "stdout",
     "output_type": "stream",
     "text": [
      "13409\n"
     ]
    },
    {
     "data": {
      "text/html": [
       "<div>\n",
       "<style scoped>\n",
       "    .dataframe tbody tr th:only-of-type {\n",
       "        vertical-align: middle;\n",
       "    }\n",
       "\n",
       "    .dataframe tbody tr th {\n",
       "        vertical-align: top;\n",
       "    }\n",
       "\n",
       "    .dataframe thead th {\n",
       "        text-align: right;\n",
       "    }\n",
       "</style>\n",
       "<table border=\"1\" class=\"dataframe\">\n",
       "  <thead>\n",
       "    <tr style=\"text-align: right;\">\n",
       "      <th></th>\n",
       "      <th>abstract</th>\n",
       "      <th>news_keywords</th>\n",
       "      <th>description</th>\n",
       "      <th>keywords</th>\n",
       "      <th>datePublished</th>\n",
       "      <th>dateModified</th>\n",
       "      <th>link</th>\n",
       "      <th>query_info</th>\n",
       "      <th>headline</th>\n",
       "      <th>text</th>\n",
       "      <th>id</th>\n",
       "      <th>connect_filename</th>\n",
       "      <th>newspaper</th>\n",
       "      <th>authors</th>\n",
       "    </tr>\n",
       "  </thead>\n",
       "  <tbody>\n",
       "    <tr>\n",
       "      <th>0</th>\n",
       "      <td>0</td>\n",
       "      <td>0</td>\n",
       "      <td>Massive blackout brings Bangladesh to its knees</td>\n",
       "      <td>[Bangladesh]</td>\n",
       "      <td>2014-11-01 00:00:00</td>\n",
       "      <td>0</td>\n",
       "      <td>https://bdnews24.com/bangladesh/2014/11/01/mas...</td>\n",
       "      <td>{'query': 'bangladesh \"floods\"', 'paper': 'bdn...</td>\n",
       "      <td>Massive blackout brings Bangladesh to its knees</td>\n",
       "      <td>Date Published:2014-11-01 00:00:00      \\nSeve...</td>\n",
       "      <td>5da996ad-b1a9-490e-9c89-d8a34ecc5741</td>\n",
       "      <td>0</td>\n",
       "      <td>bdnews</td>\n",
       "      <td>0</td>\n",
       "    </tr>\n",
       "    <tr>\n",
       "      <th>1</th>\n",
       "      <td>0</td>\n",
       "      <td>0</td>\n",
       "      <td>Nawaz Sharif praises Bangladesh</td>\n",
       "      <td>[Bangladesh]</td>\n",
       "      <td>2014-11-26 00:00:00</td>\n",
       "      <td>0</td>\n",
       "      <td>https://bdnews24.com/bangladesh/2014/11/26/naw...</td>\n",
       "      <td>{'query': 'bangladesh \"floods\"', 'paper': 'bdn...</td>\n",
       "      <td>Nawaz Sharif praises Bangladesh</td>\n",
       "      <td>Date Published:2014-11-26 00:00:00      \\nHe e...</td>\n",
       "      <td>d8c9576a-e4b4-4cfe-af54-dd208f699d75</td>\n",
       "      <td>0</td>\n",
       "      <td>bdnews</td>\n",
       "      <td>0</td>\n",
       "    </tr>\n",
       "    <tr>\n",
       "      <th>2</th>\n",
       "      <td>0</td>\n",
       "      <td>0</td>\n",
       "      <td>Govt files Tk 1 billion compensation suit for ...</td>\n",
       "      <td>[Bangladesh]</td>\n",
       "      <td>2014-12-10 00:00:00</td>\n",
       "      <td>0</td>\n",
       "      <td>https://bdnews24.com/bangladesh/2014/12/10/gov...</td>\n",
       "      <td>{'query': 'bangladesh \"floods\"', 'paper': 'bdn...</td>\n",
       "      <td>Govt files Tk 1 billion compensation suit for ...</td>\n",
       "      <td>Date Published:2014-12-10 00:00:00      \\nThe ...</td>\n",
       "      <td>6b0a37dd-636e-4b84-93c3-e61d90e8524f</td>\n",
       "      <td>0</td>\n",
       "      <td>bdnews</td>\n",
       "      <td>0</td>\n",
       "    </tr>\n",
       "    <tr>\n",
       "      <th>3</th>\n",
       "      <td>0</td>\n",
       "      <td>0</td>\n",
       "      <td>NIA looking for 11 suspects, RAB hands over li...</td>\n",
       "      <td>[Bangladesh]</td>\n",
       "      <td>2014-11-18 00:00:00</td>\n",
       "      <td>0</td>\n",
       "      <td>https://bdnews24.com/bangladesh/2014/11/18/nia...</td>\n",
       "      <td>{'query': 'bangladesh \"floods\"', 'paper': 'bdn...</td>\n",
       "      <td>NIA looking for 11 suspects, RAB hands over li...</td>\n",
       "      <td>Date Published:2014-11-18 00:00:00      \\nRAB,...</td>\n",
       "      <td>f38f604f-bc15-4b17-8a3d-61064a54bb1c</td>\n",
       "      <td>0</td>\n",
       "      <td>bdnews</td>\n",
       "      <td>0</td>\n",
       "    </tr>\n",
       "    <tr>\n",
       "      <th>4</th>\n",
       "      <td>0</td>\n",
       "      <td>0</td>\n",
       "      <td>Major rivers swell to flood new areas across B...</td>\n",
       "      <td>[Bangladesh]</td>\n",
       "      <td>2014-08-30 00:00:00</td>\n",
       "      <td>0</td>\n",
       "      <td>https://bdnews24.com/bangladesh/2014/08/30/maj...</td>\n",
       "      <td>{'query': 'bangladesh \"floods\"', 'paper': 'bdn...</td>\n",
       "      <td>Major rivers swell to flood new areas across B...</td>\n",
       "      <td>Date Published:2014-08-30 00:00:00      \\nBang...</td>\n",
       "      <td>1fb4770d-806c-444c-8a89-9032b7a5f6fd</td>\n",
       "      <td>0</td>\n",
       "      <td>bdnews</td>\n",
       "      <td>0</td>\n",
       "    </tr>\n",
       "  </tbody>\n",
       "</table>\n",
       "</div>"
      ],
      "text/plain": [
       "   abstract news_keywords                                        description  \\\n",
       "0         0             0    Massive blackout brings Bangladesh to its knees   \n",
       "1         0             0                    Nawaz Sharif praises Bangladesh   \n",
       "2         0             0  Govt files Tk 1 billion compensation suit for ...   \n",
       "3         0             0  NIA looking for 11 suspects, RAB hands over li...   \n",
       "4         0             0  Major rivers swell to flood new areas across B...   \n",
       "\n",
       "       keywords        datePublished  dateModified  \\\n",
       "0  [Bangladesh]  2014-11-01 00:00:00             0   \n",
       "1  [Bangladesh]  2014-11-26 00:00:00             0   \n",
       "2  [Bangladesh]  2014-12-10 00:00:00             0   \n",
       "3  [Bangladesh]  2014-11-18 00:00:00             0   \n",
       "4  [Bangladesh]  2014-08-30 00:00:00             0   \n",
       "\n",
       "                                                link  \\\n",
       "0  https://bdnews24.com/bangladesh/2014/11/01/mas...   \n",
       "1  https://bdnews24.com/bangladesh/2014/11/26/naw...   \n",
       "2  https://bdnews24.com/bangladesh/2014/12/10/gov...   \n",
       "3  https://bdnews24.com/bangladesh/2014/11/18/nia...   \n",
       "4  https://bdnews24.com/bangladesh/2014/08/30/maj...   \n",
       "\n",
       "                                          query_info  \\\n",
       "0  {'query': 'bangladesh \"floods\"', 'paper': 'bdn...   \n",
       "1  {'query': 'bangladesh \"floods\"', 'paper': 'bdn...   \n",
       "2  {'query': 'bangladesh \"floods\"', 'paper': 'bdn...   \n",
       "3  {'query': 'bangladesh \"floods\"', 'paper': 'bdn...   \n",
       "4  {'query': 'bangladesh \"floods\"', 'paper': 'bdn...   \n",
       "\n",
       "                                            headline  \\\n",
       "0    Massive blackout brings Bangladesh to its knees   \n",
       "1                    Nawaz Sharif praises Bangladesh   \n",
       "2  Govt files Tk 1 billion compensation suit for ...   \n",
       "3  NIA looking for 11 suspects, RAB hands over li...   \n",
       "4  Major rivers swell to flood new areas across B...   \n",
       "\n",
       "                                                text  \\\n",
       "0  Date Published:2014-11-01 00:00:00      \\nSeve...   \n",
       "1  Date Published:2014-11-26 00:00:00      \\nHe e...   \n",
       "2  Date Published:2014-12-10 00:00:00      \\nThe ...   \n",
       "3  Date Published:2014-11-18 00:00:00      \\nRAB,...   \n",
       "4  Date Published:2014-08-30 00:00:00      \\nBang...   \n",
       "\n",
       "                                     id connect_filename newspaper  authors  \n",
       "0  5da996ad-b1a9-490e-9c89-d8a34ecc5741                0    bdnews        0  \n",
       "1  d8c9576a-e4b4-4cfe-af54-dd208f699d75                0    bdnews        0  \n",
       "2  6b0a37dd-636e-4b84-93c3-e61d90e8524f                0    bdnews        0  \n",
       "3  f38f604f-bc15-4b17-8a3d-61064a54bb1c                0    bdnews        0  \n",
       "4  1fb4770d-806c-444c-8a89-9032b7a5f6fd                0    bdnews        0  "
      ]
     },
     "execution_count": 118,
     "metadata": {},
     "output_type": "execute_result"
    }
   ],
   "source": [
    "def classify_new_data(root_folder, newspapers):\n",
    "    newspapers_files = [os.path.join(root_folder, n+'1_data.json') for n in newspapers]\n",
    "    new_data = pd.DataFrame()\n",
    "    text_set = set()\n",
    "    for i,newspapers_path in enumerate(newspapers_files):\n",
    "        temp_data = json.load(open(newspapers_path))\n",
    "        temp_data2 = []\n",
    "        for t in temp_data:\n",
    "            temp_dict = t['meta']\n",
    "            for k,v in t['article'].items(): temp_dict[k]=v\n",
    "            temp_dict['id'] = t['id']\n",
    "            temp_dict['connect_filename'] = t.get('connect_filename',None)\n",
    "            temp_dict['newspaper'] = newspapers[i]\n",
    "            if t['article']['text'] not in text_set: text_set.add(t['article']['text'])\n",
    "            else: continue\n",
    "            temp_data2.append(temp_dict)\n",
    "        temp_df = pd.DataFrame(temp_data2)\n",
    "        new_data = pd.concat([new_data, temp_df])\n",
    "    new_data = new_data.fillna(0)\n",
    "    new_data = new_data[new_data['connect_filename']==0]\n",
    "    print(len(new_data))\n",
    "root_folder = 'paper_data/all_paper_data'\n",
    "newspapers = ['bdnews', 'dailySun', 'prothomalo', 'dailyObserver', 'theNewNation', \n",
    "              'theIndependent', 'nytimes', 'newAge']\n",
    "new_data = classify_new_data(root_folder, newspapers)"
   ]
  },
  {
   "cell_type": "code",
   "execution_count": 121,
   "metadata": {},
   "outputs": [],
   "source": [
    "def loop_data_train_test(classifier, feature, data_df=None, predictions_folder = 'predictions',\n",
    "                         prev_true_data_df=None, prev_false_data_df=None):\n",
    "    if data_df is None and prev_false_data_df is None: raise Exception('No df_data or prev_dalse_data_df')\n",
    "    if prev_false_data_df is not None: data_df = prev_false_data_df\n",
    "    data_df['org_text'] = list(data_df['text'])\n",
    "    data_df['text'] = data_df['text'].apply(preprocess)\n",
    "    \n",
    "    test_features = feature.transform(list(data_df['text']))\n",
    "    test_pred = classifier.predict(test_features)\n",
    "    \n",
    "    data_df['predict'] = [bool(i) for i in test_pred]\n",
    "    true_new_data = data_df.loc[data_df['predict']]\n",
    "    false_new_data = data_df.loc[~data_df['predict']]\n",
    "    print('Total New Data: {}\\tTrue new Data: {}'.format(len(data_df), len(true_new_data)))\n",
    "    \n",
    "    if prev_true_data_df is not None: df_true_new_data = pd.concat([prev_true_data_df, true_new_data])\n",
    "    else: df_true_new_data = true_new_data\n",
    "    js = df_true_new_data.to_json(orient='records')\n",
    "    json.dump(json.loads(js), open(os.path.join(predictions_folder, 'predicted_isflood.json'), 'w'), indent=2)\n",
    "    \n",
    "    js = false_new_data.to_json(orient='records')\n",
    "    json.dump(json.loads(js), open(os.path.join(predictions_folder, 'predicted_not_isflood.json'), 'w'), indent=2)\n",
    "    return df_true_new_data, false_new_data"
   ]
  },
  {
   "cell_type": "code",
   "execution_count": 122,
   "metadata": {},
   "outputs": [
    {
     "name": "stdout",
     "output_type": "stream",
     "text": [
      "Total New Data: 13409\tTrue new Data: 518\n"
     ]
    }
   ],
   "source": [
    "key = 'TFIDF-LinearSVC'\n",
    "feature = clf_result[key]['feature']\n",
    "prev_true_data_df, prev_false_data_df = get_new_predicted_data()\n",
    "df_true_new_data, false_new_data = loop_data_train_test(classifier, feature, new_data, 'predictions'\n",
    "                                                        prev_true_data_df, prev_false_data_df)"
   ]
  },
  {
   "cell_type": "markdown",
   "metadata": {},
   "source": [
    "### Upload data"
   ]
  },
  {
   "cell_type": "code",
   "execution_count": 47,
   "metadata": {},
   "outputs": [],
   "source": [
    "def upload_data(upload_folder):\n",
    "    if not os.path.isdir(upload_folder): os.mkdir(upload_folder)\n",
    "    for row in prev_false_data_df.sample(n=1000, random_state=32).iterrows():\n",
    "        iid = row[1]['doc_id']\n",
    "        newspaper = row[1]['newspaper']\n",
    "        filename = '{}_data_{}@.txt'.format(newspaper, iid)\n",
    "        text = row[1]['org_text'] + '\\n@#@#'\n",
    "        open(os.path.join(upload_folder, filename),'w').write(text)\n",
    "upload_data(upload_folder = 'upload-notflood')"
   ]
  }
 ],
 "metadata": {
  "kernelspec": {
   "display_name": "bangladesh_venv",
   "language": "python",
   "name": "bangladesh_venv"
  },
  "language_info": {
   "codemirror_mode": {
    "name": "ipython",
    "version": 3
   },
   "file_extension": ".py",
   "mimetype": "text/x-python",
   "name": "python",
   "nbconvert_exporter": "python",
   "pygments_lexer": "ipython3",
   "version": "3.7.2"
  }
 },
 "nbformat": 4,
 "nbformat_minor": 2
}
