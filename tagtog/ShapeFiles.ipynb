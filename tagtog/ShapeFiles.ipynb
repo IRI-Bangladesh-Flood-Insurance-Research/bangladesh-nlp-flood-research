{
 "cells": [
  {
   "cell_type": "code",
   "execution_count": 85,
   "metadata": {},
   "outputs": [],
   "source": [
    "from extract_geography import *\n",
    "import json\n",
    "import geopandas as gpd"
   ]
  },
  {
   "cell_type": "code",
   "execution_count": 68,
   "metadata": {},
   "outputs": [],
   "source": [
    "datesLocationList = json.load(open('datesLocationList.json'))\n",
    "div, dist, upa = original_files('Shapefiles_Final_30_7_2020/Districts_Shapefile_7_15_2020')"
   ]
  },
  {
   "cell_type": "code",
   "execution_count": 69,
   "metadata": {},
   "outputs": [],
   "source": [
    "loc_shp_map = {\n",
    "    'barisal': 'barishal',\n",
    "    'barguna': 'bogura',\n",
    "    'chittagong': 'chattogram',\n",
    "    'jessore': 'jashore',\n",
    "    'maulvibazar': 'moulvibazar',\n",
    "    'nawabganj': 'chapainawabganj',\n",
    "    'netrakona': 'netrokona'\n",
    "}\n",
    "shp_loc_map = {v:k for k,v in loc_shp_map.items()}"
   ]
  },
  {
   "cell_type": "code",
   "execution_count": 111,
   "metadata": {},
   "outputs": [],
   "source": [
    "filepath = 'Shapefiles_Final_30_7_2020/Districts_Shapefile_7_15_2020'\n",
    "gdf = gpd.read_file(filepath)\n",
    "data = []\n",
    "for row in gdf.iterrows():\n",
    "    innerData = row[1].to_dict()\n",
    "    d = innerData['NAME_2'].lower()\n",
    "    dname = shp_loc_map.get(d,d)\n",
    "    total = 0\n",
    "    for k,v in datesLocationList:\n",
    "        y = k.split('-')[0]\n",
    "        innerData[y] = 1 if dname in v else 0\n",
    "        total += 1 if dname in v else 0\n",
    "    innerData['total-dist'] = total\n",
    "    data.append(innerData)"
   ]
  },
  {
   "cell_type": "code",
   "execution_count": 117,
   "metadata": {},
   "outputs": [],
   "source": [
    "gdf2 = gpd.GeoDataFrame(data)\n",
    "gdf2.to_file(filepath)"
   ]
  }
 ],
 "metadata": {
  "kernelspec": {
   "display_name": "bangladesh_venv",
   "language": "python",
   "name": "bangladesh_venv"
  },
  "language_info": {
   "codemirror_mode": {
    "name": "ipython",
    "version": 3
   },
   "file_extension": ".py",
   "mimetype": "text/x-python",
   "name": "python",
   "nbconvert_exporter": "python",
   "pygments_lexer": "ipython3",
   "version": "3.7.2"
  }
 },
 "nbformat": 4,
 "nbformat_minor": 4
}
